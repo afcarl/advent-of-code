{
 "cells": [
  {
   "cell_type": "markdown",
   "metadata": {},
   "source": [
    "# Part 1\n",
    "\n",
    "You decide to head directly to the CPU and fix the printer from there. As you get close, you find an experimental coprocessor doing so much work that the local programs are afraid it will halt and catch fire. This would cause serious issues for the rest of the computer, so you head in and see what you can do.\n",
    "\n",
    "The code it's running seems to be a variant of the kind you saw recently on that tablet. The general functionality seems very similar, but some of the instructions are different:\n",
    "\n",
    "- `set X Y` sets register X to the value of Y.\n",
    "- `sub X Y` decreases register X by the value of Y.\n",
    "- `mul X Y` sets register X to the result of multiplying the value contained in register X by the value of Y.\n",
    "- `jnz X Y` jumps with an offset of the value of Y, but only if the value of X is not zero. (An offset of 2 skips the next instruction, an offset of -1 jumps to the previous instruction, and so on.)\n",
    "\n",
    "Only the instructions listed above are used. The eight registers here, named `a` through `h`, all start at 0.\n",
    "\n",
    "The coprocessor is currently set to some kind of debug mode, which allows for testing, but prevents it from doing any meaningful work.\n",
    "\n",
    "If you run the program (your puzzle input), how many times is the mul instruction invoked?"
   ]
  },
  {
   "cell_type": "code",
   "execution_count": 39,
   "metadata": {},
   "outputs": [],
   "source": [
    "from collections import defaultdict\n",
    "from io import StringIO\n",
    "from textwrap import dedent"
   ]
  },
  {
   "cell_type": "code",
   "execution_count": 2,
   "metadata": {},
   "outputs": [],
   "source": [
    "def _puzzle_input() -> list:\n",
    "    with open('./inputs/day23/input.txt') as f:\n",
    "        return [row.split() for row in f]\n",
    "PUZZLE_INPUT = _puzzle_input()"
   ]
  },
  {
   "cell_type": "code",
   "execution_count": 3,
   "metadata": {},
   "outputs": [],
   "source": [
    "def count_muls(instructions: list) -> int:\n",
    "    registers = defaultdict(lambda: 0)\n",
    "    pos = 0\n",
    "    mul_count = 0\n",
    "    instr_len = len(instructions)\n",
    "    \n",
    "    def _(x):\n",
    "        return registers[x] if x.isalpha() else int(x)\n",
    "    \n",
    "    while pos < instr_len:\n",
    "        instr = instructions[pos]\n",
    "        pos += 1\n",
    "        if instr[0] == 'set':\n",
    "            registers[instr[1]] = _(instr[2])\n",
    "        elif instr[0] == 'sub':\n",
    "            registers[instr[1]] -= _(instr[2])\n",
    "        elif instr[0] == 'mul':\n",
    "            registers[instr[1]] *= _(instr[2])\n",
    "            mul_count += 1\n",
    "        elif instr[0] == 'jnz':\n",
    "            if _(instr[1]) != 0:\n",
    "                pos += _(instr[2]) - 1  # undo the +1 from above\n",
    "    \n",
    "    return mul_count"
   ]
  },
  {
   "cell_type": "code",
   "execution_count": 4,
   "metadata": {},
   "outputs": [
    {
     "data": {
      "text/plain": [
       "5929"
      ]
     },
     "execution_count": 4,
     "metadata": {},
     "output_type": "execute_result"
    }
   ],
   "source": [
    "count_muls(PUZZLE_INPUT)"
   ]
  },
  {
   "cell_type": "markdown",
   "metadata": {},
   "source": [
    "# Part 2\n",
    "\n",
    "Now, it's time to fix the problem.\n",
    "\n",
    "The debug mode switch is wired directly to register `a`. You flip the switch, which makes register `a` now start at `1` when the program is executed.\n",
    "\n",
    "Immediately, the coprocessor begins to overheat. Whoever wrote this program obviously didn't choose a very efficient implementation. You'll need to optimize the program if it has any hope of completing before Santa needs that printer working.\n",
    "\n",
    "The coprocessor's ultimate goal is to determine the final value left in register `h` once the program completes. Technically, if it had that... it wouldn't even need to run the program.\n",
    "\n",
    "After setting register `a` to `1`, if the program were to run to completion, what value would be left in register `h`?"
   ]
  },
  {
   "cell_type": "markdown",
   "metadata": {},
   "source": [
    "Initial conditions:\n",
    "\n",
    "- `a: 1`\n",
    "- `b: 107900`\n",
    "- `c: 124900`\n",
    "- `d: 2`\n",
    "- `e: 2`\n",
    "- `f: 1`\n",
    "- `g: 0`\n",
    "- `h: 0`\n",
    "\n",
    "Decoding the steps, they are adding up the number of prime numbers between b and c."
   ]
  },
  {
   "cell_type": "code",
   "execution_count": 75,
   "metadata": {},
   "outputs": [],
   "source": [
    "def is_prime(x):\n",
    "    for i in range(2, x // 2):\n",
    "        if x % i == 0:\n",
    "            return False\n",
    "    return True"
   ]
  },
  {
   "cell_type": "code",
   "execution_count": 78,
   "metadata": {},
   "outputs": [
    {
     "data": {
      "text/plain": [
       "True"
      ]
     },
     "execution_count": 78,
     "metadata": {},
     "output_type": "execute_result"
    }
   ],
   "source": [
    "is_prime(107903)"
   ]
  },
  {
   "cell_type": "code",
   "execution_count": 81,
   "metadata": {},
   "outputs": [],
   "source": [
    "def run(start, end):\n",
    "    non_prime_count = 0\n",
    "    for x in range(start, end + 1, 17):\n",
    "        if not is_prime(x):\n",
    "            non_prime_count += 1\n",
    "    \n",
    "    return non_prime_count"
   ]
  },
  {
   "cell_type": "code",
   "execution_count": 82,
   "metadata": {},
   "outputs": [
    {
     "data": {
      "text/plain": [
       "907"
      ]
     },
     "execution_count": 82,
     "metadata": {},
     "output_type": "execute_result"
    }
   ],
   "source": [
    "run(start=107900, end=124900)"
   ]
  },
  {
   "cell_type": "code",
   "execution_count": null,
   "metadata": {},
   "outputs": [],
   "source": []
  }
 ],
 "metadata": {
  "kernelspec": {
   "display_name": "Python 3",
   "language": "python",
   "name": "python3"
  },
  "language_info": {
   "codemirror_mode": {
    "name": "ipython",
    "version": 3
   },
   "file_extension": ".py",
   "mimetype": "text/x-python",
   "name": "python",
   "nbconvert_exporter": "python",
   "pygments_lexer": "ipython3",
   "version": "3.6.3"
  }
 },
 "nbformat": 4,
 "nbformat_minor": 2
}
