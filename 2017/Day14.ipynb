{
 "cells": [
  {
   "cell_type": "markdown",
   "metadata": {},
   "source": [
    "# Part 1\n",
    "\n",
    "Suddenly, a scheduled job activates the system's disk defragmenter. Were the situation different, you might sit and watch it for a while, but today, you just don't have that kind of time. It's soaking up valuable system resources that are needed elsewhere, and so the only option is to help it finish its task as soon as possible.\n",
    "\n",
    "The disk in question consists of a 128x128 grid; each square of the grid is either free or used. On this disk, the state of the grid is tracked by the bits in a sequence of knot hashes.\n",
    "\n",
    "A total of 128 knot hashes are calculated, each corresponding to a single row in the grid; each hash contains 128 bits which correspond to individual grid squares. Each bit of a hash indicates whether that square is free (0) or used (1).\n",
    "\n",
    "The hash inputs are a key string (your puzzle input), a dash, and a number from 0 to 127 corresponding to the row. For example, if your key string were `flqrgnkx`, then the first row would be given by the bits of the knot hash of `flqrgnkx-0`, the second row from the bits of the knot hash of `flqrgnkx-1`, and so on until the last row, `flqrgnkx-127`.\n",
    "\n",
    "The output of a knot hash is traditionally represented by 32 hexadecimal digits; each of these digits correspond to 4 bits, for a total of `4 * 32 = 128` bits. To convert to bits, turn each hexadecimal digit to its equivalent binary value, high-bit first: 0 becomes 0000, 1 becomes 0001, e becomes 1110, f becomes 1111, and so on; a hash that begins with `a0c2017...` in hexadecimal would begin with `10100000110000100000000101110000...` in binary.\n",
    "\n",
    "Continuing this process, the first 8 rows and columns for key `flqrgnkx` appear as follows, using # to denote used squares, and . to denote free ones:\n",
    "\n",
    "```\n",
    "##.#.#..-->\n",
    ".#.#.#.#   \n",
    "....#.#.   \n",
    "#.#.##.#   \n",
    ".##.#...   \n",
    "##..#..#   \n",
    ".#...#..   \n",
    "##.#.##.-->\n",
    "|      |   \n",
    "V      V   \n",
    "```\n",
    "\n",
    "In this example, 8108 squares are used across the entire 128x128 grid.\n",
    "\n",
    "Given your actual key string, how many squares are used?\n",
    "\n",
    "Your puzzle input is `amgozmfv`."
   ]
  },
  {
   "cell_type": "code",
   "execution_count": 1,
   "metadata": {},
   "outputs": [],
   "source": [
    "from functools import reduce\n",
    "from itertools import chain\n",
    "from operator import xor"
   ]
  },
  {
   "cell_type": "markdown",
   "metadata": {},
   "source": [
    "Next three cells copied from Day 10 exercise."
   ]
  },
  {
   "cell_type": "code",
   "execution_count": 2,
   "metadata": {},
   "outputs": [],
   "source": [
    "def pzl_input(input_):\n",
    "    return [ord(c) for c in input_] + [17, 31, 73, 47, 23]"
   ]
  },
  {
   "cell_type": "code",
   "execution_count": 3,
   "metadata": {},
   "outputs": [],
   "source": [
    "def hasher(list_: list, lengths: list, pos=0, skip_size=0):\n",
    "    list_len = len(list_)\n",
    "    \n",
    "    def _(x):\n",
    "        return None if x < 0 else x\n",
    "    \n",
    "    for len_ in lengths:\n",
    "        if len_ <= 1:\n",
    "            pass\n",
    "        elif (pos + len_) < list_len:\n",
    "            # no wrapping\n",
    "            fslice = slice(pos, pos + len_)\n",
    "            rslice = slice(_(pos + len_ - 1), _(pos - 1), -1)\n",
    "            list_[fslice] = list_[rslice]\n",
    "        else:\n",
    "            # wrapping\n",
    "            end_slice = slice(pos, pos + len_)\n",
    "            front_slice = slice(0, len_ - (list_len - pos))\n",
    "            selected = (list_[end_slice] + list_[front_slice])[::-1]\n",
    "            list_[end_slice] = selected[:(list_len - pos)]\n",
    "            list_[front_slice] = selected[(list_len - pos):]\n",
    "        \n",
    "        pos = (pos + len_ + skip_size) % list_len\n",
    "        skip_size += 1\n",
    "\n",
    "    return list_, pos, skip_size"
   ]
  },
  {
   "cell_type": "code",
   "execution_count": 4,
   "metadata": {},
   "outputs": [],
   "source": [
    "def knot_hash(lengths):\n",
    "    pos = 0\n",
    "    skip_size = 0\n",
    "    list_ = list(range(256))\n",
    "    \n",
    "    for _ in range(64):\n",
    "        _, pos, skip_size = hasher(list_, lengths, pos, skip_size)\n",
    "\n",
    "    return ''.join(\n",
    "        hex(reduce(xor, list_[i:i + 16]))[2:].zfill(2)\n",
    "        for i in range(0, 256, 16))"
   ]
  },
  {
   "cell_type": "code",
   "execution_count": 5,
   "metadata": {},
   "outputs": [
    {
     "data": {
      "text/plain": [
       "'0b11'"
      ]
     },
     "execution_count": 5,
     "metadata": {},
     "output_type": "execute_result"
    }
   ],
   "source": [
    "bin(int('3', 16))"
   ]
  },
  {
   "cell_type": "code",
   "execution_count": 6,
   "metadata": {},
   "outputs": [],
   "source": [
    "def hex_to_binary(hex_str):\n",
    "    yield from chain.from_iterable(bin(int(c, 16))[2:].zfill(4) for c in hex_str)"
   ]
  },
  {
   "cell_type": "code",
   "execution_count": 44,
   "metadata": {},
   "outputs": [],
   "source": [
    "assert ''.join(hex_to_binary('a0c20170')) == '10100000110000100000000101110000', ''.join(hex_to_binary('a0c2017'))"
   ]
  },
  {
   "cell_type": "code",
   "execution_count": 43,
   "metadata": {},
   "outputs": [],
   "source": [
    "assert len(''.join(hex_to_binary(knot_hash(pzl_input('flqrgnkx-2'))))) == 128"
   ]
  },
  {
   "cell_type": "code",
   "execution_count": 42,
   "metadata": {},
   "outputs": [],
   "source": [
    "assert ''.join(hex_to_binary(knot_hash(pzl_input('flqrgnkx-0'))))[:8] == '11010100'\n",
    "assert ''.join(hex_to_binary(knot_hash(pzl_input('flqrgnkx-1'))))[:8] == '01010101'\n",
    "assert ''.join(hex_to_binary(knot_hash(pzl_input('flqrgnkx-2'))))[:8] == '00001010'"
   ]
  },
  {
   "cell_type": "code",
   "execution_count": 45,
   "metadata": {},
   "outputs": [],
   "source": [
    "rows = ('flqrgnkx-' + str(i) for i in range(128))\n",
    "result = sum(int(x) for row in rows for x in hex_to_binary(knot_hash(pzl_input(row))))\n",
    "assert  result == 8108, result"
   ]
  },
  {
   "cell_type": "code",
   "execution_count": 46,
   "metadata": {},
   "outputs": [
    {
     "data": {
      "text/plain": [
       "8222"
      ]
     },
     "execution_count": 46,
     "metadata": {},
     "output_type": "execute_result"
    }
   ],
   "source": [
    "rows = ('amgozmfv-' + str(i) for i in range(128))\n",
    "sum(int(x) for row in rows for x in hex_to_binary(knot_hash(pzl_input(row))))"
   ]
  },
  {
   "cell_type": "markdown",
   "metadata": {},
   "source": [
    "# Part 2\n",
    "\n",
    "Now, all the defragmenter needs to know is the number of regions. A region is a group of used squares that are all adjacent, not including diagonals. Every used square is in exactly one region: lone used squares form their own isolated regions, while several adjacent squares all count as a single region.\n",
    "\n",
    "In the example above, the following nine regions are visible, each marked with a distinct digit:\n",
    "\n",
    "```\n",
    "11.2.3..-->\n",
    ".1.2.3.4   \n",
    "....5.6.   \n",
    "7.8.55.9   \n",
    ".88.5...   \n",
    "88..5..8   \n",
    ".8...8..   \n",
    "88.8.88.-->\n",
    "|      |   \n",
    "V      V   \n",
    "```\n",
    "\n",
    "Of particular interest is the region marked 8; while it does not appear contiguous in this small view, all of the squares marked 8 are connected when considering the whole 128x128 grid. In total, in this example, 1242 regions are present.\n",
    "\n",
    "How many regions are present given your key string?"
   ]
  },
  {
   "cell_type": "code",
   "execution_count": 7,
   "metadata": {},
   "outputs": [],
   "source": [
    "import itertools\n",
    "\n",
    "import numpy as np"
   ]
  },
  {
   "cell_type": "code",
   "execution_count": 8,
   "metadata": {},
   "outputs": [
    {
     "data": {
      "text/plain": [
       "array([[1, 1, 0, ..., 1, 1, 0],\n",
       "       [0, 1, 0, ..., 1, 0, 0],\n",
       "       [0, 0, 0, ..., 0, 0, 1],\n",
       "       ..., \n",
       "       [1, 1, 1, ..., 1, 0, 0],\n",
       "       [1, 1, 0, ..., 1, 0, 1],\n",
       "       [0, 0, 1, ..., 1, 1, 0]], dtype=int8)"
      ]
     },
     "execution_count": 8,
     "metadata": {},
     "output_type": "execute_result"
    }
   ],
   "source": [
    "rows = ('flqrgnkx-' + str(i) for i in range(128))\n",
    "arr = np.int8([list(hex_to_binary(knot_hash(pzl_input(row)))) for row in rows])\n",
    "arr"
   ]
  },
  {
   "cell_type": "code",
   "execution_count": 11,
   "metadata": {
    "scrolled": true
   },
   "outputs": [
    {
     "data": {
      "text/plain": [
       "(128, 128)"
      ]
     },
     "execution_count": 11,
     "metadata": {},
     "output_type": "execute_result"
    }
   ],
   "source": [
    "arr.shape"
   ]
  },
  {
   "cell_type": "code",
   "execution_count": 9,
   "metadata": {},
   "outputs": [],
   "source": [
    "def in_bounds(shape, point):\n",
    "    if 0 <= point[0] < shape[0] and 0 <= point[1] < shape[1]:\n",
    "        return True\n",
    "    else:\n",
    "        return False"
   ]
  },
  {
   "cell_type": "code",
   "execution_count": 16,
   "metadata": {},
   "outputs": [],
   "source": [
    "assert in_bounds((10, 10), (0, 0)) is True\n",
    "assert in_bounds((10, 10), (-1, 0)) is False\n",
    "assert in_bounds((10, 10), (10, 0)) is False\n",
    "assert in_bounds((10, 10), (10, 10)) is False\n",
    "assert in_bounds((10, 10), (6, 7)) is True"
   ]
  },
  {
   "cell_type": "code",
   "execution_count": 10,
   "metadata": {},
   "outputs": [],
   "source": [
    "def connect_neighbors(grid, segments, pos, segment_no=None):\n",
    "    segment_no = segment_no or (max(segments.values(), default=0) + 1)\n",
    "    segments[pos] = segment_no\n",
    "    for dir_ in ((1, 0), (0, 1), (-1, 0), (0, -1)):\n",
    "        neighbor = (pos[0] + dir_[0], pos[1] + dir_[1])\n",
    "        if neighbor not in segments and in_bounds(grid.shape, neighbor) and grid[neighbor] == 1:\n",
    "            connect_neighbors(grid, segments, neighbor, segment_no)"
   ]
  },
  {
   "cell_type": "code",
   "execution_count": 11,
   "metadata": {},
   "outputs": [],
   "source": [
    "def segment(grid: np.array) -> dict:\n",
    "    nrows, ncols = grid.shape\n",
    "    segments = {}\n",
    "    for pos in itertools.product(range(nrows), range(ncols)):\n",
    "        if grid[pos] == 1 and pos not in segments:\n",
    "            connect_neighbors(grid, segments, pos)\n",
    "    return segments"
   ]
  },
  {
   "cell_type": "code",
   "execution_count": 14,
   "metadata": {},
   "outputs": [],
   "source": [
    "def segments_to_array(segments: dict, shape: np.array) -> np.array:\n",
    "    grid = np.zeros(shape, dtype=np.int_)\n",
    "    for pos, seg in segments.items():\n",
    "        grid[pos] = seg\n",
    "    return grid"
   ]
  },
  {
   "cell_type": "markdown",
   "metadata": {},
   "source": [
    "Validating the test case. The numbers come out different because of the bigger grid, but it should look the same as the test case above in terms of segmentation."
   ]
  },
  {
   "cell_type": "code",
   "execution_count": 16,
   "metadata": {},
   "outputs": [],
   "source": [
    "result = segments_to_array(segment(arr), arr.shape)"
   ]
  },
  {
   "cell_type": "code",
   "execution_count": 17,
   "metadata": {
    "scrolled": true
   },
   "outputs": [
    {
     "data": {
      "text/plain": [
       "array([[ 1,  1,  0,  2,  0,  3,  0,  0],\n",
       "       [ 0,  1,  0,  2,  0,  3,  0,  4],\n",
       "       [ 0,  0,  0,  0, 30,  0, 31,  0],\n",
       "       [38,  0,  5,  0, 30, 30,  0, 39],\n",
       "       [ 0,  5,  5,  0, 30,  0,  0,  0],\n",
       "       [ 5,  5,  0,  0, 30,  0,  0,  5],\n",
       "       [ 0,  5,  0,  0,  0,  5,  0,  0],\n",
       "       [ 5,  5,  0,  5,  0,  5,  5,  0]])"
      ]
     },
     "execution_count": 17,
     "metadata": {},
     "output_type": "execute_result"
    }
   ],
   "source": [
    "result[:8, :8]"
   ]
  },
  {
   "cell_type": "code",
   "execution_count": 19,
   "metadata": {},
   "outputs": [],
   "source": [
    "assert result.max() == 1242"
   ]
  },
  {
   "cell_type": "code",
   "execution_count": 18,
   "metadata": {},
   "outputs": [
    {
     "data": {
      "text/plain": [
       "1086"
      ]
     },
     "execution_count": 18,
     "metadata": {},
     "output_type": "execute_result"
    }
   ],
   "source": [
    "rows = ('amgozmfv-' + str(i) for i in range(128))\n",
    "arr = np.int8([list(hex_to_binary(knot_hash(pzl_input(row)))) for row in rows])\n",
    "segments = segment(arr)\n",
    "max(segments.values())"
   ]
  },
  {
   "cell_type": "code",
   "execution_count": null,
   "metadata": {},
   "outputs": [],
   "source": []
  }
 ],
 "metadata": {
  "kernelspec": {
   "display_name": "Python 3",
   "language": "python",
   "name": "python3"
  },
  "language_info": {
   "codemirror_mode": {
    "name": "ipython",
    "version": 3
   },
   "file_extension": ".py",
   "mimetype": "text/x-python",
   "name": "python",
   "nbconvert_exporter": "python",
   "pygments_lexer": "ipython3",
   "version": "3.6.3"
  }
 },
 "nbformat": 4,
 "nbformat_minor": 2
}
