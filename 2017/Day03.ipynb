{
 "cells": [
  {
   "cell_type": "markdown",
   "metadata": {},
   "source": [
    "# Part 1\n",
    "\n",
    "You come across an experimental new kind of memory stored on an infinite two-dimensional grid.\n",
    "\n",
    "Each square on the grid is allocated in a spiral pattern starting at a location marked 1 and then counting up while spiraling outward. For example, the first few squares are allocated like this:\n",
    "\n",
    "```\n",
    "17  16  15  14  13\n",
    "18   5   4   3  12\n",
    "19   6   1   2  11\n",
    "20   7   8   9  10\n",
    "21  22  23---> ...\n",
    "```\n",
    "\n",
    "While this is very space-efficient (no squares are skipped), requested data must be carried back to square 1 (the location of the only access port for this memory system) by programs that can only move up, down, left, or right. They always take the shortest path: the Manhattan Distance between the location of the data and square 1.\n",
    "\n",
    "For example:\n",
    "\n",
    "- Data from square 1 is carried 0 steps, since it's at the access port.\n",
    "- Data from square 12 is carried 3 steps, such as: down, left, left.\n",
    "- Data from square 23 is carried only 2 steps: up twice.\n",
    "- Data from square 1024 must be carried 31 steps.\n",
    "- How many steps are required to carry the data from the square identified in your puzzle input all the way to the access port?\n",
    "\n",
    "Your puzzle input is 361527."
   ]
  },
  {
   "cell_type": "code",
   "execution_count": 3,
   "metadata": {},
   "outputs": [],
   "source": [
    "import itertools"
   ]
  },
  {
   "cell_type": "code",
   "execution_count": 10,
   "metadata": {},
   "outputs": [],
   "source": [
    "def num_steps(start):\n",
    "    steps = 0\n",
    "    if start == 1:\n",
    "        return steps\n",
    "    \n",
    "    # first find which square we're on, 3x3, 5x5, etc.\n",
    "    for i, side in enumerate(itertools.count(3, 2), start=1):\n",
    "        if start <= side ** 2:\n",
    "            sides = side\n",
    "            steps += i\n",
    "            break\n",
    "    \n",
    "    # figure out how far to the middle of this side of the square\n",
    "    highest_middle = sides ** 2 - (sides // 2)\n",
    "    middles = [highest_middle - (sides - 1) * i for i in range(4)]\n",
    "    closest_middle = min(middles, key=lambda x: abs(x - start))\n",
    "    steps += abs(start - closest_middle)\n",
    "    \n",
    "    return steps"
   ]
  },
  {
   "cell_type": "code",
   "execution_count": 11,
   "metadata": {},
   "outputs": [],
   "source": [
    "assert num_steps(1) == 0\n",
    "assert num_steps(12) == 3\n",
    "assert num_steps(23) == 2, num_steps(23)\n",
    "assert num_steps(1024) == 31, num_steps(1024)"
   ]
  },
  {
   "cell_type": "code",
   "execution_count": 12,
   "metadata": {},
   "outputs": [
    {
     "data": {
      "text/plain": [
       "326"
      ]
     },
     "execution_count": 12,
     "metadata": {},
     "output_type": "execute_result"
    }
   ],
   "source": [
    "num_steps(361527)"
   ]
  },
  {
   "cell_type": "markdown",
   "metadata": {},
   "source": [
    "# Part 2\n",
    "\n",
    "As a stress test on the system, the programs here clear the grid and then store the value 1 in square 1. Then, in the same allocation order as shown above, they store the sum of the values in all adjacent squares, including diagonals.\n",
    "\n",
    "So, the first few squares' values are chosen as follows:\n",
    "\n",
    "- Square 1 starts with the value 1.\n",
    "- Square 2 has only one adjacent filled square (with value 1), so it also stores 1.\n",
    "- Square 3 has both of the above squares as neighbors and stores the sum of their values, 2.\n",
    "- Square 4 has all three of the aforementioned squares as neighbors and stores the sum of their values, 4.\n",
    "- Square 5 only has the first and fourth squares as neighbors, so it gets the value 5.\n",
    "- Once a square is written, its value does not change. Therefore, the first few squares would receive the following values:\n",
    "\n",
    "```\n",
    "147  142  133  122   59\n",
    "304    5    4    2   57\n",
    "330   10    1    1   54\n",
    "351   11   23   25   26\n",
    "362  747  806--->   ...\n",
    "```\n",
    "\n",
    "What is the first value written that is larger than your puzzle input?"
   ]
  },
  {
   "cell_type": "code",
   "execution_count": 23,
   "metadata": {},
   "outputs": [],
   "source": [
    "import itertools\n",
    "from collections import defaultdict\n",
    "\n",
    "import numpy as np"
   ]
  },
  {
   "cell_type": "code",
   "execution_count": 53,
   "metadata": {},
   "outputs": [],
   "source": [
    "directions = {\n",
    "    'up': np.array([0, 1]),\n",
    "    'down': np.array([0, -1]),\n",
    "    'left': np.array([-1, 0]),\n",
    "    'right': np.array([1, 0])\n",
    "}\n",
    "\n",
    "turns = {\n",
    "    'right': 'up',\n",
    "    'up': 'left',\n",
    "    'left': 'down',\n",
    "    'down': 'right'\n",
    "}\n",
    "\n",
    "def grid_path():\n",
    "    pos = np.array([0, 0])\n",
    "    direction = 'right'\n",
    "    num_steps = 1\n",
    "    step_counter = 0\n",
    "    sides_traversed = 0\n",
    "    \n",
    "    while True:\n",
    "        yield tuple(pos)\n",
    "        \n",
    "        pos = pos + directions[direction]\n",
    "        step_counter += 1\n",
    "        \n",
    "        # time for a turn\n",
    "        if step_counter == num_steps:\n",
    "            direction = turns[direction]\n",
    "            step_counter = 0\n",
    "            sides_traversed += 1\n",
    "            \n",
    "            # every 2 turns increase the number of steps taken\n",
    "            if sides_traversed == 2:\n",
    "                num_steps += 1\n",
    "                sides_traversed = 0"
   ]
  },
  {
   "cell_type": "code",
   "execution_count": 31,
   "metadata": {},
   "outputs": [
    {
     "data": {
      "text/plain": [
       "[(0, 0),\n",
       " (1, 0),\n",
       " (1, 1),\n",
       " (0, 1),\n",
       " (-1, 1),\n",
       " (-1, 0),\n",
       " (-1, -1),\n",
       " (0, -1),\n",
       " (1, -1),\n",
       " (2, -1)]"
      ]
     },
     "execution_count": 31,
     "metadata": {},
     "output_type": "execute_result"
    }
   ],
   "source": [
    "list(itertools.islice(grid_path(), 10))"
   ]
  },
  {
   "cell_type": "code",
   "execution_count": 49,
   "metadata": {},
   "outputs": [],
   "source": [
    "surroundings = list(itertools.product([-1, 0, 1], [-1, 0, 1]))\n",
    "surroundings.remove((0, 0))\n",
    "\n",
    "def spiral_grid_accum(pzl_input):\n",
    "    grid = defaultdict(lambda: 0)\n",
    "    grid[(0, 0)] = 1\n",
    "    \n",
    "    for pos in grid_path():\n",
    "        if grid[pos] > pzl_input:\n",
    "            return grid[pos]\n",
    "    \n",
    "        for x in surroundings:\n",
    "            grid[(tuple(np.add(pos, x)))] += grid[pos]"
   ]
  },
  {
   "cell_type": "code",
   "execution_count": 46,
   "metadata": {},
   "outputs": [
    {
     "data": {
      "text/plain": [
       "[(-1, -1), (-1, 0), (-1, 1), (0, -1), (0, 1), (1, -1), (1, 0), (1, 1)]"
      ]
     },
     "execution_count": 46,
     "metadata": {},
     "output_type": "execute_result"
    }
   ],
   "source": [
    "surroundings"
   ]
  },
  {
   "cell_type": "code",
   "execution_count": 51,
   "metadata": {},
   "outputs": [],
   "source": [
    "assert spiral_grid_accum(4) == 5, spiral_grid_accum(4)\n",
    "assert spiral_grid_accum(100) == 122, spiral_grid_accum(100)"
   ]
  },
  {
   "cell_type": "code",
   "execution_count": 52,
   "metadata": {},
   "outputs": [
    {
     "data": {
      "text/plain": [
       "363010"
      ]
     },
     "execution_count": 52,
     "metadata": {},
     "output_type": "execute_result"
    }
   ],
   "source": [
    "spiral_grid_accum(361527)"
   ]
  },
  {
   "cell_type": "code",
   "execution_count": null,
   "metadata": {},
   "outputs": [],
   "source": []
  }
 ],
 "metadata": {
  "kernelspec": {
   "display_name": "Python 3",
   "language": "python",
   "name": "python3"
  },
  "language_info": {
   "codemirror_mode": {
    "name": "ipython",
    "version": 3
   },
   "file_extension": ".py",
   "mimetype": "text/x-python",
   "name": "python",
   "nbconvert_exporter": "python",
   "pygments_lexer": "ipython3",
   "version": "3.6.3"
  }
 },
 "nbformat": 4,
 "nbformat_minor": 2
}
