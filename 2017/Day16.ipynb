{
 "cells": [
  {
   "cell_type": "markdown",
   "metadata": {},
   "source": [
    "# Part 1\n",
    "\n",
    "You come upon a very unusual sight; a group of programs here appear to be dancing.\n",
    "\n",
    "There are sixteen programs in total, named a through p. They start by standing in a line: a stands in position 0, b stands in position 1, and so on until p, which stands in position 15.\n",
    "\n",
    "The programs' dance consists of a sequence of dance moves:\n",
    "\n",
    "- Spin, written sX, makes X programs move from the end to the front, but maintain their order otherwise. (For example, s3 on abcde produces cdeab).\n",
    "- Exchange, written xA/B, makes the programs at positions A and B swap places.\n",
    "- Partner, written pA/B, makes the programs named A and B swap places.\n",
    "\n",
    "For example, with only five programs standing in a line (abcde), they could do the following dance:\n",
    "\n",
    "- s1, a spin of size 1: eabcd.\n",
    "- x3/4, swapping the last two programs: eabdc.\n",
    "- pe/b, swapping programs e and b: baedc.\n",
    "\n",
    "After finishing their dance, the programs end up in order baedc.\n",
    "\n",
    "You watch the dance for a while and record their dance moves (your puzzle input). In what order are the programs standing after their dance?"
   ]
  },
  {
   "cell_type": "code",
   "execution_count": 1,
   "metadata": {},
   "outputs": [],
   "source": [
    "import string"
   ]
  },
  {
   "cell_type": "code",
   "execution_count": 78,
   "metadata": {},
   "outputs": [],
   "source": [
    "n_to_a = {i: c for i, c in enumerate(string.ascii_lowercase)}"
   ]
  },
  {
   "cell_type": "code",
   "execution_count": 73,
   "metadata": {},
   "outputs": [],
   "source": [
    "def puzzle_input():\n",
    "    a_to_n = {c: i for i, c in enumerate(string.ascii_lowercase)}\n",
    "    type_map = {'s': 0, 'x': 1, 'p': 2}\n",
    "    moves = []\n",
    "    with open('./inputs/day16/input.txt') as f:\n",
    "        for move in f.read().split(','):\n",
    "            if move[0] == 's':\n",
    "                moves.append((type_map['s'], int(move[1:])))\n",
    "            elif move[0] == 'x':\n",
    "                moves.append((type_map['x'], tuple(int(x) for x in move[1:].split('/'))))\n",
    "            elif move[0] == 'p':\n",
    "                moves.append((type_map['p'], tuple(a_to_n[c] for c in move[1:].split('/'))))\n",
    "    return moves"
   ]
  },
  {
   "cell_type": "code",
   "execution_count": 74,
   "metadata": {},
   "outputs": [
    {
     "data": {
      "text/plain": [
       "[(1, (11, 4)), (2, (3, 7)), (1, (10, 5)), (0, 3), (1, (0, 7))]"
      ]
     },
     "execution_count": 74,
     "metadata": {},
     "output_type": "execute_result"
    }
   ],
   "source": [
    "puzzle_input()[:5]"
   ]
  },
  {
   "cell_type": "code",
   "execution_count": 88,
   "metadata": {},
   "outputs": [],
   "source": [
    "def dance(num: int, array: list, moves: list) -> str:\n",
    "    for move in moves:\n",
    "        if move[0] == 0:\n",
    "            spin = move[1]\n",
    "            pivot = num - spin\n",
    "            array[:spin], array[spin:] = array[pivot:], array[:pivot]\n",
    "        elif move[0] == 1:\n",
    "            pos1, pos2 = move[1]\n",
    "            array[pos1], array[pos2] = array[pos2], array[pos1]\n",
    "        elif move[0] == 2:\n",
    "            c1, c2 = move[1]\n",
    "            pos_map = {val: pos for pos, val in enumerate(array)}\n",
    "            array[pos_map[c2]], array[pos_map[c1]] = c1, c2"
   ]
  },
  {
   "cell_type": "code",
   "execution_count": 89,
   "metadata": {},
   "outputs": [],
   "source": [
    "num = 5\n",
    "array = list(range(num))\n",
    "dance(num, array, [(0, 1), (1, (3, 4)), (2, (4, 1))])\n",
    "result = ''.join(n_to_a[i] for i in array)\n",
    "assert result == 'baedc', result"
   ]
  },
  {
   "cell_type": "code",
   "execution_count": 90,
   "metadata": {},
   "outputs": [
    {
     "data": {
      "text/plain": [
       "'ehdpincaogkblmfj'"
      ]
     },
     "execution_count": 90,
     "metadata": {},
     "output_type": "execute_result"
    }
   ],
   "source": [
    "num = 16\n",
    "input_ = puzzle_input()\n",
    "array = list(range(num))\n",
    "dance(num, array, input_)\n",
    "''.join(n_to_a[i] for i in array)"
   ]
  },
  {
   "cell_type": "markdown",
   "metadata": {},
   "source": [
    "Answer: `ehdpincaogkblmfj`"
   ]
  },
  {
   "cell_type": "code",
   "execution_count": 91,
   "metadata": {},
   "outputs": [
    {
     "name": "stdout",
     "output_type": "stream",
     "text": [
      "10.9 ms ± 400 µs per loop (mean ± std. dev. of 7 runs, 100 loops each)\n"
     ]
    }
   ],
   "source": [
    "%timeit dance(num, array, input_)"
   ]
  },
  {
   "cell_type": "markdown",
   "metadata": {},
   "source": [
    "# Part 2\n",
    "\n",
    "Now that you're starting to get a feel for the dance moves, you turn your attention to the dance as a whole.\n",
    "\n",
    "Keeping the positions they ended up in from their previous dance, the programs perform it again and again: including the first dance, a total of one billion (1000000000) times.\n",
    "\n",
    "In the example above, their second dance would begin with the order baedc, and use the same dance moves:\n",
    "\n",
    "- s1, a spin of size 1: cbaed.\n",
    "- x3/4, swapping the last two programs: cbade.\n",
    "- pe/b, swapping programs e and b: ceadb.\n",
    "\n",
    "In what order are the programs standing after their billion dances?"
   ]
  },
  {
   "cell_type": "code",
   "execution_count": 92,
   "metadata": {},
   "outputs": [
    {
     "data": {
      "text/plain": [
       "10000"
      ]
     },
     "execution_count": 92,
     "metadata": {},
     "output_type": "execute_result"
    }
   ],
   "source": [
    "len(puzzle_input())"
   ]
  },
  {
   "cell_type": "code",
   "execution_count": 94,
   "metadata": {},
   "outputs": [],
   "source": [
    "num = 5\n",
    "array = list(range(num))\n",
    "for _ in range(2):\n",
    "    dance(num, array, [(0, 1), (1, (3, 4)), (2, (4, 1))])\n",
    "result = ''.join(n_to_a[i] for i in array)\n",
    "assert result == 'ceadb', result"
   ]
  },
  {
   "cell_type": "code",
   "execution_count": null,
   "metadata": {},
   "outputs": [],
   "source": [
    "%%time\n",
    "num = 16\n",
    "input_ = puzzle_input()\n",
    "a_to_n, n_to_a = init_dance(num)\n",
    "for _ in range(1000000000):\n",
    "    dance(num, a_to_n, n_to_a, input_)\n",
    "print(''.join(n_to_a[i] for i in range(num)))"
   ]
  }
 ],
 "metadata": {
  "kernelspec": {
   "display_name": "Python 3",
   "language": "python",
   "name": "python3"
  },
  "language_info": {
   "codemirror_mode": {
    "name": "ipython",
    "version": 3
   },
   "file_extension": ".py",
   "mimetype": "text/x-python",
   "name": "python",
   "nbconvert_exporter": "python",
   "pygments_lexer": "ipython3",
   "version": "3.6.3"
  }
 },
 "nbformat": 4,
 "nbformat_minor": 2
}
