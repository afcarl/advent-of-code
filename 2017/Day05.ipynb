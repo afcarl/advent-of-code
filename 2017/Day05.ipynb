{
 "cells": [
  {
   "cell_type": "markdown",
   "metadata": {},
   "source": [
    "# Part 1\n",
    "\n",
    "An urgent interrupt arrives from the CPU: it's trapped in a maze of jump instructions, and it would like assistance from any programs with spare cycles to help find the exit.\n",
    "\n",
    "The message includes a list of the offsets for each jump. Jumps are relative: -1 moves to the previous instruction, and 2 skips the next one. Start at the first instruction in the list. The goal is to follow the jumps until one leads outside the list.\n",
    "\n",
    "In addition, these instructions are a little strange; after each jump, the offset of that instruction increases by 1. So, if you come across an offset of 3, you would move three instructions forward, but change it to a 4 for the next time it is encountered.\n",
    "\n",
    "For example, consider the following list of jump offsets:\n",
    "\n",
    "```\n",
    "0\n",
    "3\n",
    "0\n",
    "1\n",
    "-3\n",
    "```\n",
    "\n",
    "Positive jumps (\"forward\") move downward; negative jumps move upward. For legibility in this example, these offset values will be written all on one line, with the current instruction marked in parentheses. The following steps would be taken before an exit is found:\n",
    "\n",
    "- `(0) 3  0  1  -3`  - before we have taken any steps.\n",
    "- `(1) 3  0  1  -3`  - jump with offset 0 (that is, don't jump at all). Fortunately, the instruction is then incremented to 1.\n",
    "- `2 (3) 0  1  -3`  - step forward because of the instruction we just modified. The first instruction is incremented again, now to 2.\n",
    "- `2  4  0  1 (-3)` - jump all the way to the end; leave a 4 behind.\n",
    "- `2 (4) 0  1  -2`  - go back to where we just were; increment -3 to -2.\n",
    "- `2  5  0  1  -2`  - jump 4 steps forward, escaping the maze.\n",
    "In this example, the exit is reached in 5 steps.\n",
    "\n",
    "How many steps does it take to reach the exit?"
   ]
  },
  {
   "cell_type": "code",
   "execution_count": 8,
   "metadata": {},
   "outputs": [],
   "source": [
    "def jump_maze_count(instructions: list):\n",
    "    # copy instructions to avoid changing input\n",
    "    instructions = list(instructions)\n",
    "    \n",
    "    pos = 0\n",
    "    steps = 0\n",
    "    \n",
    "    while True:\n",
    "        if pos >= len(instructions):\n",
    "            return steps\n",
    "        \n",
    "        instr = instructions[pos]\n",
    "        instructions[pos] += 1\n",
    "        pos += instr\n",
    "        assert pos >= 0, pos\n",
    "        steps += 1"
   ]
  },
  {
   "cell_type": "code",
   "execution_count": 9,
   "metadata": {},
   "outputs": [],
   "source": [
    "assert jump_maze_count([0, 3, 0, 1, -3]) == 5"
   ]
  },
  {
   "cell_type": "code",
   "execution_count": 10,
   "metadata": {},
   "outputs": [
    {
     "data": {
      "text/plain": [
       "339351"
      ]
     },
     "execution_count": 10,
     "metadata": {},
     "output_type": "execute_result"
    }
   ],
   "source": [
    "with open('./inputs/day05/input.txt') as f:\n",
    "    instructions = [int(x.strip()) for x in f]\n",
    "\n",
    "jump_maze_count(instructions)"
   ]
  },
  {
   "cell_type": "markdown",
   "metadata": {},
   "source": [
    "# Part 2\n",
    "\n",
    "Now, the jumps are even stranger: after each jump, if the offset was three or more, instead decrease it by 1. Otherwise, increase it by 1 as before.\n",
    "\n",
    "Using this rule with the above example, the process now takes 10 steps, and the offset values after finding the exit are left as `2 3 2 3 -1`.\n",
    "\n",
    "How many steps does it now take to reach the exit?"
   ]
  },
  {
   "cell_type": "code",
   "execution_count": 11,
   "metadata": {},
   "outputs": [],
   "source": [
    "def jump_maze_count2(instructions: list):\n",
    "    # copy instructions to avoid changing input\n",
    "    instructions = list(instructions)\n",
    "    \n",
    "    pos = 0\n",
    "    steps = 0\n",
    "    \n",
    "    while True:\n",
    "        if pos >= len(instructions):\n",
    "            return steps\n",
    "        \n",
    "        instr = instructions[pos]\n",
    "        delta = -1 if instr >= 3 else 1\n",
    "        instructions[pos] += delta\n",
    "        pos += instr\n",
    "        assert pos >= 0, pos\n",
    "        steps += 1"
   ]
  },
  {
   "cell_type": "code",
   "execution_count": 12,
   "metadata": {},
   "outputs": [],
   "source": [
    "assert jump_maze_count2([0, 3, 0, 1, -3]) == 10"
   ]
  },
  {
   "cell_type": "code",
   "execution_count": 17,
   "metadata": {},
   "outputs": [
    {
     "name": "stdout",
     "output_type": "stream",
     "text": [
      "CPU times: user 12.3 s, sys: 71.4 ms, total: 12.4 s\n",
      "Wall time: 12.6 s\n"
     ]
    },
    {
     "data": {
      "text/plain": [
       "24315397"
      ]
     },
     "execution_count": 17,
     "metadata": {},
     "output_type": "execute_result"
    }
   ],
   "source": [
    "%time jump_maze_count2(instructions)"
   ]
  },
  {
   "cell_type": "code",
   "execution_count": 14,
   "metadata": {},
   "outputs": [],
   "source": [
    "%load_ext cython"
   ]
  },
  {
   "cell_type": "code",
   "execution_count": 29,
   "metadata": {},
   "outputs": [],
   "source": [
    "%%cython\n",
    "cpdef int jump_maze_count3(instructions: list):\n",
    "    # copy instructions to avoid changing input\n",
    "    instructions = list(instructions)\n",
    "    \n",
    "    cdef int pos = 0\n",
    "    cdef int steps = 0\n",
    "    cdef int instr, delta\n",
    "    cdef int len_instr = len(instructions)\n",
    "    \n",
    "    while True:\n",
    "        if pos >= len_instr:\n",
    "            return steps\n",
    "        \n",
    "        instr = instructions[pos]\n",
    "        delta = -1 if instr >= 3 else 1\n",
    "        instructions[pos] += delta\n",
    "        pos += instr\n",
    "        assert pos >= 0, pos\n",
    "        steps += 1"
   ]
  },
  {
   "cell_type": "code",
   "execution_count": 30,
   "metadata": {},
   "outputs": [
    {
     "name": "stdout",
     "output_type": "stream",
     "text": [
      "CPU times: user 813 ms, sys: 6.72 ms, total: 820 ms\n",
      "Wall time: 819 ms\n"
     ]
    },
    {
     "data": {
      "text/plain": [
       "24315397"
      ]
     },
     "execution_count": 30,
     "metadata": {},
     "output_type": "execute_result"
    }
   ],
   "source": [
    "%time jump_maze_count3(instructions)"
   ]
  },
  {
   "cell_type": "code",
   "execution_count": null,
   "metadata": {},
   "outputs": [],
   "source": []
  }
 ],
 "metadata": {
  "kernelspec": {
   "display_name": "Python 3",
   "language": "python",
   "name": "python3"
  },
  "language_info": {
   "codemirror_mode": {
    "name": "ipython",
    "version": 3
   },
   "file_extension": ".py",
   "mimetype": "text/x-python",
   "name": "python",
   "nbconvert_exporter": "python",
   "pygments_lexer": "ipython3",
   "version": "3.6.3"
  }
 },
 "nbformat": 4,
 "nbformat_minor": 2
}
