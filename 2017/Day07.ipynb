{
 "cells": [
  {
   "cell_type": "markdown",
   "metadata": {},
   "source": [
    "# Part 1\n",
    "\n",
    "Wandering further through the circuits of the computer, you come upon a tower of programs that have gotten themselves into a bit of trouble. A recursive algorithm has gotten out of hand, and now they're balanced precariously in a large tower.\n",
    "\n",
    "One program at the bottom supports the entire tower. It's holding a large disc, and on the disc are balanced several more sub-towers. At the bottom of these sub-towers, standing on the bottom disc, are other programs, each holding their own disc, and so on. At the very tops of these sub-sub-sub-...-towers, many programs stand simply keeping the disc below them balanced but with no disc of their own.\n",
    "\n",
    "You offer to help, but first you need to understand the structure of these towers. You ask each program to yell out their name, their weight, and (if they're holding a disc) the names of the programs immediately above them balancing on that disc. You write this information down (your puzzle input). Unfortunately, in their panic, they don't do this in an orderly fashion; by the time you're done, you're not sure which program gave which information.\n",
    "\n",
    "For example, if your list is the following:\n",
    "\n",
    "```\n",
    "pbga (66)\n",
    "xhth (57)\n",
    "ebii (61)\n",
    "havc (66)\n",
    "ktlj (57)\n",
    "fwft (72) -> ktlj, cntj, xhth\n",
    "qoyq (66)\n",
    "padx (45) -> pbga, havc, qoyq\n",
    "tknk (41) -> ugml, padx, fwft\n",
    "jptl (61)\n",
    "ugml (68) -> gyxo, ebii, jptl\n",
    "gyxo (61)\n",
    "cntj (57)\n",
    "```\n",
    "\n",
    "...then you would be able to recreate the structure of the towers that looks like this:\n",
    "\n",
    "```\n",
    "                gyxo\n",
    "              /     \n",
    "         ugml - ebii\n",
    "       /      \\     \n",
    "      |         jptl\n",
    "      |        \n",
    "      |         pbga\n",
    "     /        /\n",
    "tknk --- padx - havc\n",
    "     \\        \\\n",
    "      |         goyq\n",
    "      |             \n",
    "      |         ktlj\n",
    "       \\      /     \n",
    "         fwft - cntj\n",
    "              \\     \n",
    "                xhth\n",
    "```\n",
    "\n",
    "In this example, tknk is at the bottom of the tower (the bottom program), and is holding up ugml, padx, and fwft. Those programs are, in turn, holding up other programs; in this example, none of those programs are holding up any other programs, and are all the tops of their own towers. (The actual tower balancing in front of you is much larger.)\n",
    "\n",
    "Before you're ready to help them, you need to make sure your information is correct. What is the name of the bottom program?"
   ]
  },
  {
   "cell_type": "code",
   "execution_count": 1,
   "metadata": {},
   "outputs": [],
   "source": [
    "import weakref"
   ]
  },
  {
   "cell_type": "code",
   "execution_count": 2,
   "metadata": {},
   "outputs": [],
   "source": [
    "class ProgramNode:\n",
    "    _nodes = {}\n",
    "    \n",
    "    def __init__(self, name, weight=None, parent=None, children=None):\n",
    "        self.name = name\n",
    "        self.weight = weight\n",
    "        self.parent = parent\n",
    "        self.children = weakref.WeakSet(children) or weakref.WeakSet()\n",
    "    \n",
    "    @classmethod\n",
    "    def from_line(cls, line: str):\n",
    "        if '->' in line:\n",
    "            name, weight, _, children = line.split(maxsplit=3)\n",
    "            children = children.strip().split(', ')\n",
    "        else:\n",
    "            name, weight = line.split()\n",
    "            children = []\n",
    "        \n",
    "        weight = int(weight[1:-1])\n",
    "        child_nodes = []\n",
    "        for child in children:\n",
    "            if child in cls._nodes:\n",
    "                child_node = cls._nodes[child]\n",
    "            else:\n",
    "                child_node = cls(child)\n",
    "                cls._nodes[child] = child_node\n",
    "                \n",
    "            child_nodes.append(child_node)\n",
    "        \n",
    "        if name in cls._nodes:\n",
    "            node = cls._nodes[name]\n",
    "            node.weight = weight\n",
    "            node.children.update(child_nodes)\n",
    "        else:\n",
    "            node = cls(name, weight, children=child_nodes)\n",
    "            cls._nodes[name] = node\n",
    "        \n",
    "        for n in child_nodes:\n",
    "            n.parent = node\n",
    "        \n",
    "        return node\n",
    "    \n",
    "    def __hash__(self):\n",
    "        return hash(self.name)\n",
    "    \n",
    "    def __repr__(self):\n",
    "        s = self\n",
    "        parent_name = s.parent.name if s.parent else None\n",
    "        child_names = [n.name for n in self.children]\n",
    "        return f'ProgramNode(name={s.name}, weight={s.weight}, parent={parent_name}, children={child_names})'\n",
    "    \n",
    "    def subtree_weight(self):\n",
    "        return self.weight + sum(n.subtree_weight() for n in self.children)"
   ]
  },
  {
   "cell_type": "code",
   "execution_count": 3,
   "metadata": {},
   "outputs": [],
   "source": [
    "def pzl_input(input_file='./inputs/day07/input.txt'):\n",
    "    ProgramNode._nodes.clear()\n",
    "    with open(input_file) as f:\n",
    "        return [ProgramNode.from_line(line) for line in f]"
   ]
  },
  {
   "cell_type": "code",
   "execution_count": 4,
   "metadata": {},
   "outputs": [],
   "source": [
    "def find_bottom(nodes: list):\n",
    "    for n in nodes:\n",
    "        if not n.parent:\n",
    "            return n"
   ]
  },
  {
   "cell_type": "code",
   "execution_count": 5,
   "metadata": {},
   "outputs": [],
   "source": [
    "result = find_bottom(pzl_input('./inputs/day07/test_input.txt'))\n",
    "assert result.name == 'tknk', result.name"
   ]
  },
  {
   "cell_type": "code",
   "execution_count": 6,
   "metadata": {},
   "outputs": [
    {
     "data": {
      "text/plain": [
       "ProgramNode(name=svugo, weight=32, parent=None, children=['gjxqx', 'xolvnpy', 'gtzxxav', 'njorjq', 'qpiklvf'])"
      ]
     },
     "execution_count": 6,
     "metadata": {},
     "output_type": "execute_result"
    }
   ],
   "source": [
    "find_bottom(pzl_input())"
   ]
  },
  {
   "cell_type": "markdown",
   "metadata": {},
   "source": [
    "# Part 2\n",
    "\n",
    "The programs explain the situation: they can't get down. Rather, they could get down, if they weren't expending all of their energy trying to keep the tower balanced. Apparently, one program has the wrong weight, and until it's fixed, they're stuck here.\n",
    "\n",
    "For any program holding a disc, each program standing on that disc forms a sub-tower. Each of those sub-towers are supposed to be the same weight, or the disc itself isn't balanced. The weight of a tower is the sum of the weights of the programs in that tower.\n",
    "\n",
    "In the example above, this means that for ugml's disc to be balanced, gyxo, ebii, and jptl must all have the same weight, and they do: 61.\n",
    "\n",
    "However, for tknk to be balanced, each of the programs standing on its disc and all programs above it must each match. This means that the following sums must all be the same:\n",
    "\n",
    "```\n",
    "ugml + (gyxo + ebii + jptl) = 68 + (61 + 61 + 61) = 251\n",
    "padx + (pbga + havc + qoyq) = 45 + (66 + 66 + 66) = 243\n",
    "fwft + (ktlj + cntj + xhth) = 72 + (57 + 57 + 57) = 243\n",
    "```\n",
    "\n",
    "As you can see, tknk's disc is unbalanced: ugml's stack is heavier than the other two. Even though the nodes above ugml are balanced, ugml itself is too heavy: it needs to be 8 units lighter for its stack to weigh 243 and keep the towers balanced. If this change were made, its weight would be 60.\n",
    "\n",
    "Given that exactly one program is the wrong weight, what would its weight need to be to balance the entire tower?"
   ]
  },
  {
   "cell_type": "code",
   "execution_count": 7,
   "metadata": {},
   "outputs": [],
   "source": [
    "from collections import Counter"
   ]
  },
  {
   "cell_type": "code",
   "execution_count": 8,
   "metadata": {},
   "outputs": [],
   "source": [
    "def outlier_node(node):\n",
    "    counts = Counter(n.subtree_weight() for n in node.children)\n",
    "    if len(counts) <= 1:\n",
    "        return node\n",
    "    else:\n",
    "        _, (outlier_weight, _) = counts.most_common()\n",
    "        return outlier_node({n.subtree_weight(): n for n in node.children}[outlier_weight])"
   ]
  },
  {
   "cell_type": "code",
   "execution_count": 9,
   "metadata": {},
   "outputs": [
    {
     "data": {
      "text/plain": [
       "ProgramNode(name=ugml, weight=68, parent=tknk, children=['ebii', 'gyxo', 'jptl'])"
      ]
     },
     "execution_count": 9,
     "metadata": {},
     "output_type": "execute_result"
    }
   ],
   "source": [
    "outlier_node(find_bottom(pzl_input('./inputs/day07/test_input.txt')))"
   ]
  },
  {
   "cell_type": "code",
   "execution_count": 10,
   "metadata": {},
   "outputs": [
    {
     "name": "stdout",
     "output_type": "stream",
     "text": [
      "gjxqx 64661\n",
      "xolvnpy 64652\n",
      "gtzxxav 64652\n",
      "njorjq 64652\n",
      "qpiklvf 64652\n"
     ]
    }
   ],
   "source": [
    "root_node = find_bottom(pzl_input())\n",
    "for n in root_node.children:\n",
    "    print(n.name, n.subtree_weight())"
   ]
  },
  {
   "cell_type": "code",
   "execution_count": 11,
   "metadata": {},
   "outputs": [
    {
     "data": {
      "text/plain": [
       "ProgramNode(name=sphbbz, weight=1161, parent=yruivis, children=['oprfjt', 'vyufo', 'ivpbt', 'scetry', 'gioryg', 'valbm', 'sfjspc'])"
      ]
     },
     "execution_count": 11,
     "metadata": {},
     "output_type": "execute_result"
    }
   ],
   "source": [
    "outlier_node(find_bottom(pzl_input()))"
   ]
  },
  {
   "cell_type": "code",
   "execution_count": 12,
   "metadata": {},
   "outputs": [
    {
     "data": {
      "text/plain": [
       "1152"
      ]
     },
     "execution_count": 12,
     "metadata": {},
     "output_type": "execute_result"
    }
   ],
   "source": [
    "1161 - 9"
   ]
  },
  {
   "cell_type": "code",
   "execution_count": null,
   "metadata": {},
   "outputs": [],
   "source": []
  }
 ],
 "metadata": {
  "kernelspec": {
   "display_name": "Python 3",
   "language": "python",
   "name": "python3"
  },
  "language_info": {
   "codemirror_mode": {
    "name": "ipython",
    "version": 3
   },
   "file_extension": ".py",
   "mimetype": "text/x-python",
   "name": "python",
   "nbconvert_exporter": "python",
   "pygments_lexer": "ipython3",
   "version": "3.6.3"
  }
 },
 "nbformat": 4,
 "nbformat_minor": 2
}
