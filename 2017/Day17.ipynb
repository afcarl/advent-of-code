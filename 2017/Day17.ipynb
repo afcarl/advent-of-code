{
 "cells": [
  {
   "cell_type": "markdown",
   "metadata": {},
   "source": [
    "# Part 1\n",
    "\n",
    "Suddenly, whirling in the distance, you notice what looks like a massive, pixelated hurricane: a deadly spinlock. This spinlock isn't just consuming computing power, but memory, too; vast, digital mountains are being ripped from the ground and consumed by the vortex.\n",
    "\n",
    "If you don't move quickly, fixing that printer will be the least of your problems.\n",
    "\n",
    "This spinlock's algorithm is simple but efficient, quickly consuming everything in its path. It starts with a circular buffer containing only the value 0, which it marks as the current position. It then steps forward through the circular buffer some number of steps (your puzzle input) before inserting the first new value, 1, after the value it stopped on. The inserted value becomes the current position. Then, it steps forward from there the same number of steps, and wherever it stops, inserts after it the second new value, 2, and uses that as the new current position again.\n",
    "\n",
    "It repeats this process of stepping forward, inserting a new value, and using the location of the inserted value as the new current position a total of 2017 times, inserting 2017 as its final operation, and ending with a total of 2018 values (including 0) in the circular buffer.\n",
    "\n",
    "For example, if the spinlock were to step 3 times per insert, the circular buffer would begin to evolve like this (using parentheses to mark the current position after each iteration of the algorithm):\n",
    "\n",
    "- `(0)`, the initial state before any insertions.\n",
    "- `0 (1)`: the spinlock steps forward three times `(0, 0, 0)`, and then inserts the first value, 1, after it. 1 becomes the current position.\n",
    "- `0 (2) 1`: the spinlock steps forward three times `(0, 1, 0)`, and then inserts the second value, 2, after it. 2 becomes the current position.\n",
    "- `0  2 (3) 1`: the spinlock steps forward three times `(1, 0, 2)`, and then inserts the third value, 3, after it. 3 becomes the current position.\n",
    "\n",
    "And so on:\n",
    "\n",
    "```\n",
    "0  2 (4) 3  1\n",
    "0 (5) 2  4  3  1\n",
    "0  5  2  4  3 (6) 1\n",
    "0  5 (7) 2  4  3  6  1\n",
    "0  5  7  2  4  3 (8) 6  1\n",
    "0 (9) 5  7  2  4  3  8  6  1\n",
    "```\n",
    "\n",
    "Eventually, after 2017 insertions, the section of the circular buffer near the last insertion looks like this:\n",
    "\n",
    "```\n",
    "1512  1134  151 (2017) 638  1513  851\n",
    "```\n",
    "\n",
    "Perhaps, if you can identify the value that will ultimately be after the last value written `(2017)`, you can short-circuit the spinlock. In this example, that would be `638`.\n",
    "\n",
    "What is the value after `2017` in your completed circular buffer?\n",
    "\n",
    "Your puzzle input is `386`."
   ]
  },
  {
   "cell_type": "code",
   "execution_count": 1,
   "metadata": {},
   "outputs": [],
   "source": [
    "from collections import deque"
   ]
  },
  {
   "cell_type": "code",
   "execution_count": 2,
   "metadata": {},
   "outputs": [],
   "source": [
    "def track_spinlock(step_size, max_val):\n",
    "    pos = 0\n",
    "    buf = deque([0])\n",
    "    \n",
    "    for i in range(1, max_val + 1):\n",
    "        # figure out insertion position\n",
    "        pos = (pos + step_size) % len(buf) + 1\n",
    "        buf.insert(pos, i)\n",
    "    \n",
    "    return buf, pos"
   ]
  },
  {
   "cell_type": "code",
   "execution_count": 3,
   "metadata": {},
   "outputs": [],
   "source": [
    "def track_spinlock_l(step_size, max_val):\n",
    "    pos = 0\n",
    "    buf = [0]\n",
    "    \n",
    "    for i in range(1, max_val + 1):\n",
    "        # figure out insertion position\n",
    "        pos = (pos + step_size) % len(buf) + 1\n",
    "        buf.insert(pos, i)\n",
    "    \n",
    "    return buf, pos"
   ]
  },
  {
   "cell_type": "code",
   "execution_count": 4,
   "metadata": {},
   "outputs": [],
   "source": [
    "%load_ext cython"
   ]
  },
  {
   "cell_type": "code",
   "execution_count": 5,
   "metadata": {},
   "outputs": [],
   "source": [
    "%%cython\n",
    "from cpython cimport array\n",
    "import array\n",
    "\n",
    "cpdef object cy_track_spinlock(unsigned int step_size, unsigned int max_val):\n",
    "    cdef unsigned int pos = 0\n",
    "    cdef unsigned int buf_len = 1\n",
    "    cdef array.array buf_arr = array.array('I', [0] * (max_val + 1))\n",
    "    cdef unsigned int[:] buf = buf_arr\n",
    "    cdef unsigned int i\n",
    "    \n",
    "    for i in range(1, max_val + 1):\n",
    "        pos = (pos + step_size) % buf_len + 1\n",
    "        buf[pos + 1:buf_len + 1] = buf[pos:buf_len]\n",
    "        buf[pos] = i\n",
    "        buf_len += 1\n",
    "    \n",
    "    return buf_arr, pos"
   ]
  },
  {
   "cell_type": "code",
   "execution_count": 6,
   "metadata": {},
   "outputs": [],
   "source": [
    "rbuf, rpos = track_spinlock(3, 2017)\n",
    "assert rbuf[rpos + 1] == 638, rbuf[rpos + 1]"
   ]
  },
  {
   "cell_type": "code",
   "execution_count": 7,
   "metadata": {},
   "outputs": [],
   "source": [
    "rbuf, rpos = cy_track_spinlock(3, 2017)\n",
    "assert rbuf[rpos + 1] == 638, rbuf[rpos + 1]"
   ]
  },
  {
   "cell_type": "code",
   "execution_count": 8,
   "metadata": {},
   "outputs": [
    {
     "data": {
      "text/plain": [
       "419"
      ]
     },
     "execution_count": 8,
     "metadata": {},
     "output_type": "execute_result"
    }
   ],
   "source": [
    "rbuf, rpos = track_spinlock(386, 2017)\n",
    "rbuf[rpos + 1]"
   ]
  },
  {
   "cell_type": "code",
   "execution_count": 9,
   "metadata": {},
   "outputs": [
    {
     "data": {
      "text/plain": [
       "419"
      ]
     },
     "execution_count": 9,
     "metadata": {},
     "output_type": "execute_result"
    }
   ],
   "source": [
    "rbuf, rpos = track_spinlock_l(386, 2017)\n",
    "rbuf[rpos + 1]"
   ]
  },
  {
   "cell_type": "code",
   "execution_count": 10,
   "metadata": {},
   "outputs": [
    {
     "data": {
      "text/plain": [
       "419"
      ]
     },
     "execution_count": 10,
     "metadata": {},
     "output_type": "execute_result"
    }
   ],
   "source": [
    "rbuf, rpos = cy_track_spinlock(386, 2017)\n",
    "rbuf[rpos + 1]"
   ]
  },
  {
   "cell_type": "code",
   "execution_count": 17,
   "metadata": {},
   "outputs": [
    {
     "name": "stdout",
     "output_type": "stream",
     "text": [
      "2.09 ms ± 95.6 µs per loop (mean ± std. dev. of 7 runs, 100 loops each)\n"
     ]
    }
   ],
   "source": [
    "%timeit track_spinlock(386, 2017)"
   ]
  },
  {
   "cell_type": "code",
   "execution_count": 18,
   "metadata": {},
   "outputs": [
    {
     "name": "stdout",
     "output_type": "stream",
     "text": [
      "1.6 ms ± 76.7 µs per loop (mean ± std. dev. of 7 runs, 1000 loops each)\n"
     ]
    }
   ],
   "source": [
    "%timeit track_spinlock_l(386, 2017)"
   ]
  },
  {
   "cell_type": "code",
   "execution_count": 33,
   "metadata": {},
   "outputs": [
    {
     "name": "stdout",
     "output_type": "stream",
     "text": [
      "888 µs ± 84.5 µs per loop (mean ± std. dev. of 7 runs, 1000 loops each)\n"
     ]
    }
   ],
   "source": [
    "%timeit cy_track_spinlock(386, 2017)"
   ]
  },
  {
   "cell_type": "markdown",
   "metadata": {},
   "source": [
    "# Part 2\n",
    "\n",
    "The spinlock does not short-circuit. Instead, it gets more angry. At least, you assume that's what happened; it's spinning significantly faster than it was a moment ago.\n",
    "\n",
    "You have good news and bad news.\n",
    "\n",
    "The good news is that you have improved calculations for how to stop the spinlock. They indicate that you actually need to identify the value after 0 in the current state of the circular buffer.\n",
    "\n",
    "The bad news is that while you were determining this, the spinlock has just finished inserting its fifty millionth value (`50000000`).\n",
    "\n",
    "What is the value after `0` the moment `50000000` is inserted?\n",
    "\n",
    "Your puzzle input is still `386`."
   ]
  },
  {
   "cell_type": "markdown",
   "metadata": {},
   "source": [
    "(In this one I don't care about any values except those inserted at position 1.\n",
    "We can process where all values _would_ be inserted and pretend to grow the size\n",
    "of the array as we do, but only store values inserted at position 1.\n",
    "This saves a huge amount of time because no insertions are happening.\n",
    "(Insertions can be slow with large arrays because they have to move data around.))"
   ]
  },
  {
   "cell_type": "code",
   "execution_count": 18,
   "metadata": {},
   "outputs": [],
   "source": [
    "%%cython\n",
    "from cpython cimport array\n",
    "import array\n",
    "\n",
    "cpdef unsigned int cy_track_spinlock2(unsigned int step_size, unsigned int max_val):\n",
    "    cdef unsigned int pos = 0\n",
    "    cdef unsigned int buf_len = 1\n",
    "    cdef unsigned int pos1_val\n",
    "    cdef unsigned int i\n",
    "    \n",
    "    for i in range(1, max_val + 1):\n",
    "        pos = (pos + step_size) % buf_len + 1\n",
    "        if pos == 1:\n",
    "            pos1_val = i\n",
    "        buf_len += 1\n",
    "    \n",
    "    return pos1_val"
   ]
  },
  {
   "cell_type": "code",
   "execution_count": 19,
   "metadata": {},
   "outputs": [
    {
     "name": "stdout",
     "output_type": "stream",
     "text": [
      "46038988\n",
      "CPU times: user 366 ms, sys: 3.67 ms, total: 370 ms\n",
      "Wall time: 371 ms\n"
     ]
    }
   ],
   "source": [
    "%%time\n",
    "result = cy_track_spinlock2(386, 50000000)\n",
    "print(result)"
   ]
  },
  {
   "cell_type": "code",
   "execution_count": null,
   "metadata": {},
   "outputs": [],
   "source": []
  }
 ],
 "metadata": {
  "kernelspec": {
   "display_name": "Python 3",
   "language": "python",
   "name": "python3"
  },
  "language_info": {
   "codemirror_mode": {
    "name": "ipython",
    "version": 3
   },
   "file_extension": ".py",
   "mimetype": "text/x-python",
   "name": "python",
   "nbconvert_exporter": "python",
   "pygments_lexer": "ipython3",
   "version": "3.6.3"
  }
 },
 "nbformat": 4,
 "nbformat_minor": 2
}
