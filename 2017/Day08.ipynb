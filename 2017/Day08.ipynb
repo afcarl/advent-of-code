{
 "cells": [
  {
   "cell_type": "markdown",
   "metadata": {},
   "source": [
    "# Part 1\n",
    "\n",
    "You receive a signal directly from the CPU. Because of your recent assistance with jump instructions, it would like you to compute the result of a series of unusual register instructions.\n",
    "\n",
    "Each instruction consists of several parts: the register to modify, whether to increase or decrease that register's value, the amount by which to increase or decrease it, and a condition. If the condition fails, skip the instruction without modifying the register. The registers all start at 0. The instructions look like this:\n",
    "\n",
    "```\n",
    "b inc 5 if a > 1\n",
    "a inc 1 if b < 5\n",
    "c dec -10 if a >= 1\n",
    "c inc -20 if c == 10\n",
    "```\n",
    "\n",
    "These instructions would be processed as follows:\n",
    "\n",
    "- Because a starts at 0, it is not greater than 1, and so b is not modified.\n",
    "- a is increased by 1 (to 1) because b is less than 5 (it is 0).\n",
    "- c is decreased by -10 (to 10) because a is now greater than or equal to 1 (it is 1).\n",
    "- c is increased by -20 (to -10) because c is equal to 10.\n",
    "- After this process, the largest value in any register is 1.\n",
    "\n",
    "You might also encounter `<=` (less than or equal to) or `!=` (not equal to). However, the CPU doesn't have the bandwidth to tell you what all the registers are named, and leaves that to you to determine.\n",
    "\n",
    "What is the largest value in any register after completing the instructions in your puzzle input?"
   ]
  },
  {
   "cell_type": "code",
   "execution_count": 4,
   "metadata": {},
   "outputs": [],
   "source": [
    "import operator as op\n",
    "from collections import defaultdict\n",
    "\n",
    "from dataclasses import dataclass"
   ]
  },
  {
   "cell_type": "code",
   "execution_count": 8,
   "metadata": {},
   "outputs": [],
   "source": [
    "class Instruction:\n",
    "    _op_map = {\n",
    "        'inc': op.add,\n",
    "        'dec': op.sub\n",
    "    }\n",
    "    _cmp_map = {\n",
    "        '>': op.gt,\n",
    "        '>=': op.ge,\n",
    "        '<': op.lt,\n",
    "        '<=': op.le,\n",
    "        '==': op.eq,\n",
    "        '!=': op.ne\n",
    "    }\n",
    "    \n",
    "    def __init__(self, instr_str):\n",
    "        name, op_name, delta_str, _, cmp_target, cmp_name, cmp_val_str = instr_str.strip().split()\n",
    "        self.delta_target = name\n",
    "        self.op = self._op_map[op_name]\n",
    "        self.delta_val = int(delta_str)\n",
    "        self.cmp_target = cmp_target\n",
    "        self.cmp = self._cmp_map[cmp_name]\n",
    "        self.cmp_val = int(cmp_val_str)\n",
    "    \n",
    "    def cmp_op(self, val):\n",
    "        return self.cmp(val, self.cmp_val)"
   ]
  },
  {
   "cell_type": "code",
   "execution_count": 9,
   "metadata": {},
   "outputs": [],
   "source": [
    "def pzl_input(input_file='./inputs/day08/input.txt'):\n",
    "    with open(input_file) as f:\n",
    "        yield from (Instruction(line) for line in f)\n",
    "\n",
    "def test_input():\n",
    "    yield from pzl_input('./inputs/day08/test_input.txt')"
   ]
  },
  {
   "cell_type": "code",
   "execution_count": 19,
   "metadata": {},
   "outputs": [],
   "source": [
    "class Register:\n",
    "    def __init__(self):\n",
    "        self.data = defaultdict(lambda: 0)\n",
    "        self.max_seen = float('-inf')\n",
    "    \n",
    "    def process_instr(self, instr: Instruction):\n",
    "        if instr.cmp_op(self.data[instr.cmp_target]):\n",
    "            self.data[instr.delta_target] = instr.op(self.data[instr.delta_target], instr.delta_val)\n",
    "            if self.data[instr.delta_target] > self.max_seen:\n",
    "                self.max_seen = self.data[instr.delta_target]\n",
    "    \n",
    "    def process_instructions(self, instructions):\n",
    "        for instr in instructions:\n",
    "            self.process_instr(instr)\n",
    "    \n",
    "    def max(self) -> int:\n",
    "        return max(self.data.values())"
   ]
  },
  {
   "cell_type": "code",
   "execution_count": 20,
   "metadata": {},
   "outputs": [],
   "source": [
    "def max_register_val(instructions):\n",
    "    reg = Register()\n",
    "    reg.process_instructions(instructions)\n",
    "    return reg.max()"
   ]
  },
  {
   "cell_type": "code",
   "execution_count": 21,
   "metadata": {},
   "outputs": [],
   "source": [
    "assert max_register_val(test_input()) == 1"
   ]
  },
  {
   "cell_type": "code",
   "execution_count": 22,
   "metadata": {},
   "outputs": [
    {
     "data": {
      "text/plain": [
       "6828"
      ]
     },
     "execution_count": 22,
     "metadata": {},
     "output_type": "execute_result"
    }
   ],
   "source": [
    "max_register_val(pzl_input())"
   ]
  },
  {
   "cell_type": "markdown",
   "metadata": {},
   "source": [
    "# Part 2\n",
    "\n",
    "To be safe, the CPU also needs to know the highest value held in any register during this process so that it can decide how much memory to allocate to these operations. For example, in the above instructions, the highest value ever held was 10 (in register c after the third instruction was evaluated)."
   ]
  },
  {
   "cell_type": "code",
   "execution_count": 23,
   "metadata": {},
   "outputs": [],
   "source": [
    "def max_value_seen(instructions):\n",
    "    reg = Register()\n",
    "    reg.process_instructions(instructions)\n",
    "    return reg.max_seen"
   ]
  },
  {
   "cell_type": "code",
   "execution_count": 24,
   "metadata": {},
   "outputs": [],
   "source": [
    "assert max_value_seen(test_input()) == 10"
   ]
  },
  {
   "cell_type": "code",
   "execution_count": 25,
   "metadata": {},
   "outputs": [
    {
     "data": {
      "text/plain": [
       "7234"
      ]
     },
     "execution_count": 25,
     "metadata": {},
     "output_type": "execute_result"
    }
   ],
   "source": [
    "max_value_seen(pzl_input())"
   ]
  },
  {
   "cell_type": "code",
   "execution_count": null,
   "metadata": {},
   "outputs": [],
   "source": []
  }
 ],
 "metadata": {
  "kernelspec": {
   "display_name": "Python 3",
   "language": "python",
   "name": "python3"
  },
  "language_info": {
   "codemirror_mode": {
    "name": "ipython",
    "version": 3
   },
   "file_extension": ".py",
   "mimetype": "text/x-python",
   "name": "python",
   "nbconvert_exporter": "python",
   "pygments_lexer": "ipython3",
   "version": "3.6.3"
  }
 },
 "nbformat": 4,
 "nbformat_minor": 2
}
