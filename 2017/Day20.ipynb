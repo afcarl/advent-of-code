{
 "cells": [
  {
   "cell_type": "markdown",
   "metadata": {},
   "source": [
    "# Part 1\n",
    "\n",
    "Suddenly, the GPU contacts you, asking for help. Someone has asked it to simulate too many particles, and it won't be able to finish them all in time to render the next frame at this rate.\n",
    "\n",
    "It transmits to you a buffer (your puzzle input) listing each particle in order (starting with particle 0, then particle 1, particle 2, and so on). For each particle, it provides the X, Y, and Z coordinates for the particle's position (p), velocity (v), and acceleration (a), each in the format `<X,Y,Z>`.\n",
    "\n",
    "Each tick, all particles are updated simultaneously. A particle's properties are updated in the following order:\n",
    "\n",
    "- Increase the X velocity by the X acceleration.\n",
    "- Increase the Y velocity by the Y acceleration.\n",
    "- Increase the Z velocity by the Z acceleration.\n",
    "- Increase the X position by the X velocity.\n",
    "- Increase the Y position by the Y velocity.\n",
    "- Increase the Z position by the Z velocity.\n",
    "\n",
    "Because of seemingly tenuous rationale involving z-buffering, the GPU would like to know which particle will stay closest to position `<0,0,0>` in the long term. Measure this using the Manhattan distance, which in this situation is simply the sum of the absolute values of a particle's X, Y, and Z position.\n",
    "\n",
    "For example, suppose you are only given two particles, both of which stay entirely on the X-axis (for simplicity). Drawing the current states of particles 0 and 1 (in that order) with an adjacent a number line and diagram of current X positions (marked in parenthesis), the following would take place:\n",
    "\n",
    "```\n",
    "p=< 3,0,0>, v=< 2,0,0>, a=<-1,0,0>    -4 -3 -2 -1  0  1  2  3  4\n",
    "p=< 4,0,0>, v=< 0,0,0>, a=<-2,0,0>                         (0)(1)\n",
    "\n",
    "p=< 4,0,0>, v=< 1,0,0>, a=<-1,0,0>    -4 -3 -2 -1  0  1  2  3  4\n",
    "p=< 2,0,0>, v=<-2,0,0>, a=<-2,0,0>                      (1)   (0)\n",
    "\n",
    "p=< 4,0,0>, v=< 0,0,0>, a=<-1,0,0>    -4 -3 -2 -1  0  1  2  3  4\n",
    "p=<-2,0,0>, v=<-4,0,0>, a=<-2,0,0>          (1)               (0)\n",
    "\n",
    "p=< 3,0,0>, v=<-1,0,0>, a=<-1,0,0>    -4 -3 -2 -1  0  1  2  3  4\n",
    "p=<-8,0,0>, v=<-6,0,0>, a=<-2,0,0>                         (0)   \n",
    "```\n",
    "\n",
    "At this point, particle 1 will never be closer to `<0,0,0>` than particle 0, and so, in the long run, particle 0 will stay closest.\n",
    "\n",
    "Which particle will stay closest to position `<0,0,0>` in the long term?"
   ]
  },
  {
   "cell_type": "code",
   "execution_count": 23,
   "metadata": {},
   "outputs": [],
   "source": [
    "import itertools\n",
    "import re\n",
    "from io import StringIO\n",
    "from textwrap import dedent\n",
    "from typing import Tuple, Dict, Set\n",
    "\n",
    "import numpy as np\n",
    "from dataclasses import dataclass"
   ]
  },
  {
   "cell_type": "code",
   "execution_count": 2,
   "metadata": {},
   "outputs": [],
   "source": [
    "@dataclass\n",
    "class Point:\n",
    "    id_: int\n",
    "    pos: Tuple[int]\n",
    "    vel: Tuple[int]\n",
    "    acc: Tuple[int]"
   ]
  },
  {
   "cell_type": "code",
   "execution_count": 3,
   "metadata": {},
   "outputs": [],
   "source": [
    "def process_points(rows):\n",
    "    points = []\n",
    "    for i, row in enumerate(rows):\n",
    "        p, v, a = (\n",
    "            tuple(int(x) for x in item.group(0)[1:-1].split(',')) \n",
    "            for item in re.finditer(r'\\<(.+?)\\>', row))\n",
    "        points.append(Point(i, p, v, a))\n",
    "    return points"
   ]
  },
  {
   "cell_type": "code",
   "execution_count": 4,
   "metadata": {},
   "outputs": [],
   "source": [
    "def _test_input():\n",
    "    return process_points(StringIO(dedent(\"\"\"\\\n",
    "        p=< 3,0,0>, v=< 2,0,0>, a=<-1,0,0>\n",
    "        p=< 4,0,0>, v=< 0,0,0>, a=<-2,0,0>\n",
    "        \"\"\")))\n",
    "TEST_INPUT = _test_input()"
   ]
  },
  {
   "cell_type": "code",
   "execution_count": 5,
   "metadata": {},
   "outputs": [],
   "source": [
    "def _puzzle_input():\n",
    "    with open('./inputs/day20/input.txt') as f:\n",
    "        return process_points(f)\n",
    "PUZZLE_INPUT = _puzzle_input()"
   ]
  },
  {
   "cell_type": "code",
   "execution_count": 6,
   "metadata": {},
   "outputs": [],
   "source": [
    "def pos_at_t(point: Point, time_arr: np.array) -> Tuple[int]:\n",
    "    return tuple(point.pos[i] + (point.acc[i] * time_arr + point.vel[i]).sum() for i in range(3))"
   ]
  },
  {
   "cell_type": "code",
   "execution_count": 8,
   "metadata": {},
   "outputs": [],
   "source": [
    "assert pos_at_t(TEST_INPUT[0], np.arange(1, 2)) == (4, 0, 0)\n",
    "assert pos_at_t(TEST_INPUT[0], np.arange(1, 3)) == (4, 0, 0)\n",
    "assert pos_at_t(TEST_INPUT[0], np.arange(1, 4)) == (3, 0, 0)\n",
    "\n",
    "assert pos_at_t(TEST_INPUT[1], np.arange(1, 2)) == (2, 0, 0)\n",
    "assert pos_at_t(TEST_INPUT[1], np.arange(1, 3)) == (-2, 0, 0)\n",
    "assert pos_at_t(TEST_INPUT[1], np.arange(1, 4)) == (-8, 0, 0)"
   ]
  },
  {
   "cell_type": "code",
   "execution_count": 9,
   "metadata": {},
   "outputs": [],
   "source": [
    "time_arr = np.arange(1, 100 + 1)\n",
    "assert min(TEST_INPUT, key=lambda p: sum(abs(x) for x in pos_at_t(p, time_arr))).id_ == 0"
   ]
  },
  {
   "cell_type": "code",
   "execution_count": 10,
   "metadata": {},
   "outputs": [
    {
     "data": {
      "text/plain": [
       "Point(id_=308, pos=(2978, 2082, 4280), vel=(-135, -88, -178), acc=(1, 0, 0))"
      ]
     },
     "execution_count": 10,
     "metadata": {},
     "output_type": "execute_result"
    }
   ],
   "source": [
    "time_arr = np.arange(1, 100000 + 1)\n",
    "min(PUZZLE_INPUT, key=lambda p: sum(abs(x) for x in pos_at_t(p, time_arr)))"
   ]
  },
  {
   "cell_type": "markdown",
   "metadata": {},
   "source": [
    "# Part 2\n",
    "\n",
    "To simplify the problem further, the GPU would like to remove any particles that collide. Particles collide if their positions ever exactly match. Because particles are updated simultaneously, more than two particles can collide at the same time and place. Once particles collide, they are removed and cannot collide with anything else after that tick.\n",
    "\n",
    "For example:\n",
    "\n",
    "```\n",
    "p=<-6,0,0>, v=< 3,0,0>, a=< 0,0,0>    \n",
    "p=<-4,0,0>, v=< 2,0,0>, a=< 0,0,0>    -6 -5 -4 -3 -2 -1  0  1  2  3\n",
    "p=<-2,0,0>, v=< 1,0,0>, a=< 0,0,0>    (0)   (1)   (2)            (3)\n",
    "p=< 3,0,0>, v=<-1,0,0>, a=< 0,0,0>\n",
    "\n",
    "p=<-3,0,0>, v=< 3,0,0>, a=< 0,0,0>    \n",
    "p=<-2,0,0>, v=< 2,0,0>, a=< 0,0,0>    -6 -5 -4 -3 -2 -1  0  1  2  3\n",
    "p=<-1,0,0>, v=< 1,0,0>, a=< 0,0,0>             (0)(1)(2)      (3)   \n",
    "p=< 2,0,0>, v=<-1,0,0>, a=< 0,0,0>\n",
    "\n",
    "p=< 0,0,0>, v=< 3,0,0>, a=< 0,0,0>    \n",
    "p=< 0,0,0>, v=< 2,0,0>, a=< 0,0,0>    -6 -5 -4 -3 -2 -1  0  1  2  3\n",
    "p=< 0,0,0>, v=< 1,0,0>, a=< 0,0,0>                       X (3)      \n",
    "p=< 1,0,0>, v=<-1,0,0>, a=< 0,0,0>\n",
    "\n",
    "------destroyed by collision------    \n",
    "------destroyed by collision------    -6 -5 -4 -3 -2 -1  0  1  2  3\n",
    "------destroyed by collision------                      (3)         \n",
    "p=< 0,0,0>, v=<-1,0,0>, a=< 0,0,0>\n",
    "```\n",
    "\n",
    "In this example, particles 0, 1, and 2 are simultaneously destroyed at the time and place marked X. On the next tick, particle 3 passes through unharmed.\n",
    "\n",
    "How many particles are left after all collisions are resolved?"
   ]
  },
  {
   "cell_type": "code",
   "execution_count": 17,
   "metadata": {},
   "outputs": [],
   "source": [
    "def _test_input2():\n",
    "    return process_points(StringIO(dedent(\"\"\"\\\n",
    "        p=<-6,0,0>, v=< 3,0,0>, a=< 0,0,0>\n",
    "        p=<-4,0,0>, v=< 2,0,0>, a=< 0,0,0>\n",
    "        p=<-2,0,0>, v=< 1,0,0>, a=< 0,0,0>\n",
    "        p=< 3,0,0>, v=<-1,0,0>, a=< 0,0,0>\n",
    "        \"\"\")))\n",
    "TEST_INPUT2 = _test_input2()"
   ]
  },
  {
   "cell_type": "code",
   "execution_count": 13,
   "metadata": {},
   "outputs": [
    {
     "data": {
      "text/plain": [
       "array([[0, 0, 0],\n",
       "       [1, 1, 1],\n",
       "       [2, 2, 2],\n",
       "       [3, 3, 3],\n",
       "       [4, 4, 4]])"
      ]
     },
     "execution_count": 13,
     "metadata": {},
     "output_type": "execute_result"
    }
   ],
   "source": [
    "np.arange(5).reshape((-1, 1)).repeat(3, axis=1)"
   ]
  },
  {
   "cell_type": "code",
   "execution_count": 14,
   "metadata": {},
   "outputs": [],
   "source": [
    "def pos_over_t(point: Point, time_arr: np.array) -> np.array:\n",
    "    time_arr = time_arr.reshape((-1, 1)).repeat(3, axis=1)\n",
    "    \n",
    "    pos = np.int_(point.pos)\n",
    "    vel = np.int_(point.vel)\n",
    "    acc = np.int_(point.acc)\n",
    "    \n",
    "    vel_over_t = np.empty((time_arr.shape[0] + 1, 3), dtype=np.int_)\n",
    "    vel_over_t[0, :] = 0\n",
    "    vel_over_t[1:, :] = (acc * time_arr + vel).cumsum(axis=0)\n",
    "    return pos + vel_over_t"
   ]
  },
  {
   "cell_type": "code",
   "execution_count": 16,
   "metadata": {},
   "outputs": [
    {
     "data": {
      "text/plain": [
       "array([[  4,   0,   0],\n",
       "       [  2,   0,   0],\n",
       "       [ -2,   0,   0],\n",
       "       [ -8,   0,   0],\n",
       "       [-16,   0,   0]])"
      ]
     },
     "execution_count": 16,
     "metadata": {},
     "output_type": "execute_result"
    }
   ],
   "source": [
    "pos_over_t(TEST_INPUT[1], np.arange(1, 5))"
   ]
  },
  {
   "cell_type": "code",
   "execution_count": 18,
   "metadata": {},
   "outputs": [],
   "source": [
    "a = np.bool_([[True, True], [False, True]])"
   ]
  },
  {
   "cell_type": "code",
   "execution_count": 19,
   "metadata": {},
   "outputs": [
    {
     "data": {
      "text/plain": [
       "array([False,  True], dtype=bool)"
      ]
     },
     "execution_count": 19,
     "metadata": {},
     "output_type": "execute_result"
    }
   ],
   "source": [
    "a[0, :] & a[1, :]"
   ]
  },
  {
   "cell_type": "code",
   "execution_count": 20,
   "metadata": {},
   "outputs": [
    {
     "data": {
      "text/plain": [
       "array([False,  True], dtype=bool)"
      ]
     },
     "execution_count": 20,
     "metadata": {},
     "output_type": "execute_result"
    }
   ],
   "source": [
    "np.logical_and(a[0, :], a[1, :])"
   ]
  },
  {
   "cell_type": "code",
   "execution_count": 55,
   "metadata": {},
   "outputs": [],
   "source": [
    "from scipy.spatial.distance import pdist, squareform"
   ]
  },
  {
   "cell_type": "code",
   "execution_count": 62,
   "metadata": {},
   "outputs": [],
   "source": [
    "def resolve_collisions(point_dict: Dict[int, np.int_], time: int) -> Set[int]:\n",
    "    \"\"\"\n",
    "    Resolve collisions between points given arrays of point positions over time.\n",
    "    \n",
    "    \"\"\"\n",
    "    uncollided = set(point_dict.keys())\n",
    "    \n",
    "    for t in range(time + 1):\n",
    "        collided = set()\n",
    "        \n",
    "        uncollided_arr = np.empty((len(uncollided), 3), dtype=np.int_)\n",
    "        uncollided_map = {}\n",
    "        for i, p in enumerate(uncollided):\n",
    "            uncollided_map[i] = p\n",
    "            uncollided_arr[i, :] = point_dict[p][t, :]\n",
    "        \n",
    "        dists = squareform(pdist(uncollided_arr, metric='cityblock'))\n",
    "        uncollided.difference_update(\n",
    "            uncollided_map[i] \n",
    "            for i in itertools.chain.from_iterable(\n",
    "                pair for pair in zip(*np.where(dists == 0)) if pair[0] != pair[1]))\n",
    "    \n",
    "    return uncollided"
   ]
  },
  {
   "cell_type": "code",
   "execution_count": 30,
   "metadata": {},
   "outputs": [],
   "source": [
    "def collisions_setup(points: list, max_t: int) -> Set[int]:\n",
    "    time_arr = np.arange(1, max_t + 1)\n",
    "    point_dict = {p.id_: pos_over_t(p, time_arr) for p in points}\n",
    "    return resolve_collisions(point_dict, max_t)"
   ]
  },
  {
   "cell_type": "code",
   "execution_count": 64,
   "metadata": {},
   "outputs": [],
   "source": [
    "assert collisions_setup(TEST_INPUT, 3) == {0, 1}\n",
    "assert collisions_setup(TEST_INPUT2, 3) == {3}"
   ]
  },
  {
   "cell_type": "code",
   "execution_count": 66,
   "metadata": {},
   "outputs": [
    {
     "name": "stdout",
     "output_type": "stream",
     "text": [
      "CPU times: user 3min 56s, sys: 4.69 s, total: 4min 1s\n",
      "Wall time: 4min 2s\n"
     ]
    }
   ],
   "source": [
    "%%time\n",
    "result = collisions_setup(PUZZLE_INPUT, 100000)"
   ]
  },
  {
   "cell_type": "code",
   "execution_count": 67,
   "metadata": {},
   "outputs": [
    {
     "data": {
      "text/plain": [
       "504"
      ]
     },
     "execution_count": 67,
     "metadata": {},
     "output_type": "execute_result"
    }
   ],
   "source": [
    "len(result)"
   ]
  },
  {
   "cell_type": "code",
   "execution_count": null,
   "metadata": {},
   "outputs": [],
   "source": []
  }
 ],
 "metadata": {
  "kernelspec": {
   "display_name": "Python 3",
   "language": "python",
   "name": "python3"
  },
  "language_info": {
   "codemirror_mode": {
    "name": "ipython",
    "version": 3
   },
   "file_extension": ".py",
   "mimetype": "text/x-python",
   "name": "python",
   "nbconvert_exporter": "python",
   "pygments_lexer": "ipython3",
   "version": "3.6.3"
  }
 },
 "nbformat": 4,
 "nbformat_minor": 2
}
