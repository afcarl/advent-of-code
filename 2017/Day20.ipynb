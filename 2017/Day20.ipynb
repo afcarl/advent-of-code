{
 "cells": [
  {
   "cell_type": "markdown",
   "metadata": {},
   "source": [
    "# Part 1\n",
    "\n",
    "Suddenly, the GPU contacts you, asking for help. Someone has asked it to simulate too many particles, and it won't be able to finish them all in time to render the next frame at this rate.\n",
    "\n",
    "It transmits to you a buffer (your puzzle input) listing each particle in order (starting with particle 0, then particle 1, particle 2, and so on). For each particle, it provides the X, Y, and Z coordinates for the particle's position (p), velocity (v), and acceleration (a), each in the format `<X,Y,Z>`.\n",
    "\n",
    "Each tick, all particles are updated simultaneously. A particle's properties are updated in the following order:\n",
    "\n",
    "- Increase the X velocity by the X acceleration.\n",
    "- Increase the Y velocity by the Y acceleration.\n",
    "- Increase the Z velocity by the Z acceleration.\n",
    "- Increase the X position by the X velocity.\n",
    "- Increase the Y position by the Y velocity.\n",
    "- Increase the Z position by the Z velocity.\n",
    "\n",
    "Because of seemingly tenuous rationale involving z-buffering, the GPU would like to know which particle will stay closest to position `<0,0,0>` in the long term. Measure this using the Manhattan distance, which in this situation is simply the sum of the absolute values of a particle's X, Y, and Z position.\n",
    "\n",
    "For example, suppose you are only given two particles, both of which stay entirely on the X-axis (for simplicity). Drawing the current states of particles 0 and 1 (in that order) with an adjacent a number line and diagram of current X positions (marked in parenthesis), the following would take place:\n",
    "\n",
    "```\n",
    "p=< 3,0,0>, v=< 2,0,0>, a=<-1,0,0>    -4 -3 -2 -1  0  1  2  3  4\n",
    "p=< 4,0,0>, v=< 0,0,0>, a=<-2,0,0>                         (0)(1)\n",
    "\n",
    "p=< 4,0,0>, v=< 1,0,0>, a=<-1,0,0>    -4 -3 -2 -1  0  1  2  3  4\n",
    "p=< 2,0,0>, v=<-2,0,0>, a=<-2,0,0>                      (1)   (0)\n",
    "\n",
    "p=< 4,0,0>, v=< 0,0,0>, a=<-1,0,0>    -4 -3 -2 -1  0  1  2  3  4\n",
    "p=<-2,0,0>, v=<-4,0,0>, a=<-2,0,0>          (1)               (0)\n",
    "\n",
    "p=< 3,0,0>, v=<-1,0,0>, a=<-1,0,0>    -4 -3 -2 -1  0  1  2  3  4\n",
    "p=<-8,0,0>, v=<-6,0,0>, a=<-2,0,0>                         (0)   \n",
    "```\n",
    "\n",
    "At this point, particle 1 will never be closer to `<0,0,0>` than particle 0, and so, in the long run, particle 0 will stay closest.\n",
    "\n",
    "Which particle will stay closest to position `<0,0,0>` in the long term?"
   ]
  },
  {
   "cell_type": "code",
   "execution_count": 42,
   "metadata": {},
   "outputs": [],
   "source": [
    "import re\n",
    "from io import StringIO\n",
    "from textwrap import dedent\n",
    "from typing import Tuple\n",
    "\n",
    "import numpy as np\n",
    "from dataclasses import dataclass"
   ]
  },
  {
   "cell_type": "code",
   "execution_count": 44,
   "metadata": {},
   "outputs": [],
   "source": [
    "@dataclass\n",
    "class Point:\n",
    "    id_: int\n",
    "    pos: Tuple[int]\n",
    "    vel: Tuple[int]\n",
    "    acc: Tuple[int]"
   ]
  },
  {
   "cell_type": "code",
   "execution_count": 45,
   "metadata": {},
   "outputs": [],
   "source": [
    "def process_points(rows):\n",
    "    points = []\n",
    "    for i, row in enumerate(rows):\n",
    "        p, v, a = (\n",
    "            tuple(int(x) for x in item.group(0)[1:-1].split(',')) \n",
    "            for item in re.finditer(r'\\<(.+?)\\>', row))\n",
    "        points.append(Point(i, p, v, a))\n",
    "    return points"
   ]
  },
  {
   "cell_type": "code",
   "execution_count": 46,
   "metadata": {},
   "outputs": [],
   "source": [
    "def _test_input():\n",
    "    return process_points(StringIO(dedent(\"\"\"\\\n",
    "        p=< 3,0,0>, v=< 2,0,0>, a=<-1,0,0>\n",
    "        p=< 4,0,0>, v=< 0,0,0>, a=<-2,0,0>\n",
    "        \"\"\")))\n",
    "TEST_INPUT = _test_input()"
   ]
  },
  {
   "cell_type": "code",
   "execution_count": 47,
   "metadata": {},
   "outputs": [],
   "source": [
    "def _puzzle_input():\n",
    "    with open('./inputs/day20/input.txt') as f:\n",
    "        return process_points(f)\n",
    "PUZZLE_INPUT = _puzzle_input()"
   ]
  },
  {
   "cell_type": "code",
   "execution_count": 63,
   "metadata": {},
   "outputs": [],
   "source": [
    "def pos_at_t(point: Point, time_arr: np.array) -> Tuple[int]:\n",
    "    return tuple(point.pos[i] + (point.acc[i] * time_arr + point.vel[i]).sum() for i in range(3))"
   ]
  },
  {
   "cell_type": "code",
   "execution_count": 56,
   "metadata": {},
   "outputs": [],
   "source": [
    "assert pos_at_t(TEST_INPUT[0], 1) == (4, 0, 0)\n",
    "assert pos_at_t(TEST_INPUT[0], 2) == (4, 0, 0)\n",
    "assert pos_at_t(TEST_INPUT[0], 3) == (3, 0, 0)\n",
    "\n",
    "assert pos_at_t(TEST_INPUT[1], 1) == (2, 0, 0)\n",
    "assert pos_at_t(TEST_INPUT[1], 2) == (-2, 0, 0)\n",
    "assert pos_at_t(TEST_INPUT[1], 3) == (-8, 0, 0)"
   ]
  },
  {
   "cell_type": "code",
   "execution_count": 64,
   "metadata": {},
   "outputs": [],
   "source": [
    "time_arr = np.arange(1, 100 + 1)\n",
    "assert min(TEST_INPUT, key=lambda p: sum(abs(x) for x in pos_at_t(p, time_arr))).id_ == 0"
   ]
  },
  {
   "cell_type": "code",
   "execution_count": 65,
   "metadata": {},
   "outputs": [
    {
     "data": {
      "text/plain": [
       "Point(id_=308, pos=(2978, 2082, 4280), vel=(-135, -88, -178), acc=(1, 0, 0))"
      ]
     },
     "execution_count": 65,
     "metadata": {},
     "output_type": "execute_result"
    }
   ],
   "source": [
    "time_arr = np.arange(1, 100000 + 1)\n",
    "min(PUZZLE_INPUT, key=lambda p: sum(abs(x) for x in pos_at_t(p, time_arr)))"
   ]
  },
  {
   "cell_type": "markdown",
   "metadata": {},
   "source": [
    "# Part 2\n",
    "\n",
    "To simplify the problem further, the GPU would like to remove any particles that collide. Particles collide if their positions ever exactly match. Because particles are updated simultaneously, more than two particles can collide at the same time and place. Once particles collide, they are removed and cannot collide with anything else after that tick.\n",
    "\n",
    "For example:\n",
    "\n",
    "```\n",
    "p=<-6,0,0>, v=< 3,0,0>, a=< 0,0,0>    \n",
    "p=<-4,0,0>, v=< 2,0,0>, a=< 0,0,0>    -6 -5 -4 -3 -2 -1  0  1  2  3\n",
    "p=<-2,0,0>, v=< 1,0,0>, a=< 0,0,0>    (0)   (1)   (2)            (3)\n",
    "p=< 3,0,0>, v=<-1,0,0>, a=< 0,0,0>\n",
    "\n",
    "p=<-3,0,0>, v=< 3,0,0>, a=< 0,0,0>    \n",
    "p=<-2,0,0>, v=< 2,0,0>, a=< 0,0,0>    -6 -5 -4 -3 -2 -1  0  1  2  3\n",
    "p=<-1,0,0>, v=< 1,0,0>, a=< 0,0,0>             (0)(1)(2)      (3)   \n",
    "p=< 2,0,0>, v=<-1,0,0>, a=< 0,0,0>\n",
    "\n",
    "p=< 0,0,0>, v=< 3,0,0>, a=< 0,0,0>    \n",
    "p=< 0,0,0>, v=< 2,0,0>, a=< 0,0,0>    -6 -5 -4 -3 -2 -1  0  1  2  3\n",
    "p=< 0,0,0>, v=< 1,0,0>, a=< 0,0,0>                       X (3)      \n",
    "p=< 1,0,0>, v=<-1,0,0>, a=< 0,0,0>\n",
    "\n",
    "------destroyed by collision------    \n",
    "------destroyed by collision------    -6 -5 -4 -3 -2 -1  0  1  2  3\n",
    "------destroyed by collision------                      (3)         \n",
    "p=< 0,0,0>, v=<-1,0,0>, a=< 0,0,0>\n",
    "```\n",
    "\n",
    "In this example, particles 0, 1, and 2 are simultaneously destroyed at the time and place marked X. On the next tick, particle 3 passes through unharmed.\n",
    "\n",
    "How many particles are left after all collisions are resolved?"
   ]
  },
  {
   "cell_type": "code",
   "execution_count": 66,
   "metadata": {},
   "outputs": [
    {
     "data": {
      "text/plain": [
       "array([[1],\n",
       "       [2],\n",
       "       [3]])"
      ]
     },
     "execution_count": 66,
     "metadata": {},
     "output_type": "execute_result"
    }
   ],
   "source": [
    "np.int_((1, 2, 3)).reshape((3, 1)) + "
   ]
  },
  {
   "cell_type": "code",
   "execution_count": 73,
   "metadata": {},
   "outputs": [],
   "source": [
    "def pos_over_t(point: Point, time_arr: np.array) -> np.array:\n",
    "    pos = np.int_(point.pos).reshape((3, 1))\n",
    "    vel_over_t = np.empty((3, time_arr.shape[0] + 1), dtype=np.int_)\n",
    "    vel_over_t[:, 0] = 0\n",
    "    for i in range(3):\n",
    "        vel_over_t[i, 1:] = (point.acc[i] * time_arr + point.vel[i]).cumsum()\n",
    "    return pos + vel_over_t"
   ]
  },
  {
   "cell_type": "code",
   "execution_count": 76,
   "metadata": {},
   "outputs": [
    {
     "data": {
      "text/plain": [
       "array([[ 4,  2, -2, -8],\n",
       "       [ 0,  0,  0,  0],\n",
       "       [ 0,  0,  0,  0]])"
      ]
     },
     "execution_count": 76,
     "metadata": {},
     "output_type": "execute_result"
    }
   ],
   "source": [
    "pos_over_t(TEST_INPUT[1], np.arange(1, 4))"
   ]
  },
  {
   "cell_type": "code",
   "execution_count": null,
   "metadata": {},
   "outputs": [],
   "source": []
  }
 ],
 "metadata": {
  "kernelspec": {
   "display_name": "Python 3",
   "language": "python",
   "name": "python3"
  },
  "language_info": {
   "codemirror_mode": {
    "name": "ipython",
    "version": 3
   },
   "file_extension": ".py",
   "mimetype": "text/x-python",
   "name": "python",
   "nbconvert_exporter": "python",
   "pygments_lexer": "ipython3",
   "version": "3.6.3"
  }
 },
 "nbformat": 4,
 "nbformat_minor": 2
}
