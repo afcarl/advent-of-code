{
 "cells": [
  {
   "cell_type": "markdown",
   "metadata": {},
   "source": [
    "# Part 1\n",
    "\n",
    "Here, you encounter a pair of dueling generators. The generators, called generator A and generator B, are trying to agree on a sequence of numbers. However, one of them is malfunctioning, and so the sequences don't always match.\n",
    "\n",
    "As they do this, a judge waits for each of them to generate its next value, compares the lowest 16 bits of both values, and keeps track of the number of times those parts of the values match.\n",
    "\n",
    "The generators both work on the same principle. To create its next value, a generator will take the previous value it produced, multiply it by a factor (generator A uses 16807; generator B uses 48271), and then keep the remainder of dividing that resulting product by `2147483647`. That final remainder is the value it produces next.\n",
    "\n",
    "To calculate each generator's first value, it instead uses a specific starting value as its \"previous value\" (as listed in your puzzle input).\n",
    "\n",
    "For example, suppose that for starting values, generator A uses 65, while generator B uses 8921. Then, the first five pairs of generated values are:\n",
    "\n",
    "```\n",
    "--Gen. A--  --Gen. B--\n",
    "   1092455   430625591\n",
    "1181022009  1233683848\n",
    " 245556042  1431495498\n",
    "1744312007   137874439\n",
    "1352636452   285222916\n",
    "```\n",
    "\n",
    "In binary, these pairs are (with generator A's value first in each pair):\n",
    "\n",
    "```\n",
    "00000000000100001010101101100111\n",
    "00011001101010101101001100110111\n",
    "\n",
    "01000110011001001111011100111001\n",
    "01001001100010001000010110001000\n",
    "\n",
    "00001110101000101110001101001010\n",
    "01010101010100101110001101001010\n",
    "\n",
    "01100111111110000001011011000111\n",
    "00001000001101111100110000000111\n",
    "\n",
    "01010000100111111001100000100100\n",
    "00010001000000000010100000000100\n",
    "```\n",
    "\n",
    "Here, you can see that the lowest (here, rightmost) 16 bits of the third value match: `1110001101001010`. Because of this one match, after processing these five pairs, the judge would have added only 1 to its total.\n",
    "\n",
    "To get a significant sample, the judge would like to consider 40 million pairs. (In the example above, the judge would eventually find a total of 588 pairs that match in their lowest 16 bits.)\n",
    "\n",
    "After 40 million pairs, what is the judge's final count?\n",
    "\n",
    "```\n",
    "Generator A starts with 512\n",
    "Generator B starts with 191\n",
    "```"
   ]
  },
  {
   "cell_type": "markdown",
   "metadata": {},
   "source": [
    "## Plain Python"
   ]
  },
  {
   "cell_type": "code",
   "execution_count": 13,
   "metadata": {},
   "outputs": [],
   "source": [
    "import itertools"
   ]
  },
  {
   "cell_type": "code",
   "execution_count": 21,
   "metadata": {},
   "outputs": [],
   "source": [
    "genA_test = 65\n",
    "genB_test = 8921\n",
    "\n",
    "genA_puzzle = 512\n",
    "genB_puzzle = 191\n",
    "\n",
    "genA_factor = 16807\n",
    "genB_factor = 48271"
   ]
  },
  {
   "cell_type": "code",
   "execution_count": 14,
   "metadata": {},
   "outputs": [],
   "source": [
    "def gen(start, factor):\n",
    "    result = start\n",
    "    while True:\n",
    "        result = (result * factor) % 2147483647\n",
    "        yield result"
   ]
  },
  {
   "cell_type": "code",
   "execution_count": 15,
   "metadata": {},
   "outputs": [],
   "source": [
    "def genA(start):\n",
    "    yield from gen(start, 16807)\n",
    "    \n",
    "def genB(start):\n",
    "    yield from gen(start, 48271)"
   ]
  },
  {
   "cell_type": "code",
   "execution_count": 16,
   "metadata": {},
   "outputs": [],
   "source": [
    "assert list(itertools.islice(genA(genA_test), 5)) == [1092455, 1181022009, 245556042, 1744312007, 1352636452]\n",
    "assert list(itertools.islice(genB(genB_test), 5)) == [430625591, 1233683848, 1431495498, 137874439, 285222916]"
   ]
  },
  {
   "cell_type": "code",
   "execution_count": 17,
   "metadata": {},
   "outputs": [],
   "source": [
    "def bin16(x):\n",
    "    return bin(x)[2:][-16:].zfill(16)"
   ]
  },
  {
   "cell_type": "code",
   "execution_count": 18,
   "metadata": {},
   "outputs": [],
   "source": [
    "def judge(gA, gB, num):\n",
    "    gA = itertools.islice(gA, num)\n",
    "    gB = itertools.islice(gB, num)\n",
    "    return sum(bin16(val1) == bin16(val2) for val1, val2 in zip(gA, gB))"
   ]
  },
  {
   "cell_type": "code",
   "execution_count": 8,
   "metadata": {},
   "outputs": [],
   "source": [
    "result = judge(genA(genA_test), genB(genB_test), 40000000)\n",
    "assert result == 588, result"
   ]
  },
  {
   "cell_type": "code",
   "execution_count": 9,
   "metadata": {},
   "outputs": [
    {
     "name": "stdout",
     "output_type": "stream",
     "text": [
      "CPU times: user 1min 54s, sys: 909 ms, total: 1min 55s\n",
      "Wall time: 2min\n"
     ]
    },
    {
     "data": {
      "text/plain": [
       "567"
      ]
     },
     "execution_count": 9,
     "metadata": {},
     "output_type": "execute_result"
    }
   ],
   "source": [
    "%time judge(genA(genA_puzzle), genB(genB_puzzle), 40000000)"
   ]
  },
  {
   "cell_type": "markdown",
   "metadata": {},
   "source": [
    "## Cython"
   ]
  },
  {
   "cell_type": "code",
   "execution_count": 3,
   "metadata": {},
   "outputs": [],
   "source": [
    "import cytoolz as tz"
   ]
  },
  {
   "cell_type": "code",
   "execution_count": 1,
   "metadata": {},
   "outputs": [],
   "source": [
    "%load_ext cython"
   ]
  },
  {
   "cell_type": "code",
   "execution_count": 67,
   "metadata": {},
   "outputs": [],
   "source": [
    "%%cython\n",
    "cdef class cygen:\n",
    "    cdef unsigned long result, factor\n",
    "    \n",
    "    def __cinit__(self, unsigned long result, unsigned long factor):\n",
    "        self.result = result\n",
    "        self.factor = factor\n",
    "    \n",
    "    def __iter__(self):\n",
    "        return self\n",
    "    \n",
    "    def __next__(self):\n",
    "        cdef unsigned long _, val\n",
    "        val = (self.result * self.factor) % 2147483647\n",
    "        self.result = val\n",
    "        return val\n",
    "\n",
    "cpdef str cybin16(unsigned long x):\n",
    "    return bin(x)[2:][-16:].zfill(16)\n",
    "\n",
    "cpdef int cyjudge(object gA, object gB):\n",
    "    cdef int count = 0\n",
    "    cdef unsigned long val1, val2\n",
    "    for val1, val2 in zip(gA, gB):\n",
    "        if cybin16(val1) == cybin16(val2):\n",
    "            count += 1\n",
    "    return count"
   ]
  },
  {
   "cell_type": "code",
   "execution_count": 60,
   "metadata": {},
   "outputs": [
    {
     "name": "stdout",
     "output_type": "stream",
     "text": [
      "276 µs ± 2.42 µs per loop (mean ± std. dev. of 7 runs, 1000 loops each)\n"
     ]
    }
   ],
   "source": [
    "%timeit list(itertools.islice(genA(genA_test), 1000))"
   ]
  },
  {
   "cell_type": "code",
   "execution_count": 61,
   "metadata": {
    "scrolled": true
   },
   "outputs": [
    {
     "name": "stdout",
     "output_type": "stream",
     "text": [
      "34.3 µs ± 1.61 µs per loop (mean ± std. dev. of 7 runs, 10000 loops each)\n"
     ]
    }
   ],
   "source": [
    "%timeit list(tz.take(1000, cygen(genA_test, 16807)))"
   ]
  },
  {
   "cell_type": "code",
   "execution_count": 62,
   "metadata": {},
   "outputs": [],
   "source": [
    "assert cybin16(100) == bin16(100)"
   ]
  },
  {
   "cell_type": "code",
   "execution_count": 63,
   "metadata": {},
   "outputs": [
    {
     "name": "stdout",
     "output_type": "stream",
     "text": [
      "585 ns ± 9.91 ns per loop (mean ± std. dev. of 7 runs, 1000000 loops each)\n"
     ]
    }
   ],
   "source": [
    "%timeit bin16(123)"
   ]
  },
  {
   "cell_type": "code",
   "execution_count": 64,
   "metadata": {},
   "outputs": [
    {
     "name": "stdout",
     "output_type": "stream",
     "text": [
      "465 ns ± 12.3 ns per loop (mean ± std. dev. of 7 runs, 1000000 loops each)\n"
     ]
    }
   ],
   "source": [
    "%timeit cybin16(123)"
   ]
  },
  {
   "cell_type": "code",
   "execution_count": 65,
   "metadata": {},
   "outputs": [],
   "source": [
    "assert list(tz.take(5, cygen(genA_test, genA_factor))) == [1092455, 1181022009, 245556042, 1744312007, 1352636452]\n",
    "assert list(tz.take(5, cygen(genB_test, genB_factor))) == [430625591, 1233683848, 1431495498, 137874439, 285222916]"
   ]
  },
  {
   "cell_type": "code",
   "execution_count": 68,
   "metadata": {},
   "outputs": [
    {
     "name": "stdout",
     "output_type": "stream",
     "text": [
      "CPU times: user 50.4 s, sys: 123 ms, total: 50.6 s\n",
      "Wall time: 50.7 s\n"
     ]
    }
   ],
   "source": [
    "%%time\n",
    "num = 40000000\n",
    "result = sum(cybin16(val1) == cybin16(val2) \n",
    "    for val1, val2 in zip(tz.take(num, cygen(genA_test, genA_factor)), tz.take(num, cygen(genB_test, genB_factor))))\n",
    "assert result == 588, result"
   ]
  },
  {
   "cell_type": "code",
   "execution_count": 69,
   "metadata": {},
   "outputs": [
    {
     "name": "stdout",
     "output_type": "stream",
     "text": [
      "CPU times: user 51.3 s, sys: 134 ms, total: 51.4 s\n",
      "Wall time: 51.6 s\n"
     ]
    }
   ],
   "source": [
    "%%time\n",
    "num = 40000000\n",
    "sum(cybin16(val1) == cybin16(val2) \n",
    "    for val1, val2 in zip(tz.take(num, cygen(genA_puzzle, genA_factor)), tz.take(num, cygen(genB_puzzle, genB_factor))))"
   ]
  },
  {
   "cell_type": "code",
   "execution_count": 70,
   "metadata": {
    "scrolled": true
   },
   "outputs": [
    {
     "name": "stdout",
     "output_type": "stream",
     "text": [
      "CPU times: user 40.3 s, sys: 245 ms, total: 40.6 s\n",
      "Wall time: 40.5 s\n"
     ]
    }
   ],
   "source": [
    "%%time\n",
    "num = 40000000\n",
    "result = cyjudge(tz.take(num, cygen(genA_test, genA_factor)), tz.take(num, cygen(genB_test, genB_factor)))\n",
    "assert result == 588, result"
   ]
  },
  {
   "cell_type": "code",
   "execution_count": 71,
   "metadata": {
    "scrolled": true
   },
   "outputs": [
    {
     "name": "stdout",
     "output_type": "stream",
     "text": [
      "567\n",
      "CPU times: user 41.9 s, sys: 342 ms, total: 42.3 s\n",
      "Wall time: 42.3 s\n"
     ]
    }
   ],
   "source": [
    "%%time\n",
    "num = 40000000\n",
    "result = cyjudge(tz.take(num, cygen(genA_puzzle, genA_factor)), tz.take(num, cygen(genB_puzzle, genB_factor)))\n",
    "print(result)"
   ]
  },
  {
   "cell_type": "code",
   "execution_count": 72,
   "metadata": {},
   "outputs": [],
   "source": [
    "%%cython\n",
    "cdef str cybin16(unsigned long x):\n",
    "    return bin(x)[2:][-16:].zfill(16)\n",
    "\n",
    "cpdef int cyjudge2():\n",
    "    cdef int count = 0\n",
    "    cdef unsigned long _\n",
    "    cdef unsigned long mod_factor = 2147483647\n",
    "    cdef unsigned long a_factor = 16807\n",
    "    cdef unsigned long b_factor = 48271\n",
    "    cdef unsigned long a_result = 512\n",
    "    cdef unsigned long b_result = 191\n",
    "    \n",
    "    for _ in range(40000000):\n",
    "        a_result = (a_result * a_factor) % mod_factor\n",
    "        b_result = (b_result * b_factor) % mod_factor\n",
    "        if cybin16(a_result) == cybin16(b_result):\n",
    "            count += 1\n",
    "    \n",
    "    return count"
   ]
  },
  {
   "cell_type": "code",
   "execution_count": 73,
   "metadata": {},
   "outputs": [
    {
     "name": "stdout",
     "output_type": "stream",
     "text": [
      "CPU times: user 38.2 s, sys: 284 ms, total: 38.5 s\n",
      "Wall time: 38.5 s\n"
     ]
    },
    {
     "data": {
      "text/plain": [
       "567"
      ]
     },
     "execution_count": 73,
     "metadata": {},
     "output_type": "execute_result"
    }
   ],
   "source": [
    "%time cyjudge2()"
   ]
  },
  {
   "cell_type": "markdown",
   "metadata": {},
   "source": [
    "# Part 2\n",
    "\n",
    "In the interest of trying to align a little better, the generators get more picky about the numbers they actually give to the judge.\n",
    "\n",
    "They still generate values in the same way, but now they only hand a value to the judge when it meets their criteria:\n",
    "\n",
    "```\n",
    "Generator A looks for values that are multiples of 4.\n",
    "Generator B looks for values that are multiples of 8.\n",
    "```\n",
    "\n",
    "Each generator functions completely independently: they both go through values entirely on their own, only occasionally handing an acceptable value to the judge, and otherwise working through the same sequence of values as before until they find one.\n",
    "\n",
    "The judge still waits for each generator to provide it with a value before comparing them (using the same comparison method as before). It keeps track of the order it receives values; the first values from each generator are compared, then the second values from each generator, then the third values, and so on.\n",
    "\n",
    "Using the example starting values given above, the generators now produce the following first five values each:\n",
    "\n",
    "```\n",
    "--Gen. A--  --Gen. B--\n",
    "1352636452  1233683848\n",
    "1992081072   862516352\n",
    " 530830436  1159784568\n",
    "1980017072  1616057672\n",
    " 740335192   412269392\n",
    "```\n",
    "\n",
    "These values have the following corresponding binary values:\n",
    "\n",
    "```\n",
    "01010000100111111001100000100100\n",
    "01001001100010001000010110001000\n",
    "\n",
    "01110110101111001011111010110000\n",
    "00110011011010001111010010000000\n",
    "\n",
    "00011111101000111101010001100100\n",
    "01000101001000001110100001111000\n",
    "\n",
    "01110110000001001010100110110000\n",
    "01100000010100110001010101001000\n",
    "\n",
    "00101100001000001001111001011000\n",
    "00011000100100101011101101010000\n",
    "```\n",
    "\n",
    "Unfortunately, even though this change makes more bits similar on average, none of these values' lowest 16 bits match. Now, it's not until the 1056th pair that the judge finds the first match:\n",
    "\n",
    "```\n",
    "--Gen. A--  --Gen. B--\n",
    "1023762912   896885216\n",
    "\n",
    "00111101000001010110000111100000\n",
    "00110101011101010110000111100000\n",
    "```\n",
    "\n",
    "This change makes the generators much slower, and the judge is getting impatient; it is now only willing to consider 5 million pairs. (Using the values from the example above, after five million pairs, the judge would eventually find a total of 309 pairs that match in their lowest 16 bits.)\n",
    "\n",
    "After 5 million pairs, but using this new generator logic, what is the judge's final count?"
   ]
  },
  {
   "cell_type": "code",
   "execution_count": 10,
   "metadata": {},
   "outputs": [],
   "source": [
    "def genA2(start):\n",
    "    for x in gen(start, 16807):\n",
    "        if x % 4 == 0:\n",
    "            yield x\n",
    "    \n",
    "def genB2(start):\n",
    "    for x in gen(start, 48271):\n",
    "        if x % 8 == 0:\n",
    "            yield x"
   ]
  },
  {
   "cell_type": "code",
   "execution_count": 11,
   "metadata": {},
   "outputs": [],
   "source": [
    "result = judge(genA2(genA_test), genB2(genB_test), 5000000)\n",
    "assert result == 309, result"
   ]
  },
  {
   "cell_type": "code",
   "execution_count": 12,
   "metadata": {},
   "outputs": [
    {
     "data": {
      "text/plain": [
       "323"
      ]
     },
     "execution_count": 12,
     "metadata": {},
     "output_type": "execute_result"
    }
   ],
   "source": [
    "judge(genA2(genA_puzzle), genB2(genB_puzzle), 5000000)"
   ]
  },
  {
   "cell_type": "code",
   "execution_count": null,
   "metadata": {},
   "outputs": [],
   "source": []
  }
 ],
 "metadata": {
  "kernelspec": {
   "display_name": "Python 3",
   "language": "python",
   "name": "python3"
  },
  "language_info": {
   "codemirror_mode": {
    "name": "ipython",
    "version": 3
   },
   "file_extension": ".py",
   "mimetype": "text/x-python",
   "name": "python",
   "nbconvert_exporter": "python",
   "pygments_lexer": "ipython3",
   "version": "3.6.3"
  }
 },
 "nbformat": 4,
 "nbformat_minor": 2
}
