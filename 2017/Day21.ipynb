{
 "cells": [
  {
   "cell_type": "markdown",
   "metadata": {},
   "source": [
    "# Part 1\n",
    "\n",
    "You find a program trying to generate some art. It uses a strange process that involves repeatedly enhancing the detail of an image through a set of rules.\n",
    "\n",
    "The image consists of a two-dimensional square grid of pixels that are either on (`#`) or off (`.`). The program always begins with this pattern:\n",
    "\n",
    "```\n",
    ".#.\n",
    "..#\n",
    "###\n",
    "```\n",
    "\n",
    "Because the pattern is both 3 pixels wide and 3 pixels tall, it is said to have a size of 3.\n",
    "\n",
    "Then, the program repeats the following process:\n",
    "\n",
    "- If the size is evenly divisible by 2, break the pixels up into 2x2 squares, and convert each 2x2 square into a 3x3 square by following the corresponding enhancement rule.\n",
    "- Otherwise, the size is evenly divisible by 3; break the pixels up into 3x3 squares, and convert each 3x3 square into a 4x4 square by following the corresponding enhancement rule.\n",
    "\n",
    "Because each square of pixels is replaced by a larger one, the image gains pixels and so its size increases.\n",
    "\n",
    "The artist's book of enhancement rules is nearby (your puzzle input); however, it seems to be missing rules. The artist explains that sometimes, one must rotate or flip the input pattern to find a match. (Never rotate or flip the output pattern, though.) Each pattern is written concisely: rows are listed as single units, ordered top-down, and separated by slashes. For example, the following rules correspond to the adjacent patterns:\n",
    "\n",
    "```\n",
    "../.#  =  ..\n",
    "          .#\n",
    "\n",
    "                .#.\n",
    ".#./..#/###  =  ..#\n",
    "                ###\n",
    "\n",
    "                        #..#\n",
    "#..#/..../#..#/.##.  =  ....\n",
    "                        #..#\n",
    "                        .##.\n",
    "```\n",
    "\n",
    "When searching for a rule to use, rotate and flip the pattern as necessary. For example, all of the following patterns match the same rule:\n",
    "\n",
    "```\n",
    ".#.   .#.   #..   ###\n",
    "..#   #..   #.#   ..#\n",
    "###   ###   ##.   .#.\n",
    "```\n",
    "\n",
    "Suppose the book contained the following two rules:\n",
    "\n",
    "```\n",
    "../.# => ##./#../...\n",
    ".#./..#/### => #..#/..../..../#..#\n",
    "```\n",
    "\n",
    "As before, the program begins with this pattern:\n",
    "\n",
    "```\n",
    ".#.\n",
    "..#\n",
    "###\n",
    "```\n",
    "\n",
    "The size of the grid (3) is not divisible by 2, but it is divisible by 3. It divides evenly into a single square; the square matches the second rule, which produces:\n",
    "\n",
    "```\n",
    "#..#\n",
    "....\n",
    "....\n",
    "#..#\n",
    "```\n",
    "\n",
    "The size of this enhanced grid (4) is evenly divisible by 2, so that rule is used. It divides evenly into four squares:\n",
    "\n",
    "```\n",
    "#.|.#\n",
    "..|..\n",
    "--+--\n",
    "..|..\n",
    "#.|.#\n",
    "```\n",
    "\n",
    "Each of these squares matches the same rule (`../.# => ##./#../...`), three of which require some flipping and rotation to line up with the rule. The output for the rule is the same in all four cases:\n",
    "\n",
    "```\n",
    "##.|##.\n",
    "#..|#..\n",
    "...|...\n",
    "---+---\n",
    "##.|##.\n",
    "#..|#..\n",
    "...|...\n",
    "```\n",
    "\n",
    "Finally, the squares are joined into a new grid:\n",
    "\n",
    "```\n",
    "##.##.\n",
    "#..#..\n",
    "......\n",
    "##.##.\n",
    "#..#..\n",
    "......\n",
    "```\n",
    "\n",
    "Thus, after 2 iterations, the grid contains 12 pixels that are on.\n",
    "\n",
    "How many pixels stay on after 5 iterations?"
   ]
  },
  {
   "cell_type": "code",
   "execution_count": 52,
   "metadata": {},
   "outputs": [],
   "source": [
    "from io import StringIO\n",
    "from itertools import product\n",
    "from textwrap import dedent\n",
    "\n",
    "import numpy as np\n",
    "import numpy.testing as npt"
   ]
  },
  {
   "cell_type": "code",
   "execution_count": 90,
   "metadata": {},
   "outputs": [],
   "source": [
    "def arrayize(text: str) -> np.uint8:\n",
    "        return np.uint8([[1 if c == '#' else 0 for c in r] for r in text.strip().split('/')])\n",
    "    \n",
    "\n",
    "def flips(arr: np.array) -> np.array:\n",
    "    # original array\n",
    "    yield arr\n",
    "    # flip vertically\n",
    "    yield np.flipud(arr)\n",
    "    # flip horizontally\n",
    "    yield np.fliplr(arr)\n",
    "    # flip both\n",
    "    yield np.flipud(np.fliplr(arr))\n",
    "    \n",
    "    \n",
    "def transforms(arr: np.array) -> np.array:\n",
    "    \"\"\"Flip and rotate a 2D input array\"\"\"\n",
    "    for farr in flips(arr):\n",
    "        yield farr\n",
    "        # transpose\n",
    "        yield farr.T\n",
    "        # rotate counter-clockwise\n",
    "        yield np.rot90(arr)\n",
    "        # rotate clockwise\n",
    "        yield np.rot90(arr, k=-1)\n",
    "        # rotate 180 degrees\n",
    "        yield np.rot90(arr, k=2)\n",
    "    \n",
    "    \n",
    "def load_rules(rows) -> dict:\n",
    "    rules = {}\n",
    "    \n",
    "    for row in rows:\n",
    "        from_, to = (arrayize(part) for part in row.split(' => '))\n",
    "        for form in transforms(from_):\n",
    "            rules[form.tobytes()] = to\n",
    "    \n",
    "    return rules"
   ]
  },
  {
   "cell_type": "code",
   "execution_count": 21,
   "metadata": {},
   "outputs": [
    {
     "data": {
      "text/plain": [
       "array([[0, 1, 0],\n",
       "       [0, 0, 1],\n",
       "       [1, 1, 1]], dtype=uint8)"
      ]
     },
     "execution_count": 21,
     "metadata": {},
     "output_type": "execute_result"
    }
   ],
   "source": [
    "START_ARR = arrayize('.#./..#/###')\n",
    "START_ARR"
   ]
  },
  {
   "cell_type": "code",
   "execution_count": 91,
   "metadata": {},
   "outputs": [],
   "source": [
    "def _test_input():\n",
    "    return load_rules(StringIO(dedent(\"\"\"\\\n",
    "        ../.# => ##./#../...\n",
    "        .#./..#/### => #..#/..../..../#..#\n",
    "        \"\"\")))\n",
    "TEST_INPUT = _test_input()"
   ]
  },
  {
   "cell_type": "code",
   "execution_count": 92,
   "metadata": {},
   "outputs": [],
   "source": [
    "def _puzzle_input():\n",
    "    with open('./inputs/day21/input.txt') as f:\n",
    "        return load_rules(f)\n",
    "PUZZLE_INPUT = _puzzle_input()"
   ]
  },
  {
   "cell_type": "code",
   "execution_count": 93,
   "metadata": {},
   "outputs": [
    {
     "data": {
      "text/plain": [
       "528"
      ]
     },
     "execution_count": 93,
     "metadata": {},
     "output_type": "execute_result"
    }
   ],
   "source": [
    "len(PUZZLE_INPUT)"
   ]
  },
  {
   "cell_type": "code",
   "execution_count": 94,
   "metadata": {},
   "outputs": [],
   "source": [
    "def grow(arr: np.array, rules: dict, iterations: int) -> np.array:\n",
    "    for _ in range(iterations):\n",
    "        if arr.shape[0] % 2 == 0:\n",
    "            box_size = 2\n",
    "        else:\n",
    "            box_size = 3\n",
    "\n",
    "        new_box_size = box_size + 1\n",
    "        new_size = new_box_size * (arr.shape[0] // box_size)\n",
    "        new_arr = np.empty((new_size, new_size), dtype=np.uint8)\n",
    "\n",
    "        for (i, j), (ni, nj) in zip(\n",
    "                product(range(0, arr.shape[0], box_size), repeat=2),\n",
    "                product(range(0, new_size, new_box_size), repeat=2)):\n",
    "            new_arr[ni:ni + new_box_size, nj:nj + new_box_size] = \\\n",
    "                rules[arr[i:i + box_size, j:j + box_size].tobytes()]\n",
    "        \n",
    "        arr = new_arr\n",
    "    \n",
    "    return arr"
   ]
  },
  {
   "cell_type": "code",
   "execution_count": 95,
   "metadata": {},
   "outputs": [],
   "source": [
    "result = grow(START_ARR, TEST_INPUT, 2)\n",
    "npt.assert_array_equal(\n",
    "    result,\n",
    "    np.uint8([\n",
    "        [1, 1, 0, 1, 1, 0],\n",
    "        [1, 0, 0, 1, 0, 0],\n",
    "        [0, 0, 0, 0, 0, 0],\n",
    "        [1, 1, 0, 1, 1, 0],\n",
    "        [1, 0, 0, 1, 0, 0],\n",
    "        [0, 0, 0, 0, 0, 0],\n",
    "    ]))\n",
    "assert result.sum() == 12"
   ]
  },
  {
   "cell_type": "code",
   "execution_count": 96,
   "metadata": {},
   "outputs": [
    {
     "data": {
      "text/plain": [
       "167"
      ]
     },
     "execution_count": 96,
     "metadata": {},
     "output_type": "execute_result"
    }
   ],
   "source": [
    "grow(START_ARR, PUZZLE_INPUT, 5).sum()"
   ]
  },
  {
   "cell_type": "markdown",
   "metadata": {},
   "source": [
    "# Part 2\n",
    "\n",
    "How many pixels stay on after 18 iterations?"
   ]
  },
  {
   "cell_type": "code",
   "execution_count": 97,
   "metadata": {},
   "outputs": [
    {
     "data": {
      "text/plain": [
       "2425195"
      ]
     },
     "execution_count": 97,
     "metadata": {},
     "output_type": "execute_result"
    }
   ],
   "source": [
    "grow(START_ARR, PUZZLE_INPUT, 18).sum()"
   ]
  },
  {
   "cell_type": "code",
   "execution_count": null,
   "metadata": {},
   "outputs": [],
   "source": []
  }
 ],
 "metadata": {
  "kernelspec": {
   "display_name": "Python 3",
   "language": "python",
   "name": "python3"
  },
  "language_info": {
   "codemirror_mode": {
    "name": "ipython",
    "version": 3
   },
   "file_extension": ".py",
   "mimetype": "text/x-python",
   "name": "python",
   "nbconvert_exporter": "python",
   "pygments_lexer": "ipython3",
   "version": "3.6.3"
  }
 },
 "nbformat": 4,
 "nbformat_minor": 2
}
