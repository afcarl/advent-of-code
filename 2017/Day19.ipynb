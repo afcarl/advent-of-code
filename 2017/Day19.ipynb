{
 "cells": [
  {
   "cell_type": "markdown",
   "metadata": {},
   "source": [
    "# Part 1\n",
    "\n",
    "Somehow, a network packet got lost and ended up here. It's trying to follow a routing diagram (your puzzle input), but it's confused about where to go.\n",
    "\n",
    "Its starting point is just off the top of the diagram. Lines (drawn with `|`, `-`, and `+`) show the path it needs to take, starting by going down onto the only line connected to the top of the diagram. It needs to follow this path until it reaches the end (located somewhere within the diagram) and stop there.\n",
    "\n",
    "Sometimes, the lines cross over each other; in these cases, it needs to continue going the same direction, and only turn left or right when there's no other option. In addition, someone has left letters on the line; these also don't change its direction, but it can use them to keep track of where it's been. For example:\n",
    "\n",
    "```\n",
    "     |          \n",
    "     |  +--+    \n",
    "     A  |  C    \n",
    " F---|----E|--+ \n",
    "     |  |  |  D \n",
    "     +B-+  +--+ \n",
    "```\n",
    "\n",
    "Given this diagram, the packet needs to take the following path:\n",
    "\n",
    "Starting at the only line touching the top of the diagram, it must go down, pass through A, and continue onward to the first +.\n",
    "Travel right, up, and right, passing through B in the process.\n",
    "Continue down (collecting C), right, and up (collecting D).\n",
    "Finally, go all the way left through E and stopping at F.\n",
    "Following the path to the end, the letters it sees on its path are `ABCDEF`.\n",
    "\n",
    "The little packet looks up at you, hoping you can help it find the way. What letters will it see (in the order it would see them) if it follows the path? (The routing diagram is very wide; make sure you view it without line wrapping.)"
   ]
  },
  {
   "cell_type": "code",
   "execution_count": 25,
   "metadata": {},
   "outputs": [],
   "source": [
    "from io import StringIO\n",
    "from itertools import islice\n",
    "from textwrap import dedent\n",
    "\n",
    "import numpy as np"
   ]
  },
  {
   "cell_type": "code",
   "execution_count": 45,
   "metadata": {},
   "outputs": [],
   "source": [
    "def process_path(rows):\n",
    "    return tuple(tuple(c for c in row if c != '\\n') for row in rows)"
   ]
  },
  {
   "cell_type": "code",
   "execution_count": 46,
   "metadata": {},
   "outputs": [],
   "source": [
    "def _test_input():\n",
    "    return process_path(StringIO((\"\"\"\\\n",
    "     |          \n",
    "     |  +--+    \n",
    "     A  |  C    \n",
    " F---|----E|--+ \n",
    "     |  |  |  D \n",
    "     +B-+  +--+ \n",
    "                \n",
    "\"\"\")))\n",
    "TEST_INPUT = _test_input()"
   ]
  },
  {
   "cell_type": "code",
   "execution_count": 47,
   "metadata": {},
   "outputs": [],
   "source": [
    "def _puzzle_input():\n",
    "    with open('./inputs/day19/input.txt') as f:\n",
    "        return process_path(f)\n",
    "PUZZLE_INPUT = _puzzle_input()"
   ]
  },
  {
   "cell_type": "code",
   "execution_count": 12,
   "metadata": {},
   "outputs": [],
   "source": [
    "def add_(x, y):\n",
    "    return (x[0] + y[0], x[1] + y[1])\n",
    "\n",
    "def get_(path, pos):\n",
    "    return path[pos[0]][pos[1]]"
   ]
  },
  {
   "cell_type": "code",
   "execution_count": 68,
   "metadata": {},
   "outputs": [],
   "source": [
    "move_map = {\n",
    "    'down': (1, 0),\n",
    "    'up': (-1, 0),\n",
    "    'left': (0, -1),\n",
    "    'right': (0, 1)\n",
    "}\n",
    "\n",
    "opposites = {\n",
    "    'up': 'down',\n",
    "    'down': 'up',\n",
    "    'left': 'right',\n",
    "    'right': 'left'\n",
    "}\n",
    "\n",
    "\n",
    "def step(path, pos, dir_):\n",
    "    while True:\n",
    "        next_pos = add_(pos, move_map[dir_])\n",
    "        char = get_(path, next_pos)\n",
    "        if char != ' ':\n",
    "            # continue straight\n",
    "            pos = next_pos\n",
    "        else:\n",
    "            # make a turn\n",
    "            for new_dir in (d for d in move_map if d not in (dir_, opposites[dir_])):\n",
    "                next_pos = add_(pos, move_map[new_dir])\n",
    "                char = get_(path, next_pos)\n",
    "                if char != ' ':\n",
    "                    pos = next_pos\n",
    "                    dir_ = new_dir\n",
    "                    break\n",
    "            else:\n",
    "                # end of the path\n",
    "                break\n",
    "        \n",
    "        yield pos, dir_, char\n",
    "\n",
    "\n",
    "def follow_path(path):\n",
    "    start = (0, path[0].index('|'))\n",
    "    dir_ = 'down'\n",
    "    \n",
    "    yield '|'  # include the first step\n",
    "    \n",
    "    for pos, dir_, char in step(path, start, dir_):\n",
    "        yield char"
   ]
  },
  {
   "cell_type": "code",
   "execution_count": 69,
   "metadata": {},
   "outputs": [],
   "source": [
    "def letters_in_path(path):\n",
    "    yield from (c for c in follow_path(path) if c.isalpha())"
   ]
  },
  {
   "cell_type": "code",
   "execution_count": 70,
   "metadata": {},
   "outputs": [],
   "source": [
    "result = ''.join(letters_in_path(TEST_INPUT))\n",
    "assert result == 'ABCDEF', result"
   ]
  },
  {
   "cell_type": "code",
   "execution_count": 71,
   "metadata": {},
   "outputs": [
    {
     "data": {
      "text/plain": [
       "'SXPZDFJNRL'"
      ]
     },
     "execution_count": 71,
     "metadata": {},
     "output_type": "execute_result"
    }
   ],
   "source": [
    "''.join(letters_in_path(PUZZLE_INPUT))"
   ]
  },
  {
   "cell_type": "markdown",
   "metadata": {},
   "source": [
    "# Part 2\n",
    "\n",
    "The packet is curious how many steps it needs to go.\n",
    "\n",
    "For example, using the same routing diagram from the example above...\n",
    "\n",
    "```\n",
    "     |          \n",
    "     |  +--+    \n",
    "     A  |  C    \n",
    " F---|--|-E---+ \n",
    "     |  |  |  D \n",
    "     +B-+  +--+ \n",
    "                \n",
    "```\n",
    "\n",
    "...the packet would go:\n",
    "\n",
    "- 6 steps down (including the first line at the top of the diagram).\n",
    "- 3 steps right.\n",
    "- 4 steps up.\n",
    "- 3 steps right.\n",
    "- 4 steps down.\n",
    "- 3 steps right.\n",
    "- 2 steps up.\n",
    "- 13 steps left (including the F it stops on).\n",
    "\n",
    "This would result in a total of 38 steps.\n",
    "\n",
    "How many steps does the packet need to go?"
   ]
  },
  {
   "cell_type": "code",
   "execution_count": 73,
   "metadata": {},
   "outputs": [],
   "source": [
    "result = sum(1 for _ in follow_path(TEST_INPUT))\n",
    "assert result == 38, result"
   ]
  },
  {
   "cell_type": "code",
   "execution_count": 74,
   "metadata": {},
   "outputs": [
    {
     "data": {
      "text/plain": [
       "18126"
      ]
     },
     "execution_count": 74,
     "metadata": {},
     "output_type": "execute_result"
    }
   ],
   "source": [
    "sum(1 for _ in follow_path(PUZZLE_INPUT))"
   ]
  },
  {
   "cell_type": "code",
   "execution_count": null,
   "metadata": {},
   "outputs": [],
   "source": []
  }
 ],
 "metadata": {
  "kernelspec": {
   "display_name": "Python 3",
   "language": "python",
   "name": "python3"
  },
  "language_info": {
   "codemirror_mode": {
    "name": "ipython",
    "version": 3
   },
   "file_extension": ".py",
   "mimetype": "text/x-python",
   "name": "python",
   "nbconvert_exporter": "python",
   "pygments_lexer": "ipython3",
   "version": "3.6.3"
  }
 },
 "nbformat": 4,
 "nbformat_minor": 2
}
