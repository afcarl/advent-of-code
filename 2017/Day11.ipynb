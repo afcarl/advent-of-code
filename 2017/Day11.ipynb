{
 "cells": [
  {
   "cell_type": "markdown",
   "metadata": {},
   "source": [
    "# Part 1\n",
    "\n",
    "Crossing the bridge, you've barely reached the other side of the stream when a program comes up to you, clearly in distress. \"It's my child process,\" she says, \"he's gotten lost in an infinite grid!\"\n",
    "\n",
    "Fortunately for her, you have plenty of experience with infinite grids.\n",
    "\n",
    "Unfortunately for you, it's a hex grid.\n",
    "\n",
    "The hexagons (\"hexes\") in this grid are aligned such that adjacent hexes can be found to the north, northeast, southeast, south, southwest, and northwest:\n",
    "\n",
    "```\n",
    "  \\ n  /\n",
    "nw +--+ ne\n",
    "  /    \\\n",
    "-+      +-\n",
    "  \\    /\n",
    "sw +--+ se\n",
    "  / s  \\\n",
    "```\n",
    "\n",
    "You have the path the child process took. Starting where he started, you need to determine the fewest number of steps required to reach him. (A \"step\" means to move from the hex you are in to any adjacent hex.)\n",
    "\n",
    "For example:\n",
    "\n",
    "- `ne,ne,ne` is 3 steps away.\n",
    "- `ne,ne,sw,sw` is 0 steps away (back where you started).\n",
    "- `ne,ne,s,s` is 2 steps away (`se,se`).\n",
    "- `se,sw,se,sw,sw` is 3 steps away (`s,s,sw`)."
   ]
  },
  {
   "cell_type": "code",
   "execution_count": 1,
   "metadata": {},
   "outputs": [],
   "source": [
    "from functools import reduce\n",
    "from operator import add\n",
    "\n",
    "import numpy as np\n",
    "import numpy.testing as npt"
   ]
  },
  {
   "cell_type": "code",
   "execution_count": 2,
   "metadata": {},
   "outputs": [],
   "source": [
    "def pzl_input():\n",
    "    with open('./inputs/day11/input.txt') as f:\n",
    "        return f.read().strip().split(',')"
   ]
  },
  {
   "cell_type": "code",
   "execution_count": 3,
   "metadata": {},
   "outputs": [],
   "source": [
    "moves = {\n",
    "    'nw': np.int_([-1, 1]),\n",
    "    'n': np.int_([0, 2]),\n",
    "    'ne': np.int_([1, 1]),\n",
    "    'se': np.int_([1, -1]),\n",
    "    's': np.int_([0, -2]),\n",
    "    'sw': np.int_([-1, -1])\n",
    "}"
   ]
  },
  {
   "cell_type": "code",
   "execution_count": 22,
   "metadata": {},
   "outputs": [],
   "source": [
    "def follow_path(path: list) -> np.array:\n",
    "    \"\"\"Returns the final position after following a list of moves\"\"\"\n",
    "    final_pos = reduce(add, (moves[dir_] for dir_ in path), np.int_([0, 0]))\n",
    "    return final_pos"
   ]
  },
  {
   "cell_type": "code",
   "execution_count": 5,
   "metadata": {},
   "outputs": [],
   "source": [
    "npt.assert_array_equal(follow_path([]), np.int_([0, 0]))\n",
    "npt.assert_array_equal(follow_path('ne,ne,ne'.split(',')), np.int_([3, 3]))\n",
    "npt.assert_array_equal(follow_path('ne,ne,sw,sw'.split(',')), np.int_([0, 0]))\n",
    "npt.assert_array_equal(follow_path('ne,ne,s,s'.split(',')), np.int_([2, -2]))\n",
    "npt.assert_array_equal(follow_path('se,sw,se,sw,sw'.split(',')), np.int_([-1, -5]))"
   ]
  },
  {
   "cell_type": "code",
   "execution_count": 16,
   "metadata": {},
   "outputs": [],
   "source": [
    "def shortest_path(pos: np.array) -> int:\n",
    "    x, y = np.absolute(pos)\n",
    "    if y <= x:\n",
    "        return x\n",
    "    else:\n",
    "        return x + (y - x) // 2"
   ]
  },
  {
   "cell_type": "code",
   "execution_count": 19,
   "metadata": {},
   "outputs": [],
   "source": [
    "assert shortest_path(np.int_([0, 0])) == 0\n",
    "assert shortest_path(np.int_([5, 0])) == 5\n",
    "assert shortest_path(np.int_([0, 4])) == 2\n",
    "assert shortest_path(np.int_([4, 4])) == 4\n",
    "assert shortest_path(np.int_([3, 3])) == 3\n",
    "assert shortest_path(np.int_([-5, -3])) == 5\n",
    "assert shortest_path(np.int_([5, -3])) == 5\n",
    "assert shortest_path(np.int_([-3, 3])) == 3\n",
    "\n",
    "assert shortest_path(np.int_([1, 5])) == 3\n",
    "assert shortest_path(np.int_([0, 4])) == 2\n",
    "assert shortest_path(np.int_([0, 4])) == 2\n",
    "assert shortest_path(np.int_([2, 4])) == 3\n",
    "assert shortest_path(np.int_([3, 5])) == 4\n",
    "assert shortest_path(np.int_([3, 11])) == 7"
   ]
  },
  {
   "cell_type": "code",
   "execution_count": 20,
   "metadata": {},
   "outputs": [],
   "source": [
    "assert shortest_path(follow_path([])) == 0\n",
    "assert shortest_path(follow_path('ne,ne,ne'.split(','))) == 3\n",
    "assert shortest_path(follow_path('ne,ne,sw,sw'.split(','))) == 0\n",
    "assert shortest_path(follow_path('ne,ne,s,s'.split(','))) == 2\n",
    "assert shortest_path(follow_path('se,sw,se,sw,sw'.split(','))) == 3"
   ]
  },
  {
   "cell_type": "code",
   "execution_count": 21,
   "metadata": {},
   "outputs": [
    {
     "data": {
      "text/plain": [
       "824"
      ]
     },
     "execution_count": 21,
     "metadata": {},
     "output_type": "execute_result"
    }
   ],
   "source": [
    "shortest_path(follow_path(pzl_input()))"
   ]
  },
  {
   "cell_type": "code",
   "execution_count": 10,
   "metadata": {},
   "outputs": [
    {
     "data": {
      "text/plain": [
       "array([ -437, -1211])"
      ]
     },
     "execution_count": 10,
     "metadata": {},
     "output_type": "execute_result"
    }
   ],
   "source": [
    "follow_path(pzl_input())"
   ]
  },
  {
   "cell_type": "markdown",
   "metadata": {},
   "source": [
    "# Part 2\n",
    "\n",
    "How many steps away is the furthest he ever got from his starting position?"
   ]
  },
  {
   "cell_type": "code",
   "execution_count": 25,
   "metadata": {},
   "outputs": [],
   "source": [
    "from itertools import accumulate\n",
    "from operator import add"
   ]
  },
  {
   "cell_type": "code",
   "execution_count": 31,
   "metadata": {
    "scrolled": true
   },
   "outputs": [
    {
     "data": {
      "text/plain": [
       "[array([ 1, -1]),\n",
       " array([ 0, -2]),\n",
       " array([ 1, -3]),\n",
       " array([ 0, -4]),\n",
       " array([-1, -5])]"
      ]
     },
     "execution_count": 31,
     "metadata": {},
     "output_type": "execute_result"
    }
   ],
   "source": [
    "# recipe for getting every position along a path\n",
    "list(accumulate((moves[dir_] for dir_ in 'se,sw,se,sw,sw'.split(',')), add))"
   ]
  },
  {
   "cell_type": "code",
   "execution_count": 30,
   "metadata": {},
   "outputs": [
    {
     "data": {
      "text/plain": [
       "1548"
      ]
     },
     "execution_count": 30,
     "metadata": {},
     "output_type": "execute_result"
    }
   ],
   "source": [
    "max(shortest_path(pos) for pos in accumulate((moves[dir_] for dir_ in pzl_input()), add))"
   ]
  },
  {
   "cell_type": "code",
   "execution_count": null,
   "metadata": {},
   "outputs": [],
   "source": []
  }
 ],
 "metadata": {
  "kernelspec": {
   "display_name": "Python 3",
   "language": "python",
   "name": "python3"
  },
  "language_info": {
   "codemirror_mode": {
    "name": "ipython",
    "version": 3
   },
   "file_extension": ".py",
   "mimetype": "text/x-python",
   "name": "python",
   "nbconvert_exporter": "python",
   "pygments_lexer": "ipython3",
   "version": "3.6.3"
  }
 },
 "nbformat": 4,
 "nbformat_minor": 2
}
