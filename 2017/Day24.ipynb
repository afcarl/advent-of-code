{
 "cells": [
  {
   "cell_type": "markdown",
   "metadata": {},
   "source": [
    "# Part 1\n",
    "\n",
    "The CPU itself is a large, black building surrounded by a bottomless pit. Enormous metal tubes extend outward from the side of the building at regular intervals and descend down into the void. There's no way to cross, but you need to get inside.\n",
    "\n",
    "No way, of course, other than building a bridge out of the magnetic components strewn about nearby.\n",
    "\n",
    "Each component has two ports, one on each end. The ports come in all different types, and only matching types can be connected. You take an inventory of the components by their port types (your puzzle input). Each port is identified by the number of pins it uses; more pins mean a stronger connection for your bridge. A `3/7` component, for example, has a type-3 port on one side, and a type-7 port on the other.\n",
    "\n",
    "Your side of the pit is metallic; a perfect surface to connect a magnetic, zero-pin port. Because of this, the first port you use must be of type 0. It doesn't matter what type of port you end with; your goal is just to make the bridge as strong as possible.\n",
    "\n",
    "The strength of a bridge is the sum of the port types in each component. For example, if your bridge is made of components `0/3`, `3/7`, and `7/4`, your bridge has a strength of `0+3 + 3+7 + 7+4 = 24`.\n",
    "\n",
    "For example, suppose you had the following components:\n",
    "\n",
    "```\n",
    "0/2\n",
    "2/2\n",
    "2/3\n",
    "3/4\n",
    "3/5\n",
    "0/1\n",
    "10/1\n",
    "9/10\n",
    "```\n",
    "\n",
    "With them, you could make the following valid bridges:\n",
    "\n",
    "```\n",
    "0/1\n",
    "0/1--10/1\n",
    "0/1--10/1--9/10\n",
    "0/2\n",
    "0/2--2/3\n",
    "0/2--2/3--3/4\n",
    "0/2--2/3--3/5\n",
    "0/2--2/2\n",
    "0/2--2/2--2/3\n",
    "0/2--2/2--2/3--3/4\n",
    "0/2--2/2--2/3--3/5\n",
    "```\n",
    "\n",
    "(Note how, as shown by `10/1`, order of ports within a component doesn't matter. However, you may only use each port on a component once.)\n",
    "\n",
    "Of these bridges, the strongest one is `0/1--10/1--9/10`; it has a strength of `0+1 + 1+10 + 10+9 = 31`.\n",
    "\n",
    "What is the strength of the strongest bridge you can make with the components you have available?"
   ]
  },
  {
   "cell_type": "code",
   "execution_count": 8,
   "metadata": {},
   "outputs": [],
   "source": [
    "from io import StringIO\n",
    "from textwrap import dedent\n",
    "\n",
    "import toolz as tz"
   ]
  },
  {
   "cell_type": "code",
   "execution_count": 3,
   "metadata": {},
   "outputs": [],
   "source": [
    "def _test_input():\n",
    "    data = StringIO(dedent(\"\"\"\\\n",
    "        0/2\n",
    "        2/2\n",
    "        2/3\n",
    "        3/4\n",
    "        3/5\n",
    "        0/1\n",
    "        10/1\n",
    "        9/10\n",
    "        \"\"\"))\n",
    "    \n",
    "    return tuple(tuple(int(x) for x in row.split('/')) for row in data)\n",
    "TEST_INPUT = _test_input()"
   ]
  },
  {
   "cell_type": "code",
   "execution_count": 6,
   "metadata": {},
   "outputs": [],
   "source": [
    "def _puzzle_input():\n",
    "    with open('./inputs/day24/input.txt') as f:\n",
    "        return tuple(tuple(int(x) for x in row.split('/')) for row in f)\n",
    "PUZZLE_INPUT = _puzzle_input()"
   ]
  },
  {
   "cell_type": "code",
   "execution_count": 48,
   "metadata": {},
   "outputs": [],
   "source": [
    "def matches(to_match, components, available):\n",
    "    for idx, i in enumerate(available):\n",
    "        if to_match in components[i]:\n",
    "            matched_ind = components[i].index(to_match)\n",
    "            not_matched_ind = 0 if matched_ind == 1 else 1\n",
    "            yield i, idx, components[i][not_matched_ind], components[i]\n",
    "\n",
    "def build(to_match, components, available, bridge):\n",
    "    any_matched = False\n",
    "    for _, idx, not_matched, match in matches(to_match, components, available):\n",
    "        any_matched = True\n",
    "        next_available = available[:idx] + available[idx + 1:]\n",
    "        yield from build(\n",
    "            not_matched, components, next_available, bridge + (match,))\n",
    "    if not any_matched:\n",
    "        yield bridge"
   ]
  },
  {
   "cell_type": "code",
   "execution_count": 49,
   "metadata": {},
   "outputs": [
    {
     "data": {
      "text/plain": [
       "((0, 2), (2, 2), (2, 3), (3, 4))"
      ]
     },
     "execution_count": 49,
     "metadata": {},
     "output_type": "execute_result"
    }
   ],
   "source": [
    "tz.first(build(0, TEST_INPUT, tuple(range(len(TEST_INPUT))), tuple()))"
   ]
  },
  {
   "cell_type": "code",
   "execution_count": 50,
   "metadata": {},
   "outputs": [
    {
     "data": {
      "text/plain": [
       "((0, 1), (10, 1), (9, 10))"
      ]
     },
     "execution_count": 50,
     "metadata": {},
     "output_type": "execute_result"
    }
   ],
   "source": [
    "bridges = build(0, TEST_INPUT, tuple(range(len(TEST_INPUT))), tuple())\n",
    "max(bridges, key=lambda b: sum(tz.concat(b)))"
   ]
  },
  {
   "cell_type": "code",
   "execution_count": 51,
   "metadata": {},
   "outputs": [
    {
     "data": {
      "text/plain": [
       "(((0, 2), (2, 2), (2, 3), (3, 4)),\n",
       " ((0, 2), (2, 2), (2, 3), (3, 5)),\n",
       " ((0, 2), (2, 3), (3, 4)),\n",
       " ((0, 2), (2, 3), (3, 5)),\n",
       " ((0, 1), (10, 1), (9, 10)))"
      ]
     },
     "execution_count": 51,
     "metadata": {},
     "output_type": "execute_result"
    }
   ],
   "source": [
    "tuple(build(0, TEST_INPUT, tuple(range(len(TEST_INPUT))), tuple()))"
   ]
  },
  {
   "cell_type": "code",
   "execution_count": 52,
   "metadata": {},
   "outputs": [
    {
     "data": {
      "text/plain": [
       "((0, 39),\n",
       " (39, 30),\n",
       " (30, 35),\n",
       " (41, 35),\n",
       " (32, 41),\n",
       " (3, 32),\n",
       " (17, 3),\n",
       " (46, 17),\n",
       " (46, 50),\n",
       " (41, 50),\n",
       " (49, 41),\n",
       " (49, 4),\n",
       " (4, 30),\n",
       " (44, 30),\n",
       " (40, 44),\n",
       " (23, 40),\n",
       " (38, 23),\n",
       " (38, 20),\n",
       " (20, 24),\n",
       " (24, 14),\n",
       " (14, 45),\n",
       " (47, 45),\n",
       " (47, 11),\n",
       " (45, 11),\n",
       " (45, 50),\n",
       " (50, 36),\n",
       " (36, 31),\n",
       " (5, 31),\n",
       " (5, 5),\n",
       " (44, 5),\n",
       " (29, 44),\n",
       " (29, 29),\n",
       " (29, 12))"
      ]
     },
     "execution_count": 52,
     "metadata": {},
     "output_type": "execute_result"
    }
   ],
   "source": [
    "bridges = build(0, PUZZLE_INPUT, tuple(range(len(PUZZLE_INPUT))), tuple())\n",
    "strongest = max(bridges, key=lambda b: sum(tz.concat(b)))\n",
    "strongest"
   ]
  },
  {
   "cell_type": "code",
   "execution_count": 53,
   "metadata": {},
   "outputs": [
    {
     "data": {
      "text/plain": [
       "2006"
      ]
     },
     "execution_count": 53,
     "metadata": {},
     "output_type": "execute_result"
    }
   ],
   "source": [
    "sum(tz.concat(strongest))"
   ]
  },
  {
   "cell_type": "markdown",
   "metadata": {},
   "source": [
    "# Part 2\n",
    "\n",
    "The bridge you've built isn't long enough; you can't jump the rest of the way.\n",
    "\n",
    "In the example above, there are two longest bridges:\n",
    "\n",
    "```\n",
    "0/2--2/2--2/3--3/4\n",
    "0/2--2/2--2/3--3/5\n",
    "```\n",
    "\n",
    "Of them, the one which uses the `3/5` component is stronger; its strength is `0+2 + 2+2 + 2+3 + 3+5 = 19`.\n",
    "\n",
    "What is the strength of the longest bridge you can make? If you can make multiple bridges of the longest length, pick the strongest one."
   ]
  },
  {
   "cell_type": "code",
   "execution_count": 56,
   "metadata": {},
   "outputs": [
    {
     "data": {
      "text/plain": [
       "((0, 2), (2, 2), (2, 3), (3, 5))"
      ]
     },
     "execution_count": 56,
     "metadata": {},
     "output_type": "execute_result"
    }
   ],
   "source": [
    "bridges = build(0, TEST_INPUT, tuple(range(len(TEST_INPUT))), tuple())\n",
    "strongest_longest = max(bridges, key=lambda b: (len(b), sum(tz.concat(b))))\n",
    "strongest_longest"
   ]
  },
  {
   "cell_type": "code",
   "execution_count": 58,
   "metadata": {},
   "outputs": [
    {
     "data": {
      "text/plain": [
       "((0, 39),\n",
       " (39, 30),\n",
       " (30, 35),\n",
       " (41, 35),\n",
       " (32, 41),\n",
       " (3, 32),\n",
       " (17, 3),\n",
       " (2, 17),\n",
       " (2, 31),\n",
       " (36, 31),\n",
       " (50, 36),\n",
       " (41, 50),\n",
       " (49, 41),\n",
       " (49, 4),\n",
       " (4, 30),\n",
       " (44, 30),\n",
       " (44, 5),\n",
       " (5, 5),\n",
       " (5, 37),\n",
       " (20, 37),\n",
       " (38, 20),\n",
       " (38, 23),\n",
       " (23, 40),\n",
       " (40, 24),\n",
       " (24, 14),\n",
       " (14, 45),\n",
       " (47, 45),\n",
       " (47, 11),\n",
       " (45, 11),\n",
       " (45, 50),\n",
       " (46, 50),\n",
       " (46, 17),\n",
       " (22, 17),\n",
       " (22, 48))"
      ]
     },
     "execution_count": 58,
     "metadata": {},
     "output_type": "execute_result"
    }
   ],
   "source": [
    "bridges = build(0, PUZZLE_INPUT, tuple(range(len(PUZZLE_INPUT))), tuple())\n",
    "strongest_longest = max(bridges, key=lambda b: (len(b), sum(tz.concat(b))))\n",
    "strongest_longest"
   ]
  },
  {
   "cell_type": "code",
   "execution_count": 59,
   "metadata": {},
   "outputs": [
    {
     "data": {
      "text/plain": [
       "1994"
      ]
     },
     "execution_count": 59,
     "metadata": {},
     "output_type": "execute_result"
    }
   ],
   "source": [
    "sum(tz.concat(strongest_longest))"
   ]
  },
  {
   "cell_type": "code",
   "execution_count": null,
   "metadata": {},
   "outputs": [],
   "source": []
  }
 ],
 "metadata": {
  "kernelspec": {
   "display_name": "Python 3",
   "language": "python",
   "name": "python3"
  },
  "language_info": {
   "codemirror_mode": {
    "name": "ipython",
    "version": 3
   },
   "file_extension": ".py",
   "mimetype": "text/x-python",
   "name": "python",
   "nbconvert_exporter": "python",
   "pygments_lexer": "ipython3",
   "version": "3.6.3"
  }
 },
 "nbformat": 4,
 "nbformat_minor": 2
}
