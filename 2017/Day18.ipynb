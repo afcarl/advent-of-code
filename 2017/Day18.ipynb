{
 "cells": [
  {
   "cell_type": "markdown",
   "metadata": {},
   "source": [
    "# Part 1\n",
    "\n",
    "You discover a tablet containing some strange assembly code labeled simply \"Duet\". Rather than bother the sound card with it, you decide to run the code yourself. Unfortunately, you don't see any documentation, so you're left to figure out what the instructions mean on your own.\n",
    "\n",
    "It seems like the assembly is meant to operate on a set of registers that are each named with a single letter and that can each hold a single integer. You suppose each register should start with a value of 0.\n",
    "\n",
    "There aren't that many instructions, so it shouldn't be hard to figure out what they do. Here's what you determine:\n",
    "\n",
    "- `snd X` plays a sound with a frequency equal to the value of X.\n",
    "- `set X Y` sets register X to the value of Y.\n",
    "- `add X Y` increases register X by the value of Y.\n",
    "- `mul X Y` sets register X to the result of multiplying the value contained in register X by the value of Y.\n",
    "- `mod X Y` sets register X to the remainder of dividing the value contained in register X by the value of Y (that is, it sets X to the result of X modulo Y).\n",
    "- `rcv X` recovers the frequency of the last sound played, but only when the value of X is not zero. (If it is zero, the command does nothing.)\n",
    "- `jgz X Y` jumps with an offset of the value of Y, but only if the value of X is greater than zero. (An offset of 2 skips the next instruction, an offset of -1 jumps to the previous instruction, and so on.)\n",
    "\n",
    "Many of the instructions can take either a register (a single letter) or a number. The value of a register is the integer it contains; the value of a number is that number.\n",
    "\n",
    "After each jump instruction, the program continues with the instruction to which the jump jumped. After any other instruction, the program continues with the next instruction. Continuing (or jumping) off either end of the program terminates it.\n",
    "\n",
    "For example:\n",
    "\n",
    "```\n",
    "set a 1\n",
    "add a 2\n",
    "mul a a\n",
    "mod a 5\n",
    "snd a\n",
    "set a 0\n",
    "rcv a\n",
    "jgz a -1\n",
    "set a 1\n",
    "jgz a -2\n",
    "```\n",
    "\n",
    "- The first four instructions set a to 1, add 2 to it, square it, and then set it to itself modulo 5, resulting in a value of 4.\n",
    "- Then, a sound with frequency 4 (the value of a) is played.\n",
    "- After that, a is set to 0, causing the subsequent rcv and jgz instructions to both be skipped (rcv because a is 0, and jgz because a is not greater than 0).\n",
    "- Finally, a is set to 1, causing the next jgz instruction to activate, jumping back two instructions to another jump, which jumps again to the rcv, which ultimately triggers the recover operation.\n",
    "- At the time the recover operation is executed, the frequency of the last sound played is 4.\n",
    "\n",
    "What is the value of the recovered frequency (the value of the most recently played sound) the first time a rcv instruction is executed with a non-zero value?"
   ]
  },
  {
   "cell_type": "code",
   "execution_count": 7,
   "metadata": {},
   "outputs": [],
   "source": [
    "from collections import defaultdict\n",
    "from io import StringIO\n",
    "from textwrap import dedent"
   ]
  },
  {
   "cell_type": "code",
   "execution_count": 5,
   "metadata": {},
   "outputs": [],
   "source": [
    "def test_input_f() -> list:\n",
    "    return [row.split() for row in StringIO(dedent(\"\"\"\\\n",
    "        set a 1\n",
    "        add a 2\n",
    "        mul a a\n",
    "        mod a 5\n",
    "        snd a\n",
    "        set a 0\n",
    "        rcv a\n",
    "        jgz a -1\n",
    "        set a 1\n",
    "        jgz a -2\n",
    "        \"\"\"))]\n",
    "TEST_INPUT = test_input_f()"
   ]
  },
  {
   "cell_type": "code",
   "execution_count": 6,
   "metadata": {},
   "outputs": [],
   "source": [
    "def puzzle_input_f() -> list:\n",
    "    with open('./inputs/day18/input.txt') as f:\n",
    "        return [row.split() for row in f]\n",
    "PUZZLE_INPUT = puzzle_input_f()"
   ]
  },
  {
   "cell_type": "code",
   "execution_count": 8,
   "metadata": {},
   "outputs": [],
   "source": [
    "def first_recovery(instructions: list) -> int:\n",
    "    registers = defaultdict(lambda: 0)\n",
    "    pos = 0\n",
    "    last_played = None\n",
    "    \n",
    "    def _(x):\n",
    "        return registers[x] if x.isalpha() else int(x)\n",
    "    \n",
    "    while True:\n",
    "        instr = instructions[pos]\n",
    "        pos += 1\n",
    "        if instr[0] == 'snd':\n",
    "            last_played = (instr[1], _(instr[1]))\n",
    "        elif instr[0] == 'set':\n",
    "            registers[instr[1]] = _(instr[2])\n",
    "        elif instr[0] == 'add':\n",
    "            registers[instr[1]] += _(instr[2])\n",
    "        elif instr[0] == 'mul':\n",
    "            registers[instr[1]] *= _(instr[2])\n",
    "        elif instr[0] == 'mod':\n",
    "            registers[instr[1]] %= _(instr[2])\n",
    "        elif instr[0] == 'rcv':\n",
    "            if _(instr[1]) != 0:\n",
    "                assert last_played is not None\n",
    "                return last_played[1]\n",
    "        elif instr[0] == 'jgz':\n",
    "            if _(instr[1]) > 0:\n",
    "                pos += _(instr[2]) - 1  # undo the +1 from above"
   ]
  },
  {
   "cell_type": "code",
   "execution_count": 10,
   "metadata": {},
   "outputs": [],
   "source": [
    "result = first_recovery(TEST_INPUT)\n",
    "assert result == 4, result"
   ]
  },
  {
   "cell_type": "code",
   "execution_count": 11,
   "metadata": {},
   "outputs": [
    {
     "data": {
      "text/plain": [
       "8600"
      ]
     },
     "execution_count": 11,
     "metadata": {},
     "output_type": "execute_result"
    }
   ],
   "source": [
    "first_recovery(PUZZLE_INPUT)"
   ]
  },
  {
   "cell_type": "markdown",
   "metadata": {},
   "source": [
    "# Part 2\n",
    "\n",
    "As you congratulate yourself for a job well done, you notice that the documentation has been on the back of the tablet this entire time. While you actually got most of the instructions correct, there are a few key differences. This assembly code isn't about sound at all - it's meant to be run twice at the same time.\n",
    "\n",
    "Each running copy of the program has its own set of registers and follows the code independently - in fact, the programs don't even necessarily run at the same speed. To coordinate, they use the send (snd) and receive (rcv) instructions:\n",
    "\n",
    "- `snd X` sends the value of X to the other program. These values wait in a queue until that program is ready to receive them. Each program has its own message queue, so a program can never receive a message it sent.\n",
    "- `rcv X` receives the next value and stores it in register X. If no values are in the queue, the program waits for a value to be sent to it. Programs do not continue to the next instruction until they have received a value. Values are received in the order they are sent.\n",
    "\n",
    "Each program also has its own program ID (one 0 and the other 1); the register p should begin with this value.\n",
    "\n",
    "For example:\n",
    "\n",
    "```\n",
    "snd 1\n",
    "snd 2\n",
    "snd p\n",
    "rcv a\n",
    "rcv b\n",
    "rcv c\n",
    "rcv d\n",
    "```\n",
    "\n",
    "Both programs begin by sending three values to the other. Program 0 sends 1, 2, 0; program 1 sends 1, 2, 1. Then, each program receives a value (both 1) and stores it in a, receives another value (both 2) and stores it in b, and then each receives the program ID of the other program (program 0 receives 1; program 1 receives 0) and stores it in c. Each program now sees a different value in its own copy of register c.\n",
    "\n",
    "Finally, both programs try to rcv a fourth time, but no data is waiting for either of them, and they reach a deadlock. When this happens, both programs terminate.\n",
    "\n",
    "It should be noted that it would be equally valid for the programs to run at different speeds; for example, program 0 might have sent all three values and then stopped at the first rcv before program 1 executed even its first instruction.\n",
    "\n",
    "Once both of your programs have terminated (regardless of what caused them to do so), how many times did program 1 send a value?"
   ]
  },
  {
   "cell_type": "code",
   "execution_count": 12,
   "metadata": {},
   "outputs": [],
   "source": [
    "from queue import Queue"
   ]
  },
  {
   "cell_type": "code",
   "execution_count": 23,
   "metadata": {},
   "outputs": [],
   "source": [
    "def test_input_f2() -> list:\n",
    "    return [row.split() for row in StringIO(dedent(\"\"\"\\\n",
    "        snd 1\n",
    "        snd 2\n",
    "        snd p\n",
    "        rcv a\n",
    "        rcv b\n",
    "        rcv c\n",
    "        rcv d\n",
    "        \"\"\"))]\n",
    "TEST_INPUT2 = test_input_f2()"
   ]
  },
  {
   "cell_type": "code",
   "execution_count": 30,
   "metadata": {},
   "outputs": [],
   "source": [
    "def snd_counter(instructions: list, pid: int, p0_q: Queue, p1_q: Queue) -> int:\n",
    "    registers = defaultdict(lambda: 0)\n",
    "    registers['p'] = pid\n",
    "    pos = 0\n",
    "    snd_count = 0\n",
    "    len_instr = len(instructions)\n",
    "    snd_q = p0_q if pid == 1 else p1_q\n",
    "    rcv_q = p1_q if pid == 1 else p0_q\n",
    "    \n",
    "    def rslv(x):\n",
    "        return registers[x] if x.isalpha() else int(x)\n",
    "    \n",
    "    while True:\n",
    "        instr = instructions[pos]\n",
    "        pos += 1\n",
    "        if instr[0] == 'snd':\n",
    "            snd_count += 1\n",
    "            snd_q.put(rslv(instr[1]))\n",
    "        elif instr[0] == 'set':\n",
    "            registers[instr[1]] = rslv(instr[2])\n",
    "        elif instr[0] == 'add':\n",
    "            registers[instr[1]] += rslv(instr[2])\n",
    "        elif instr[0] == 'mul':\n",
    "            registers[instr[1]] *= rslv(instr[2])\n",
    "        elif instr[0] == 'mod':\n",
    "            registers[instr[1]] %= rslv(instr[2])\n",
    "        elif instr[0] == 'rcv':\n",
    "            for _ in range(10):\n",
    "                if rcv_q.empty():\n",
    "                    # let the other program run an instruction\n",
    "                    yield snd_count\n",
    "                else:\n",
    "                    registers[instr[1]] = rcv_q.get()\n",
    "                    break\n",
    "            else:\n",
    "                # assumed deadlock\n",
    "                return snd_count\n",
    "        elif instr[0] == 'jgz':\n",
    "            if rslv(instr[1]) > 0:\n",
    "                pos += rslv(instr[2]) - 1  # undo the +1 from above\n",
    "        \n",
    "        if pos >= len_instr:\n",
    "            return snd_count"
   ]
  },
  {
   "cell_type": "code",
   "execution_count": 33,
   "metadata": {},
   "outputs": [],
   "source": [
    "p0_q = Queue()\n",
    "p1_q = Queue()\n",
    "snd_counter0 = iter(snd_counter(TEST_INPUT2, 0, p0_q, p1_q))\n",
    "snd_counter1 = iter(snd_counter(TEST_INPUT2, 1, p0_q, p1_q))\n",
    "\n",
    "while True:\n",
    "    try:\n",
    "        snd_count0 = next(snd_counter0)\n",
    "    except StopIteration as exc:\n",
    "        break\n",
    "    \n",
    "    try:\n",
    "        snd_count1 = next(snd_counter1)\n",
    "    except StopIteration as exc:\n",
    "        break\n",
    "\n",
    "assert snd_count0 == 3, snd_count0\n",
    "assert snd_count1 == 3, snd_count1"
   ]
  },
  {
   "cell_type": "code",
   "execution_count": 34,
   "metadata": {},
   "outputs": [
    {
     "name": "stdout",
     "output_type": "stream",
     "text": [
      "1 7239\n"
     ]
    }
   ],
   "source": [
    "p0_q = Queue()\n",
    "p1_q = Queue()\n",
    "snd_counter0 = iter(snd_counter(PUZZLE_INPUT, 0, p0_q, p1_q))\n",
    "snd_counter1 = iter(snd_counter(PUZZLE_INPUT, 1, p0_q, p1_q))\n",
    "\n",
    "while True:\n",
    "    try:\n",
    "        snd_count0 = next(snd_counter0)\n",
    "    except StopIteration as exc:\n",
    "        break\n",
    "    \n",
    "    try:\n",
    "        snd_count1 = next(snd_counter1)\n",
    "    except StopIteration as exc:\n",
    "        break\n",
    "\n",
    "print(1, snd_count1)"
   ]
  },
  {
   "cell_type": "code",
   "execution_count": null,
   "metadata": {},
   "outputs": [],
   "source": []
  }
 ],
 "metadata": {
  "kernelspec": {
   "display_name": "Python 3",
   "language": "python",
   "name": "python3"
  },
  "language_info": {
   "codemirror_mode": {
    "name": "ipython",
    "version": 3
   },
   "file_extension": ".py",
   "mimetype": "text/x-python",
   "name": "python",
   "nbconvert_exporter": "python",
   "pygments_lexer": "ipython3",
   "version": "3.6.3"
  }
 },
 "nbformat": 4,
 "nbformat_minor": 2
}
