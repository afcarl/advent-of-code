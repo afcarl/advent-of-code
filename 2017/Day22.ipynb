{
 "cells": [
  {
   "cell_type": "markdown",
   "metadata": {},
   "source": [
    "# Part 1\n",
    "\n",
    "Diagnostics indicate that the local grid computing cluster has been contaminated with the Sporifica Virus. The grid computing cluster is a seemingly-infinite two-dimensional grid of compute nodes. Each node is either clean or infected by the virus.\n",
    "\n",
    "To prevent overloading the nodes (which would render them useless to the virus) or detection by system administrators, exactly one virus carrier moves through the network, infecting or cleaning nodes as it moves. The virus carrier is always located on a single node in the network (the current node) and keeps track of the direction it is facing.\n",
    "\n",
    "To avoid detection, the virus carrier works in bursts; in each burst, it wakes up, does some work, and goes back to sleep. The following steps are all executed in order one time each burst:\n",
    "\n",
    "- If the current node is infected, it turns to its right. Otherwise, it turns to its left. (Turning is done in-place; the current node does not change.)\n",
    "- If the current node is clean, it becomes infected. Otherwise, it becomes cleaned. (This is done after the node is considered for the purposes of changing direction.)\n",
    "- The virus carrier moves forward one node in the direction it is facing.\n",
    "\n",
    "Diagnostics have also provided a map of the node infection status (your puzzle input). Clean nodes are shown as `.`; infected nodes are shown as `#`. This map only shows the center of the grid; there are many more nodes beyond those shown, but none of them are currently infected.\n",
    "\n",
    "The virus carrier begins in the middle of the map facing up.\n",
    "\n",
    "For example, suppose you are given a map like this:\n",
    "\n",
    "```\n",
    "..#\n",
    "#..\n",
    "...\n",
    "```\n",
    "\n",
    "Then, the middle of the infinite grid looks like this, with the virus carrier's position marked with `[ ]`:\n",
    "\n",
    "```\n",
    ". . . . . . . . .\n",
    ". . . . . . . . .\n",
    ". . . . . . . . .\n",
    ". . . . . # . . .\n",
    ". . . #[.]. . . .\n",
    ". . . . . . . . .\n",
    ". . . . . . . . .\n",
    ". . . . . . . . .\n",
    "```\n",
    "\n",
    "The virus carrier is on a clean node, so it turns left, infects the node, and moves left:\n",
    "\n",
    "```\n",
    ". . . . . . . . .\n",
    ". . . . . . . . .\n",
    ". . . . . . . . .\n",
    ". . . . . # . . .\n",
    ". . .[#]# . . . .\n",
    ". . . . . . . . .\n",
    ". . . . . . . . .\n",
    ". . . . . . . . .\n",
    "```\n",
    "\n",
    "The virus carrier is on an infected node, so it turns right, cleans the node, and moves up:\n",
    "\n",
    "```\n",
    ". . . . . . . . .\n",
    ". . . . . . . . .\n",
    ". . . . . . . . .\n",
    ". . .[.]. # . . .\n",
    ". . . . # . . . .\n",
    ". . . . . . . . .\n",
    ". . . . . . . . .\n",
    ". . . . . . . . .\n",
    "```\n",
    "\n",
    "Four times in a row, the virus carrier finds a clean, infects it, turns left, and moves forward, ending in the same place and still facing up:\n",
    "\n",
    "```\n",
    ". . . . . . . . .\n",
    ". . . . . . . . .\n",
    ". . . . . . . . .\n",
    ". . #[#]. # . . .\n",
    ". . # # # . . . .\n",
    ". . . . . . . . .\n",
    ". . . . . . . . .\n",
    ". . . . . . . . .\n",
    "```\n",
    "\n",
    "Now on the same node as before, it sees an infection, which causes it to turn right, clean the node, and move forward:\n",
    "\n",
    "```\n",
    ". . . . . . . . .\n",
    ". . . . . . . . .\n",
    ". . . . . . . . .\n",
    ". . # .[.]# . . .\n",
    ". . # # # . . . .\n",
    ". . . . . . . . .\n",
    ". . . . . . . . .\n",
    ". . . . . . . . .\n",
    "```\n",
    "\n",
    "After the above actions, a total of 7 bursts of activity had taken place. Of them, 5 bursts of activity caused an infection.\n",
    "\n",
    "After a total of 70, the grid looks like this, with the virus carrier facing up:\n",
    "\n",
    "```\n",
    ". . . . . # # . .\n",
    ". . . . # . . # .\n",
    ". . . # . . . . #\n",
    ". . # . #[.]. . #\n",
    ". . # . # . . # .\n",
    ". . . . . # # . .\n",
    ". . . . . . . . .\n",
    ". . . . . . . . .\n",
    "```\n",
    "\n",
    "By this time, 41 bursts of activity caused an infection (though most of those nodes have since been cleaned).\n",
    "\n",
    "After a total of 10000 bursts of activity, 5587 bursts will have caused an infection.\n",
    "\n",
    "Given your actual map, after 10000 bursts of activity, how many bursts cause a node to become infected? (Do not count nodes that begin infected.)"
   ]
  },
  {
   "cell_type": "code",
   "execution_count": 36,
   "metadata": {},
   "outputs": [],
   "source": [
    "from collections import defaultdict\n",
    "from io import StringIO\n",
    "from itertools import chain, product\n",
    "from textwrap import dedent"
   ]
  },
  {
   "cell_type": "code",
   "execution_count": 16,
   "metadata": {},
   "outputs": [],
   "source": [
    "def load_grid(rows):\n",
    "    grid = defaultdict(lambda: '.')\n",
    "    grid_size = None\n",
    "    for row_n, row in enumerate(rows):\n",
    "        row = row.strip()\n",
    "        if grid_size is None:\n",
    "            grid_size = len(row)\n",
    "            middle = grid_size // 2\n",
    "        grid.update(((col_n - middle, middle - row_n), c) for col_n, c in enumerate(row))\n",
    "    return grid"
   ]
  },
  {
   "cell_type": "code",
   "execution_count": 41,
   "metadata": {},
   "outputs": [],
   "source": [
    "def _test_input():\n",
    "    return load_grid(StringIO(dedent(\"\"\"\\\n",
    "        ..#\n",
    "        #..\n",
    "        ...\n",
    "        \"\"\")))\n",
    "TEST_INPUT = _test_input()"
   ]
  },
  {
   "cell_type": "code",
   "execution_count": 19,
   "metadata": {},
   "outputs": [],
   "source": [
    "def _puzzle_input():\n",
    "    with open('./inputs/day22/input.txt') as f:\n",
    "        return load_grid(f)\n",
    "PUZZLE_INPUT = _puzzle_input()"
   ]
  },
  {
   "cell_type": "code",
   "execution_count": 44,
   "metadata": {},
   "outputs": [],
   "source": [
    "def draw_grid(grid: dict):\n",
    "    grid_size = max(abs(x) for x in chain.from_iterable(grid.keys()))\n",
    "    grid_str = '\\n'.join(\n",
    "        ''.join(grid[(col_n, row_n)] for col_n in range(-grid_size, grid_size + 1))\n",
    "        for row_n in range(grid_size, -grid_size - 1, -1))\n",
    "    print(grid_str)"
   ]
  },
  {
   "cell_type": "code",
   "execution_count": 45,
   "metadata": {},
   "outputs": [
    {
     "name": "stdout",
     "output_type": "stream",
     "text": [
      "..#\n",
      "#..\n",
      "...\n"
     ]
    }
   ],
   "source": [
    "draw_grid(TEST_INPUT)"
   ]
  },
  {
   "cell_type": "code",
   "execution_count": 1,
   "metadata": {},
   "outputs": [],
   "source": [
    "moves = {\n",
    "    'n': (0, 1),\n",
    "    's': (0, -1),\n",
    "    'e': (1, 0),\n",
    "    'w': (-1, 0)\n",
    "}\n",
    "\n",
    "turns = {\n",
    "    'n': {'left': 'w', 'right': 'e'},\n",
    "    's': {'left': 'e', 'right': 'w'},\n",
    "    'e': {'left': 'n', 'right': 's'},\n",
    "    'w': {'left': 's', 'right': 'n'}\n",
    "}"
   ]
  },
  {
   "cell_type": "code",
   "execution_count": 20,
   "metadata": {},
   "outputs": [],
   "source": [
    "def add(p1, p2):\n",
    "    return (p1[0] + p2[0], p1[1] + p2[1])"
   ]
  },
  {
   "cell_type": "code",
   "execution_count": 26,
   "metadata": {},
   "outputs": [],
   "source": [
    "def burst(grid: dict, pos: tuple, dir_: str):\n",
    "    if grid[pos] == '.':\n",
    "        new_dir = turns[dir_]['left']\n",
    "        grid[pos] = '#'\n",
    "        new_pos = add(pos, moves[new_dir])\n",
    "        infected = True\n",
    "    else:\n",
    "        new_dir = turns[dir_]['right']\n",
    "        grid[pos] = '.'\n",
    "        new_pos = add(pos, moves[new_dir])\n",
    "        infected = False\n",
    "    return grid, new_pos, new_dir, infected"
   ]
  },
  {
   "cell_type": "code",
   "execution_count": 29,
   "metadata": {},
   "outputs": [],
   "source": [
    "def do_iterations(grid: dict, iterations: int) -> int:\n",
    "    grid = grid.copy()\n",
    "    pos = (0, 0)\n",
    "    dir_ = 'n'\n",
    "    infected_count = 0\n",
    "    \n",
    "    for _ in range(iterations):\n",
    "        _, pos, dir_, infected = burst(grid, pos, dir_)\n",
    "        infected_count += infected\n",
    "    \n",
    "    return infected_count, grid, pos, dir_"
   ]
  },
  {
   "cell_type": "code",
   "execution_count": 47,
   "metadata": {},
   "outputs": [],
   "source": [
    "result, *rest = do_iterations(TEST_INPUT, 7)\n",
    "assert result == 5, result\n",
    "result, *rest = do_iterations(TEST_INPUT, 70)\n",
    "assert result == 41, result\n",
    "result, *rest = do_iterations(TEST_INPUT, 10000)\n",
    "assert result == 5587, result"
   ]
  },
  {
   "cell_type": "code",
   "execution_count": 48,
   "metadata": {},
   "outputs": [
    {
     "data": {
      "text/plain": [
       "5433"
      ]
     },
     "execution_count": 48,
     "metadata": {},
     "output_type": "execute_result"
    }
   ],
   "source": [
    "result, *rest = do_iterations(PUZZLE_INPUT, 10000)\n",
    "result"
   ]
  },
  {
   "cell_type": "markdown",
   "metadata": {},
   "source": [
    "# Part 2\n",
    "\n",
    "As you go to remove the virus from the infected nodes, it evolves to resist your attempt.\n",
    "\n",
    "Now, before it infects a clean node, it will weaken it to disable your defenses. If it encounters an infected node, it will instead flag the node to be cleaned in the future. So:\n",
    "\n",
    "- Clean nodes become weakened.\n",
    "- Weakened nodes become infected.\n",
    "- Infected nodes become flagged.\n",
    "- Flagged nodes become clean.\n",
    "\n",
    "Every node is always in exactly one of the above states.\n",
    "\n",
    "The virus carrier still functions in a similar way, but now uses the following logic during its bursts of action:\n",
    "\n",
    "- Decide which way to turn based on the current node:\n",
    "  - If it is clean, it turns left.\n",
    "  - If it is weakened, it does not turn, and will continue moving in the same direction.\n",
    "  - If it is infected, it turns right.\n",
    "  - If it is flagged, it reverses direction, and will go back the way it came.\n",
    "- Modify the state of the current node, as described above.\n",
    "- The virus carrier moves forward one node in the direction it is facing.\n",
    "\n",
    "Start with the same map (still using `.` for clean and `#` for infected) and still with the virus carrier starting in the middle and facing up.\n",
    "\n",
    "Using the same initial state as the previous example, and drawing weakened as `W` and flagged as `F`, the middle of the infinite grid looks like this, with the virus carrier's position again marked with `[ ]`:\n",
    "\n",
    "```\n",
    ". . . . . . . . .\n",
    ". . . . . . . . .\n",
    ". . . . . . . . .\n",
    ". . . . . # . . .\n",
    ". . . #[.]. . . .\n",
    ". . . . . . . . .\n",
    ". . . . . . . . .\n",
    ". . . . . . . . .\n",
    "```\n",
    "\n",
    "This is the same as before, since no initial nodes are weakened or flagged. The virus carrier is on a clean node, so it still turns left, instead weakens the node, and moves left:\n",
    "\n",
    "```\n",
    ". . . . . . . . .\n",
    ". . . . . . . . .\n",
    ". . . . . . . . .\n",
    ". . . . . # . . .\n",
    ". . .[#]W . . . .\n",
    ". . . . . . . . .\n",
    ". . . . . . . . .\n",
    ". . . . . . . . .\n",
    "```\n",
    "\n",
    "The virus carrier is on an infected node, so it still turns right, instead flags the node, and moves up:\n",
    "\n",
    "```\n",
    ". . . . . . . . .\n",
    ". . . . . . . . .\n",
    ". . . . . . . . .\n",
    ". . .[.]. # . . .\n",
    ". . . F W . . . .\n",
    ". . . . . . . . .\n",
    ". . . . . . . . .\n",
    ". . . . . . . . .\n",
    "```\n",
    "\n",
    "This process repeats three more times, ending on the previously-flagged node and facing right:\n",
    "\n",
    "```\n",
    ". . . . . . . . .\n",
    ". . . . . . . . .\n",
    ". . . . . . . . .\n",
    ". . W W . # . . .\n",
    ". . W[F]W . . . .\n",
    ". . . . . . . . .\n",
    ". . . . . . . . .\n",
    ". . . . . . . . .\n",
    "```\n",
    "\n",
    "Finding a flagged node, it reverses direction and cleans the node:\n",
    "\n",
    "```\n",
    ". . . . . . . . .\n",
    ". . . . . . . . .\n",
    ". . . . . . . . .\n",
    ". . W W . # . . .\n",
    ". .[W]. W . . . .\n",
    ". . . . . . . . .\n",
    ". . . . . . . . .\n",
    ". . . . . . . . .\n",
    "```\n",
    "\n",
    "The weakened node becomes infected, and it continues in the same direction:\n",
    "\n",
    "```\n",
    ". . . . . . . . .\n",
    ". . . . . . . . .\n",
    ". . . . . . . . .\n",
    ". . W W . # . . .\n",
    ".[.]# . W . . . .\n",
    ". . . . . . . . .\n",
    ". . . . . . . . .\n",
    ". . . . . . . . .\n",
    "```\n",
    "\n",
    "Of the first 100 bursts, 26 will result in infection. Unfortunately, another feature of this evolved virus is speed; of the first 10000000 bursts, 2511944 will result in infection.\n",
    "\n",
    "Given your actual map, after 10000000 bursts of activity, how many bursts cause a node to become infected? (Do not count nodes that begin infected.)"
   ]
  },
  {
   "cell_type": "code",
   "execution_count": 57,
   "metadata": {},
   "outputs": [],
   "source": [
    "moves2 = {\n",
    "    'n': (0, 1),\n",
    "    's': (0, -1),\n",
    "    'e': (1, 0),\n",
    "    'w': (-1, 0)\n",
    "}\n",
    "\n",
    "turns2 = {\n",
    "    'n': {'left': 'w', 'right': 'e', 'reverse': 's'},\n",
    "    's': {'left': 'e', 'right': 'w', 'reverse': 'n'},\n",
    "    'e': {'left': 'n', 'right': 's', 'reverse': 'w'},\n",
    "    'w': {'left': 's', 'right': 'n', 'reverse': 'e'}\n",
    "}"
   ]
  },
  {
   "cell_type": "code",
   "execution_count": 55,
   "metadata": {},
   "outputs": [],
   "source": [
    "def burst2(grid: dict, pos: tuple, dir_: str):\n",
    "    if grid[pos] == '.':\n",
    "        new_dir = turns2[dir_]['left']\n",
    "        grid[pos] = 'W'\n",
    "        new_pos = add(pos, moves[new_dir])\n",
    "        infected = False\n",
    "    elif grid[pos] == '#':\n",
    "        new_dir = turns2[dir_]['right']\n",
    "        grid[pos] = 'F'\n",
    "        new_pos = add(pos, moves[new_dir])\n",
    "        infected = False\n",
    "    elif grid[pos] == 'W':\n",
    "        new_dir = dir_\n",
    "        grid[pos] = '#'\n",
    "        new_pos = add(pos, moves[new_dir])\n",
    "        infected = True\n",
    "    elif grid[pos] == 'F':\n",
    "        new_dir = turns2[dir_]['reverse']\n",
    "        grid[pos] = '.'\n",
    "        new_pos = add(pos, moves[new_dir])\n",
    "        infected = False\n",
    "    return grid, new_pos, new_dir, infected"
   ]
  },
  {
   "cell_type": "code",
   "execution_count": 51,
   "metadata": {},
   "outputs": [],
   "source": [
    "def do_iterations2(grid: dict, iterations: int) -> int:\n",
    "    grid = grid.copy()\n",
    "    pos = (0, 0)\n",
    "    dir_ = 'n'\n",
    "    infected_count = 0\n",
    "    \n",
    "    for _ in range(iterations):\n",
    "        _, pos, dir_, infected = burst2(grid, pos, dir_)\n",
    "        infected_count += infected\n",
    "    \n",
    "    return infected_count, grid, pos, dir_"
   ]
  },
  {
   "cell_type": "code",
   "execution_count": 59,
   "metadata": {},
   "outputs": [],
   "source": [
    "result, *rest = do_iterations2(TEST_INPUT, 7)\n",
    "assert result == 1, result\n",
    "result, *rest = do_iterations2(TEST_INPUT, 100)\n",
    "assert result == 26, result"
   ]
  },
  {
   "cell_type": "code",
   "execution_count": 60,
   "metadata": {},
   "outputs": [
    {
     "name": "stdout",
     "output_type": "stream",
     "text": [
      "CPU times: user 14.7 s, sys: 96.7 ms, total: 14.8 s\n",
      "Wall time: 15.1 s\n"
     ]
    }
   ],
   "source": [
    "%%time\n",
    "result, *rest = do_iterations2(TEST_INPUT, 10000000)\n",
    "assert result == 2511944, result"
   ]
  },
  {
   "cell_type": "code",
   "execution_count": 61,
   "metadata": {},
   "outputs": [
    {
     "name": "stdout",
     "output_type": "stream",
     "text": [
      "Infections: 2512599\n",
      "CPU times: user 14.2 s, sys: 80 ms, total: 14.2 s\n",
      "Wall time: 14.4 s\n"
     ]
    }
   ],
   "source": [
    "%%time\n",
    "result, *rest = do_iterations2(PUZZLE_INPUT, 10000000)\n",
    "print('Infections:', result)"
   ]
  },
  {
   "cell_type": "code",
   "execution_count": null,
   "metadata": {},
   "outputs": [],
   "source": []
  }
 ],
 "metadata": {
  "kernelspec": {
   "display_name": "Python 3",
   "language": "python",
   "name": "python3"
  },
  "language_info": {
   "codemirror_mode": {
    "name": "ipython",
    "version": 3
   },
   "file_extension": ".py",
   "mimetype": "text/x-python",
   "name": "python",
   "nbconvert_exporter": "python",
   "pygments_lexer": "ipython3",
   "version": "3.6.3"
  }
 },
 "nbformat": 4,
 "nbformat_minor": 2
}
