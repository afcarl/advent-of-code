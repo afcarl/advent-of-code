{
 "cells": [
  {
   "cell_type": "markdown",
   "metadata": {},
   "source": [
    "# Part 1\n",
    "\n",
    "Diagnostics indicate that the local grid computing cluster has been contaminated with the Sporifica Virus. The grid computing cluster is a seemingly-infinite two-dimensional grid of compute nodes. Each node is either clean or infected by the virus.\n",
    "\n",
    "To prevent overloading the nodes (which would render them useless to the virus) or detection by system administrators, exactly one virus carrier moves through the network, infecting or cleaning nodes as it moves. The virus carrier is always located on a single node in the network (the current node) and keeps track of the direction it is facing.\n",
    "\n",
    "To avoid detection, the virus carrier works in bursts; in each burst, it wakes up, does some work, and goes back to sleep. The following steps are all executed in order one time each burst:\n",
    "\n",
    "- If the current node is infected, it turns to its right. Otherwise, it turns to its left. (Turning is done in-place; the current node does not change.)\n",
    "- If the current node is clean, it becomes infected. Otherwise, it becomes cleaned. (This is done after the node is considered for the purposes of changing direction.)\n",
    "- The virus carrier moves forward one node in the direction it is facing.\n",
    "\n",
    "Diagnostics have also provided a map of the node infection status (your puzzle input). Clean nodes are shown as `.`; infected nodes are shown as `#`. This map only shows the center of the grid; there are many more nodes beyond those shown, but none of them are currently infected.\n",
    "\n",
    "The virus carrier begins in the middle of the map facing up.\n",
    "\n",
    "For example, suppose you are given a map like this:\n",
    "\n",
    "```\n",
    "..#\n",
    "#..\n",
    "...\n",
    "```\n",
    "\n",
    "Then, the middle of the infinite grid looks like this, with the virus carrier's position marked with [ ]:\n",
    "\n",
    "```\n",
    ". . . . . . . . .\n",
    ". . . . . . . . .\n",
    ". . . . . . . . .\n",
    ". . . . . # . . .\n",
    ". . . #[.]. . . .\n",
    ". . . . . . . . .\n",
    ". . . . . . . . .\n",
    ". . . . . . . . .\n",
    "```\n",
    "\n",
    "The virus carrier is on a clean node, so it turns left, infects the node, and moves left:\n",
    "\n",
    "```\n",
    ". . . . . . . . .\n",
    ". . . . . . . . .\n",
    ". . . . . . . . .\n",
    ". . . . . # . . .\n",
    ". . .[#]# . . . .\n",
    ". . . . . . . . .\n",
    ". . . . . . . . .\n",
    ". . . . . . . . .\n",
    "```\n",
    "\n",
    "The virus carrier is on an infected node, so it turns right, cleans the node, and moves up:\n",
    "\n",
    "```\n",
    ". . . . . . . . .\n",
    ". . . . . . . . .\n",
    ". . . . . . . . .\n",
    ". . .[.]. # . . .\n",
    ". . . . # . . . .\n",
    ". . . . . . . . .\n",
    ". . . . . . . . .\n",
    ". . . . . . . . .\n",
    "```\n",
    "\n",
    "Four times in a row, the virus carrier finds a clean, infects it, turns left, and moves forward, ending in the same place and still facing up:\n",
    "\n",
    "```\n",
    ". . . . . . . . .\n",
    ". . . . . . . . .\n",
    ". . . . . . . . .\n",
    ". . #[#]. # . . .\n",
    ". . # # # . . . .\n",
    ". . . . . . . . .\n",
    ". . . . . . . . .\n",
    ". . . . . . . . .\n",
    "```\n",
    "\n",
    "Now on the same node as before, it sees an infection, which causes it to turn right, clean the node, and move forward:\n",
    "\n",
    "```\n",
    ". . . . . . . . .\n",
    ". . . . . . . . .\n",
    ". . . . . . . . .\n",
    ". . # .[.]# . . .\n",
    ". . # # # . . . .\n",
    ". . . . . . . . .\n",
    ". . . . . . . . .\n",
    ". . . . . . . . .\n",
    "```\n",
    "\n",
    "After the above actions, a total of 7 bursts of activity had taken place. Of them, 5 bursts of activity caused an infection.\n",
    "\n",
    "After a total of 70, the grid looks like this, with the virus carrier facing up:\n",
    "\n",
    "```\n",
    ". . . . . # # . .\n",
    ". . . . # . . # .\n",
    ". . . # . . . . #\n",
    ". . # . #[.]. . #\n",
    ". . # . # . . # .\n",
    ". . . . . # # . .\n",
    ". . . . . . . . .\n",
    ". . . . . . . . .\n",
    "```\n",
    "\n",
    "By this time, 41 bursts of activity caused an infection (though most of those nodes have since been cleaned).\n",
    "\n",
    "After a total of 10000 bursts of activity, 5587 bursts will have caused an infection.\n",
    "\n",
    "Given your actual map, after 10000 bursts of activity, how many bursts cause a node to become infected? (Do not count nodes that begin infected.)"
   ]
  },
  {
   "cell_type": "code",
   "execution_count": 36,
   "metadata": {},
   "outputs": [],
   "source": [
    "from collections import defaultdict\n",
    "from io import StringIO\n",
    "from itertools import chain, product\n",
    "from textwrap import dedent"
   ]
  },
  {
   "cell_type": "code",
   "execution_count": 16,
   "metadata": {},
   "outputs": [],
   "source": [
    "def load_grid(rows):\n",
    "    grid = defaultdict(lambda: '.')\n",
    "    grid_size = None\n",
    "    for row_n, row in enumerate(rows):\n",
    "        row = row.strip()\n",
    "        if grid_size is None:\n",
    "            grid_size = len(row)\n",
    "            middle = grid_size // 2\n",
    "        grid.update(((col_n - middle, middle - row_n), c) for col_n, c in enumerate(row))\n",
    "    return grid"
   ]
  },
  {
   "cell_type": "code",
   "execution_count": 41,
   "metadata": {},
   "outputs": [],
   "source": [
    "def _test_input():\n",
    "    return load_grid(StringIO(dedent(\"\"\"\\\n",
    "        ..#\n",
    "        #..\n",
    "        ...\n",
    "        \"\"\")))\n",
    "TEST_INPUT = _test_input()"
   ]
  },
  {
   "cell_type": "code",
   "execution_count": 19,
   "metadata": {},
   "outputs": [],
   "source": [
    "def _puzzle_input():\n",
    "    with open('./inputs/day22/input.txt') as f:\n",
    "        return load_grid(f)\n",
    "PUZZLE_INPUT = _puzzle_input()"
   ]
  },
  {
   "cell_type": "code",
   "execution_count": 44,
   "metadata": {},
   "outputs": [],
   "source": [
    "def draw_grid(grid: dict):\n",
    "    grid_size = max(abs(x) for x in chain.from_iterable(grid.keys()))\n",
    "    grid_str = '\\n'.join(\n",
    "        ''.join(grid[(col_n, row_n)] for col_n in range(-grid_size, grid_size + 1))\n",
    "        for row_n in range(grid_size, -grid_size - 1, -1))\n",
    "    print(grid_str)"
   ]
  },
  {
   "cell_type": "code",
   "execution_count": 45,
   "metadata": {},
   "outputs": [
    {
     "name": "stdout",
     "output_type": "stream",
     "text": [
      "..#\n",
      "#..\n",
      "...\n"
     ]
    }
   ],
   "source": [
    "draw_grid(TEST_INPUT)"
   ]
  },
  {
   "cell_type": "code",
   "execution_count": 1,
   "metadata": {},
   "outputs": [],
   "source": [
    "moves = {\n",
    "    'n': (0, 1),\n",
    "    's': (0, -1),\n",
    "    'e': (1, 0),\n",
    "    'w': (-1, 0)\n",
    "}\n",
    "\n",
    "turns = {\n",
    "    'n': {'left': 'w', 'right': 'e'},\n",
    "    's': {'left': 'e', 'right': 'w'},\n",
    "    'e': {'left': 'n', 'right': 's'},\n",
    "    'w': {'left': 's', 'right': 'n'}\n",
    "}"
   ]
  },
  {
   "cell_type": "code",
   "execution_count": 20,
   "metadata": {},
   "outputs": [],
   "source": [
    "def add(p1, p2):\n",
    "    return (p1[0] + p2[0], p1[1] + p2[1])"
   ]
  },
  {
   "cell_type": "code",
   "execution_count": 26,
   "metadata": {},
   "outputs": [],
   "source": [
    "def burst(grid: dict, pos: tuple, dir_: str):\n",
    "    if grid[pos] == '.':\n",
    "        new_dir = turns[dir_]['left']\n",
    "        grid[pos] = '#'\n",
    "        new_pos = add(pos, moves[new_dir])\n",
    "        infected = True\n",
    "    else:\n",
    "        new_dir = turns[dir_]['right']\n",
    "        grid[pos] = '.'\n",
    "        new_pos = add(pos, moves[new_dir])\n",
    "        infected = False\n",
    "    return grid, new_pos, new_dir, infected"
   ]
  },
  {
   "cell_type": "code",
   "execution_count": 29,
   "metadata": {},
   "outputs": [],
   "source": [
    "def do_iterations(grid: dict, iterations: int) -> int:\n",
    "    grid = grid.copy()\n",
    "    pos = (0, 0)\n",
    "    dir_ = 'n'\n",
    "    infected_count = 0\n",
    "    \n",
    "    for _ in range(iterations):\n",
    "        _, pos, dir_, infected = burst(grid, pos, dir_)\n",
    "        infected_count += infected\n",
    "    \n",
    "    return infected_count, grid, pos, dir_"
   ]
  },
  {
   "cell_type": "code",
   "execution_count": 47,
   "metadata": {},
   "outputs": [],
   "source": [
    "result, *rest = do_iterations(TEST_INPUT, 7)\n",
    "assert result == 5, result\n",
    "result, *rest = do_iterations(TEST_INPUT, 70)\n",
    "assert result == 41, result\n",
    "result, *rest = do_iterations(TEST_INPUT, 10000)\n",
    "assert result == 5587, result"
   ]
  },
  {
   "cell_type": "code",
   "execution_count": 48,
   "metadata": {},
   "outputs": [
    {
     "data": {
      "text/plain": [
       "5433"
      ]
     },
     "execution_count": 48,
     "metadata": {},
     "output_type": "execute_result"
    }
   ],
   "source": [
    "result, *rest = do_iterations(PUZZLE_INPUT, 10000)\n",
    "result"
   ]
  },
  {
   "cell_type": "code",
   "execution_count": null,
   "metadata": {},
   "outputs": [],
   "source": []
  }
 ],
 "metadata": {
  "kernelspec": {
   "display_name": "Python 3",
   "language": "python",
   "name": "python3"
  },
  "language_info": {
   "codemirror_mode": {
    "name": "ipython",
    "version": 3
   },
   "file_extension": ".py",
   "mimetype": "text/x-python",
   "name": "python",
   "nbconvert_exporter": "python",
   "pygments_lexer": "ipython3",
   "version": "3.6.3"
  }
 },
 "nbformat": 4,
 "nbformat_minor": 2
}
